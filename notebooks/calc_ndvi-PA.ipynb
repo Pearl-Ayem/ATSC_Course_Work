{
 "cells": [
  {
   "cell_type": "markdown",
   "metadata": {
    "toc": true
   },
   "source": [
    "<h1>Table of Contents<span class=\"tocSkip\"></span></h1>\n",
    "<div class=\"toc\"><ul class=\"toc-item\"><li><span><a href=\"#Introduction\" data-toc-modified-id=\"Introduction-1\"><span class=\"toc-item-num\">1&nbsp;&nbsp;</span>Introduction</a></span></li><li><span><a href=\"#Get-the-vancouver-image\" data-toc-modified-id=\"Get-the-vancouver-image-2\"><span class=\"toc-item-num\">2&nbsp;&nbsp;</span>Get the vancouver image</a></span></li><li><span><a href=\"#Read-in-the-bands--4-(red)-and-5-(near-infrared)\" data-toc-modified-id=\"Read-in-the-bands--4-(red)-and-5-(near-infrared)-3\"><span class=\"toc-item-num\">3&nbsp;&nbsp;</span>Read in the bands  4 (red) and 5 (near infrared)</a></span></li><li><span><a href=\"#Find-the-toa-reflectance-for-each-channel\" data-toc-modified-id=\"Find-the-toa-reflectance-for-each-channel-4\"><span class=\"toc-item-num\">4&nbsp;&nbsp;</span>Find the toa reflectance for each channel</a></span></li><li><span><a href=\"#Silence-annoying-warnings-from-numpy\" data-toc-modified-id=\"Silence-annoying-warnings-from-numpy-5\"><span class=\"toc-item-num\">5&nbsp;&nbsp;</span>Silence annoying warnings from numpy</a></span></li><li><span><a href=\"#NIR-is-much-more-reflective-than-red\" data-toc-modified-id=\"NIR-is-much-more-reflective-than-red-6\"><span class=\"toc-item-num\">6&nbsp;&nbsp;</span>NIR is much more reflective than red</a></span></li><li><span><a href=\"#Calculate-the-ndvi\" data-toc-modified-id=\"Calculate-the-ndvi-7\"><span class=\"toc-item-num\">7&nbsp;&nbsp;</span>Calculate the ndvi</a></span></li><li><span><a href=\"#Does-the-reflectance-step-matter?\" data-toc-modified-id=\"Does-the-reflectance-step-matter?-8\"><span class=\"toc-item-num\">8&nbsp;&nbsp;</span>Does the reflectance step matter?</a></span></li></ul></div>"
   ]
  },
  {
   "cell_type": "markdown",
   "metadata": {},
   "source": [
    "# Introduction\n",
    "\n",
    "This notebook reads in the red, and near-ir bands from a landsat 8 image\n",
    "and calculates the [ndvi](https://en.wikipedia.org/wiki/Normalized_difference_vegetation_index), defined as \n",
    "\n",
    "$$ndvi = (nir - red)/(nir + red)$$\n",
    "\n",
    "where nir and red are the \n",
    "respective spectral directional reflectances."
   ]
  },
  {
   "cell_type": "code",
   "execution_count": 4,
   "metadata": {
    "scrolled": true
   },
   "outputs": [
    {
     "ename": "ModuleNotFoundError",
     "evalue": "No module named 'a301'",
     "output_type": "error",
     "traceback": [
      "\u001b[1;31m---------------------------------------------------------------------------\u001b[0m",
      "\u001b[1;31mModuleNotFoundError\u001b[0m                       Traceback (most recent call last)",
      "\u001b[1;32m<ipython-input-4-e13d3ba0a823>\u001b[0m in \u001b[0;36m<module>\u001b[1;34m()\u001b[0m\n\u001b[0;32m      1\u001b[0m \u001b[1;32mfrom\u001b[0m \u001b[0mpathlib\u001b[0m \u001b[1;32mimport\u001b[0m \u001b[0mPath\u001b[0m\u001b[1;33m\u001b[0m\u001b[0m\n\u001b[1;32m----> 2\u001b[1;33m \u001b[1;32mfrom\u001b[0m \u001b[0ma301\u001b[0m\u001b[1;33m.\u001b[0m\u001b[0mutils\u001b[0m\u001b[1;33m.\u001b[0m\u001b[0mdata_read\u001b[0m \u001b[1;32mimport\u001b[0m \u001b[0mdownload\u001b[0m\u001b[1;33m\u001b[0m\u001b[0m\n\u001b[0m\u001b[0;32m      3\u001b[0m \u001b[1;32mimport\u001b[0m \u001b[0mnumpy\u001b[0m \u001b[1;32mas\u001b[0m \u001b[0mnp\u001b[0m\u001b[1;33m\u001b[0m\u001b[0m\n\u001b[0;32m      4\u001b[0m \u001b[1;32mimport\u001b[0m \u001b[0mpprint\u001b[0m\u001b[1;33m\u001b[0m\u001b[0m\n\u001b[0;32m      5\u001b[0m \u001b[1;32mfrom\u001b[0m \u001b[0mmatplotlib\u001b[0m \u001b[1;32mimport\u001b[0m \u001b[0mpyplot\u001b[0m \u001b[1;32mas\u001b[0m \u001b[0mplt\u001b[0m\u001b[1;33m\u001b[0m\u001b[0m\n",
      "\u001b[1;31mModuleNotFoundError\u001b[0m: No module named 'a301'"
     ]
    }
   ],
   "source": [
    "from pathlib import Path\n",
    "from a301.utils.data_read import download\n",
    "import numpy as np\n",
    "import pprint\n",
    "from matplotlib import pyplot as plt"
   ]
  },
  {
   "cell_type": "markdown",
   "metadata": {},
   "source": [
    "# Get the vancouver image"
   ]
  },
  {
   "cell_type": "code",
   "execution_count": 7,
   "metadata": {},
   "outputs": [
    {
     "ename": "ModuleNotFoundError",
     "evalue": "No module named 'a301'",
     "output_type": "error",
     "traceback": [
      "\u001b[1;31m---------------------------------------------------------------------------\u001b[0m",
      "\u001b[1;31mModuleNotFoundError\u001b[0m                       Traceback (most recent call last)",
      "\u001b[1;32m<ipython-input-7-928207a2756d>\u001b[0m in \u001b[0;36m<module>\u001b[1;34m()\u001b[0m\n\u001b[0;32m      1\u001b[0m \u001b[1;32mimport\u001b[0m \u001b[0mrasterio\u001b[0m\u001b[1;33m\u001b[0m\u001b[0m\n\u001b[1;32m----> 2\u001b[1;33m \u001b[1;32mimport\u001b[0m \u001b[0ma301\u001b[0m\u001b[1;33m\u001b[0m\u001b[0m\n\u001b[0m\u001b[0;32m      3\u001b[0m filenames=[\"LC08_L1TP_190031_20170528_20170615_01_T1_B4.TIF\",\n\u001b[0;32m      4\u001b[0m     \u001b[1;34m\"LC08_L1TP_190031_20170528_20170615_01_T1_B5.TIF\"\u001b[0m\u001b[1;33m,\u001b[0m\u001b[1;33m\u001b[0m\u001b[0m\n\u001b[0;32m      5\u001b[0m     \"LC08_L1TP_190031_20170528_20170615_01_T1_MTL.txt\"]\n",
      "\u001b[1;31mModuleNotFoundError\u001b[0m: No module named 'a301'"
     ]
    }
   ],
   "source": [
    "import rasterio\n",
    "import a301\n",
    "filenames=[\"LC08_L1TP_190031_20170528_20170615_01_T1_B4.TIF\",\n",
    "    \"LC08_L1TP_190031_20170528_20170615_01_T1_B5.TIF\",\n",
    "    \"LC08_L1TP_190031_20170528_20170615_01_T1_MTL.txt\"]\n",
    "dest_folder=a301.data_dir / Path(\"landsat8/italy\")"
   ]
  },
  {
   "cell_type": "code",
   "execution_count": 2,
   "metadata": {},
   "outputs": [
    {
     "ename": "NameError",
     "evalue": "name 'filenames' is not defined",
     "output_type": "error",
     "traceback": [
      "\u001b[1;31m---------------------------------------------------------------------------\u001b[0m",
      "\u001b[1;31mNameError\u001b[0m                                 Traceback (most recent call last)",
      "\u001b[1;32m<ipython-input-2-c7b5235cd162>\u001b[0m in \u001b[0;36m<module>\u001b[1;34m()\u001b[0m\n\u001b[1;32m----> 1\u001b[1;33m \u001b[1;32mfor\u001b[0m \u001b[0mthe_file\u001b[0m \u001b[1;32min\u001b[0m \u001b[0mfilenames\u001b[0m\u001b[1;33m:\u001b[0m\u001b[1;33m\u001b[0m\u001b[0m\n\u001b[0m\u001b[0;32m      2\u001b[0m     \u001b[0mlandsat_tif\u001b[0m \u001b[1;33m=\u001b[0m \u001b[0mPath\u001b[0m\u001b[1;33m(\u001b[0m\u001b[1;34m'landsat_scenes/l8_vancouver'\u001b[0m\u001b[1;33m)\u001b[0m \u001b[1;33m/\u001b[0m \u001b[0mPath\u001b[0m\u001b[1;33m(\u001b[0m\u001b[0mthe_file\u001b[0m\u001b[1;33m)\u001b[0m\u001b[1;33m\u001b[0m\u001b[0m\n\u001b[0;32m      3\u001b[0m     \u001b[0mdownload\u001b[0m\u001b[1;33m(\u001b[0m\u001b[0mstr\u001b[0m\u001b[1;33m(\u001b[0m\u001b[0mlandsat_tif\u001b[0m\u001b[1;33m)\u001b[0m\u001b[1;33m,\u001b[0m\u001b[0mdest_folder\u001b[0m\u001b[1;33m=\u001b[0m\u001b[0mdest_folder\u001b[0m\u001b[1;33m)\u001b[0m\u001b[1;33m\u001b[0m\u001b[0m\n\u001b[0;32m      4\u001b[0m \u001b[0mband2\u001b[0m\u001b[1;33m=\u001b[0m\u001b[0mlist\u001b[0m\u001b[1;33m(\u001b[0m\u001b[0mdest_folder\u001b[0m\u001b[1;33m.\u001b[0m\u001b[0mglob\u001b[0m\u001b[1;33m(\u001b[0m\u001b[1;34m\"*_B2.TIF\"\u001b[0m\u001b[1;33m)\u001b[0m\u001b[1;33m)\u001b[0m\u001b[1;33m[\u001b[0m\u001b[1;36m0\u001b[0m\u001b[1;33m]\u001b[0m\u001b[1;33m\u001b[0m\u001b[0m\n\u001b[0;32m      5\u001b[0m \u001b[0mband3\u001b[0m\u001b[1;33m=\u001b[0m\u001b[0mlist\u001b[0m\u001b[1;33m(\u001b[0m\u001b[0mdest_folder\u001b[0m\u001b[1;33m.\u001b[0m\u001b[0mglob\u001b[0m\u001b[1;33m(\u001b[0m\u001b[1;34m\"*_B3.TIF\"\u001b[0m\u001b[1;33m)\u001b[0m\u001b[1;33m)\u001b[0m\u001b[1;33m[\u001b[0m\u001b[1;36m0\u001b[0m\u001b[1;33m]\u001b[0m\u001b[1;33m\u001b[0m\u001b[0m\n",
      "\u001b[1;31mNameError\u001b[0m: name 'filenames' is not defined"
     ]
    }
   ],
   "source": [
    "for the_file in filenames:\n",
    "    landsat_tif = Path('landsat_scenes/l8_vancouver') / Path(the_file)\n",
    "    download(str(landsat_tif),dest_folder=dest_folder)\n",
    "band2=list(dest_folder.glob(\"*_B2.TIF\"))[0]\n",
    "band3=list(dest_folder.glob(\"*_B3.TIF\"))[0]\n",
    "band4=list(dest_folder.glob(\"*_B4.TIF\"))[0]\n",
    "band5=list(dest_folder.glob(\"*_B5.TIF\"))[0]\n",
    "mtl_file=list(dest_folder.glob(\"*MTL.txt\"))[0]\n",
    "print(landsat_tif)"
   ]
  },
  {
   "cell_type": "markdown",
   "metadata": {},
   "source": [
    "# Read in the bands  4 (red) and 5 (near infrared)\n",
    "\n",
    "Note that rasterio is a pretty complicated object with a lot of functionality.\n",
    "\n",
    "The full documentation is at https://rasterio.readthedocs.io/en/latest/\n",
    "\n",
    "Save the image profile, coordinate reference system (crs) and affine transform for inspection -- these will be the same for every band in the image"
   ]
  },
  {
   "cell_type": "code",
   "execution_count": 19,
   "metadata": {},
   "outputs": [
    {
     "name": "stderr",
     "output_type": "stream",
     "text": [
      "C:\\Users\\Pearl\\Anaconda3\\lib\\site-packages\\IPython\\core\\interactiveshell.py:2963: FutureWarning: The value of this property will change in version 1.0. Please see https://github.com/mapbox/rasterio/issues/86 for details.\n",
      "  exec(code_obj, self.user_global_ns, self.user_ns)\n"
     ]
    }
   ],
   "source": [
    "with rasterio.open(str(band4)) as b4_raster:\n",
    "    b4_data = b4_raster.read(1)\n",
    "    transform=b4_raster.transform\n",
    "    crs=b4_raster.crs\n",
    "    profile=b4_raster.profile\n",
    "with rasterio.open(str(band5)) as b5_raster:\n",
    "    b5_data = b5_raster.read(1)"
   ]
  },
  {
   "cell_type": "markdown",
   "metadata": {},
   "source": [
    "# Find the toa reflectance for each channel\n",
    "\n",
    "Use [toa_reflectance_8](https://github.com/phaustin/a301_code/blob/c2070ca26090dc4a7e612c1e9c4ed2d9e865ae5e/a301/landsat/toa_reflectance.py#L19) to turn band counts into reflectance."
   ]
  },
  {
   "cell_type": "code",
   "execution_count": 20,
   "metadata": {},
   "outputs": [
    {
     "name": "stdout",
     "output_type": "stream",
     "text": [
      "Scene LC81900312017148LGN00 center time is 2017-05-28 09:46:46\n"
     ]
    }
   ],
   "source": [
    "from a301.landsat.toa_reflectance import toa_reflectance_8\n",
    "out=toa_reflectance_8([4,5],mtl_file)"
   ]
  },
  {
   "cell_type": "markdown",
   "metadata": {},
   "source": [
    "# Silence annoying warnings from numpy"
   ]
  },
  {
   "cell_type": "code",
   "execution_count": 21,
   "metadata": {},
   "outputs": [
    {
     "data": {
      "text/plain": [
       "{'divide': 'ignore', 'over': 'warn', 'under': 'ignore', 'invalid': 'ignore'}"
      ]
     },
     "execution_count": 21,
     "metadata": {},
     "output_type": "execute_result"
    }
   ],
   "source": [
    "np.seterr(divide='ignore',invalid='ignore')"
   ]
  },
  {
   "cell_type": "markdown",
   "metadata": {},
   "source": [
    "# NIR is much more reflective than red"
   ]
  },
  {
   "cell_type": "code",
   "execution_count": 22,
   "metadata": {},
   "outputs": [
    {
     "data": {
      "image/png": "[encoded data removed]",
      "text/plain": [
       "<Figure size 432x288 with 1 Axes>"
      ]
     },
     "metadata": {},
     "output_type": "display_data"
    }
   ],
   "source": [
    "hit= (out[5] < 1.2) & (out[5] > 0)\n",
    "plt.hist(out[5][hit].flat)\n",
    "plt.title('band 5 reflectance');"
   ]
  },
  {
   "cell_type": "code",
   "execution_count": 23,
   "metadata": {},
   "outputs": [
    {
     "data": {
      "image/png": "[encoded data removed]",
      "text/plain": [
       "<Figure size 432x288 with 1 Axes>"
      ]
     },
     "metadata": {},
     "output_type": "display_data"
    }
   ],
   "source": [
    "hit= (out[4] < 1.2) & (out[4] > 0)\n",
    "plt.hist(out[4][hit].flat)\n",
    "plt.title('band 4 reflectance');"
   ]
  },
  {
   "cell_type": "markdown",
   "metadata": {},
   "source": [
    "# Calculate the ndvi"
   ]
  },
  {
   "cell_type": "code",
   "execution_count": 24,
   "metadata": {},
   "outputs": [],
   "source": [
    "ndvi = (out[5] - out[4])/(out[5] + out[4])"
   ]
  },
  {
   "cell_type": "code",
   "execution_count": 25,
   "metadata": {},
   "outputs": [
    {
     "data": {
      "image/png": "[encoded data removed]",
      "text/plain": [
       "<Figure size 432x288 with 1 Axes>"
      ]
     },
     "metadata": {},
     "output_type": "display_data"
    }
   ],
   "source": [
    "hit= (ndvi < 1.) & (ndvi > -1)\n",
    "plt.hist(ndvi[hit].flat)\n",
    "plt.title('ndvi');"
   ]
  },
  {
   "cell_type": "markdown",
   "metadata": {},
   "source": [
    "# Does the reflectance step matter?\n",
    "\n",
    "Check to see if you histograms look different when you do the ndvi with raw counts\n",
    "instead of reflectance."
   ]
  },
  {
   "cell_type": "code",
   "execution_count": null,
   "metadata": {},
   "outputs": [],
   "source": []
  }
 ],
 "metadata": {
  "kernelspec": {
   "display_name": "Python 3",
   "language": "python",
   "name": "python3"
  },
  "language_info": {
   "codemirror_mode": {
    "name": "ipython",
    "version": 3
   },
   "file_extension": ".py",
   "mimetype": "text/x-python",
   "name": "python",
   "nbconvert_exporter": "python",
   "pygments_lexer": "ipython3",
   "version": "3.6.5"
  },
  "toc": {
   "base_numbering": 1,
   "nav_menu": {},
   "number_sections": true,
   "sideBar": false,
   "skip_h1_title": false,
   "title_cell": "Table of Contents",
   "title_sidebar": "Contents",
   "toc_cell": true,
   "toc_position": {},
   "toc_section_display": true,
   "toc_window_display": false
  }
 },
 "nbformat": 4,
 "nbformat_minor": 2
}
