{
 "cells": [
  {
   "cell_type": "markdown",
   "metadata": {
    "toc": true
   },
   "source": [
    "<h1>Table of Contents<span class=\"tocSkip\"></span></h1>\n",
    "<div class=\"toc\"><ul class=\"toc-item\"><li><span><a href=\"#Assignment-5-Planck-integral-problem\" data-toc-modified-id=\"Assignment-5-Planck-integral-problem-1\"><span class=\"toc-item-num\">1&nbsp;&nbsp;</span>Assignment 5 Planck integral problem</a></span></li><li><span><a href=\"#Answer----write-your-function-in-the-cell-below\" data-toc-modified-id=\"Answer----write-your-function-in-the-cell-below-2\"><span class=\"toc-item-num\">2&nbsp;&nbsp;</span>Answer -- write your function in the cell below</a></span></li></ul></div>"
   ]
  },
  {
   "cell_type": "markdown",
   "metadata": {},
   "source": [
    "### Assignment 5 Planck integral problem\n",
    "\n",
    "Following the apprach of the [derivs_and_ints notebook]([https://clouds.eos.ubc.ca/~phil/courses/atsc301/coursebuild/html/derivs_and_ints.html)\n",
    "\n",
    "Verify Stull equation 2.15:\n",
    "\n",
    " $$\\int_0^\\infty  E^*_\\lambda(T)d\\lambda   =\\int_0^\\infty \\frac{\\pi h c^2}{\\lambda^5 \\left [ \\exp (h c/(\\lambda k_B T )) -1 \\right ] } d\\lambda = \\int_0^\\infty \\frac{c_1}{\\lambda^5 \\left [ \\exp (c_2/(\\lambda T )) -1 \\right ] } d\\lambda  = \\sigma_{SB} T^4$$\n",
    " \n",
    "For a temperature of 300 K."
   ]
  },
  {
   "cell_type": "markdown",
   "metadata": {},
   "source": [
    "### Answer -- write your function in the cell below\n",
    "\n",
    "It can use [a301.radiation.Elambda](https://clouds.eos.ubc.ca/~phil/courses/atsc301/_modules/a301/radiation.html#Elambda)"
   ]
  },
  {
   "cell_type": "code",
   "execution_count": 1,
   "metadata": {
    "deletable": false,
    "nbgrader": {
     "cell_type": "code",
     "checksum": "8a27066dd5598dccda4fc88510665e72",
     "grade": true,
     "grade_id": "cell-867d6cd3aae079d5",
     "locked": false,
     "points": 5,
     "schema_version": 2,
     "solution": true
    },
    "scrolled": true
   },
   "outputs": [
    {
     "ename": "ModuleNotFoundError",
     "evalue": "No module named 'a301'",
     "output_type": "error",
     "traceback": [
      "\u001b[1;31m---------------------------------------------------------------------------\u001b[0m",
      "\u001b[1;31mModuleNotFoundError\u001b[0m                       Traceback (most recent call last)",
      "\u001b[1;32m<ipython-input-1-443b7dd65be6>\u001b[0m in \u001b[0;36m<module>\u001b[1;34m()\u001b[0m\n\u001b[0;32m      1\u001b[0m \u001b[1;32mimport\u001b[0m \u001b[0mnumpy\u001b[0m \u001b[1;32mas\u001b[0m \u001b[0mnp\u001b[0m\u001b[1;33m\u001b[0m\u001b[0m\n\u001b[1;32m----> 2\u001b[1;33m \u001b[1;32mfrom\u001b[0m \u001b[0ma301\u001b[0m\u001b[1;33m.\u001b[0m\u001b[0mradiation\u001b[0m \u001b[1;32mimport\u001b[0m \u001b[0mElambda\u001b[0m\u001b[1;33m\u001b[0m\u001b[0m\n\u001b[0m\u001b[0;32m      3\u001b[0m \u001b[1;32mfrom\u001b[0m \u001b[0mmatplotlib\u001b[0m \u001b[1;32mimport\u001b[0m \u001b[0mpyplot\u001b[0m \u001b[1;32mas\u001b[0m \u001b[0mplt\u001b[0m\u001b[1;33m\u001b[0m\u001b[0m\n\u001b[0;32m      4\u001b[0m \u001b[1;33m\u001b[0m\u001b[0m\n\u001b[0;32m      5\u001b[0m \u001b[1;32mdef\u001b[0m \u001b[0mplanckint\u001b[0m\u001b[1;33m(\u001b[0m\u001b[0mwavelen_start\u001b[0m\u001b[1;33m,\u001b[0m\u001b[0mwavelen_stop\u001b[0m\u001b[1;33m,\u001b[0m\u001b[0mTemp\u001b[0m\u001b[1;33m,\u001b[0m\u001b[0mnpoints\u001b[0m\u001b[1;33m=\u001b[0m\u001b[1;36m10000\u001b[0m\u001b[1;33m)\u001b[0m\u001b[1;33m:\u001b[0m\u001b[1;33m\u001b[0m\u001b[0m\n",
      "\u001b[1;31mModuleNotFoundError\u001b[0m: No module named 'a301'"
     ]
    }
   ],
   "source": [
    "import numpy as np\n",
    "from a301.radiation import Elambda\n",
    "from matplotlib import pyplot as plt\n",
    "\n",
    "def planckint(wavelen_start,wavelen_stop,Temp,npoints=10000):\n",
    "    \"\"\"\n",
    "    Calculate the integrated blackbody radiant exitence (Stull 2.13)\n",
    "    between two wavelengths\n",
    "    \n",
    "    Parameters\n",
    "    ----------\n",
    "    \n",
    "      wavel_start: float\n",
    "            lower limit of integral (meters)\n",
    "            \n",
    "      wavel_stop: float\n",
    "            upper limit of integral (meters)\n",
    "           \n",
    "      Temp: float\n",
    "           temperature (K)\n",
    "           \n",
    "    Returns\n",
    "    -------\n",
    "    \n",
    "    Elambda:  float \n",
    "           integrated radiant fllux (W/m^2)\n",
    "    \"\"\"\n",
    "    ### BEGIN SOLUTION\n",
    "    wavelengths=np.linspace(wavelen_start,wavelen_stop,npoints)\n",
    "    flux = Elambda(wavelengths,Temp)\n",
    "    avg_flux = (flux[1:] + flux[:-1])/2.\n",
    "    integral = np.sum(avg_flux*np.diff(wavelengths))\n",
    "    return integral\n",
    "    ## END SOLUTION"
   ]
  },
  {
   "cell_type": "markdown",
   "metadata": {},
   "source": [
    "Place your own tests in the cell below.  Remember that you can use\n",
    "    \n",
    "    numpy.testing.assert_almost_equal\n",
    "\n",
    "to check to see if your integral matches the $\\sigma T^4$ to x decimal places.  I will\n",
    "test for decimal=1, i.e. I will run:\n",
    "\n",
    "assert_almost_equal(your_answer, my_answer,decimal=1)"
   ]
  },
  {
   "cell_type": "code",
   "execution_count": 15,
   "metadata": {},
   "outputs": [
    {
     "name": "stdout",
     "output_type": "stream",
     "text": [
      "numpy: 459.2996913721986, stefan-boltzman: 459.2997121027448\n",
      "do the answers match? (None means yes): None\n"
     ]
    }
   ],
   "source": [
    "from numpy.testing import assert_almost_equal\n",
    "from a301.radiation import sigma\n",
    "Temp=300.\n",
    "low = 0.01e-6\n",
    "high=5000e-6\n",
    "truth = sigma*Temp**4.\n",
    "flux=planckint(low,high,Temp,npoints=80000)\n",
    "test_result=assert_almost_equal(flux,truth,decimal=1)\n",
    "print(f\"numpy: {flux}, stefan-boltzman: {truth}\\n\"\n",
    "      f\"do the answers match? (None means yes): \"\n",
    "      f\"{test_result}\")"
   ]
  }
 ],
 "metadata": {
  "anaconda-cloud": {},
  "kernelspec": {
   "display_name": "Python 3",
   "language": "python",
   "name": "python3"
  },
  "language_info": {
   "codemirror_mode": {
    "name": "ipython",
    "version": 3
   },
   "file_extension": ".py",
   "mimetype": "text/x-python",
   "name": "python",
   "nbconvert_exporter": "python",
   "pygments_lexer": "ipython3",
   "version": "3.6.5"
  },
  "toc": {
   "base_numbering": 1,
   "nav_menu": {},
   "number_sections": true,
   "sideBar": false,
   "skip_h1_title": false,
   "title_cell": "Table of Contents",
   "title_sidebar": "Contents",
   "toc_cell": true,
   "toc_position": {},
   "toc_section_display": true,
   "toc_window_display": false
  }
 },
 "nbformat": 4,
 "nbformat_minor": 1
}
