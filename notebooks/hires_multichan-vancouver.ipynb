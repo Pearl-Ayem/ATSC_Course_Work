{
 "cells": [
  {
   "cell_type": "markdown",
   "metadata": {
    "toc": true
   },
   "source": [
    "<h1>Table of Contents<span class=\"tocSkip\"></span></h1>\n",
    "<div class=\"toc\"><ul class=\"toc-item\"><li><span><a href=\"#Introduction\" data-toc-modified-id=\"Introduction-1\"><span class=\"toc-item-num\">1&nbsp;&nbsp;</span>Introduction</a></span></li><li><span><a href=\"#Get-bands-3,-4--(green,-red)\" data-toc-modified-id=\"Get-bands-3,-4--(green,-red)-2\"><span class=\"toc-item-num\">2&nbsp;&nbsp;</span>Get bands 3, 4  (green, red)</a></span></li><li><span><a href=\"#Rename-the-band-5-tiff-file-created-by-the-image_zoom-notebook\" data-toc-modified-id=\"Rename-the-band-5-tiff-file-created-by-the-image_zoom-notebook-3\"><span class=\"toc-item-num\">3&nbsp;&nbsp;</span>Rename the band 5 tiff file created by the image_zoom notebook</a></span></li><li><span><a href=\"#Open-the-small-file-and-get-the-transform\" data-toc-modified-id=\"Open-the-small-file-and-get-the-transform-4\"><span class=\"toc-item-num\">4&nbsp;&nbsp;</span>Open the small file and get the transform</a></span></li><li><span><a href=\"#Use-the-transform-to-make-a-Window-with-the-correct-ul-corner\" data-toc-modified-id=\"Use-the-transform-to-make-a-Window-with-the-correct-ul-corner-5\"><span class=\"toc-item-num\">5&nbsp;&nbsp;</span>Use the transform to make a Window with the correct ul corner</a></span></li><li><span><a href=\"#Read-only-the-window-pixels-from-the-band-3,-4-files\" data-toc-modified-id=\"Read-only-the-window-pixels-from-the-band-3,-4-files-6\"><span class=\"toc-item-num\">6&nbsp;&nbsp;</span>Read only the window pixels from the band 3, 4 files</a></span></li><li><span><a href=\"#check-to-make-sure-the-read-worked\" data-toc-modified-id=\"check-to-make-sure-the-read-worked-7\"><span class=\"toc-item-num\">7&nbsp;&nbsp;</span>check to make sure the read worked</a></span></li><li><span><a href=\"#Compare-the-green-and-red-bands\" data-toc-modified-id=\"Compare-the-green-and-red-bands-8\"><span class=\"toc-item-num\">8&nbsp;&nbsp;</span>Compare the green and red bands</a></span></li><li><span><a href=\"#Write-out-a-new-composite\" data-toc-modified-id=\"Write-out-a-new-composite-9\"><span class=\"toc-item-num\">9&nbsp;&nbsp;</span>Write out a new composite</a></span></li></ul></div>"
   ]
  },
  {
   "cell_type": "markdown",
   "metadata": {},
   "source": [
    "# Introduction\n",
    "\n",
    "We've got a new tiff file for band 5 called small_file.tiff that was written out by the image_zoom notebook.  We can use the corners of that image to clip other bands and save\n",
    "us the trouble of working with the large original files.\n",
    "\n",
    "Below I use the [rasterio windows module](https://rasterio.readthedocs.io/en/latest/topics/windowed-rw.html) to read in only the part of the image that matches small_file.tiff"
   ]
  },
  {
   "cell_type": "code",
   "execution_count": 3,
   "metadata": {},
   "outputs": [],
   "source": [
    "import rasterio\n",
    "import a301\n",
    "import numpy as np\n",
    "from matplotlib import pyplot as plt\n",
    "from matplotlib.colors import Normalize\n",
    "from a301.landsat.landsat_metadata import landsat_metadata\n",
    "import cartopy\n",
    "from rasterio.windows import Window\n",
    "from pyproj import transform as proj_transform\n",
    "from pyproj import Proj\n",
    "from a301.landsat.toa_reflectance import calc_reflc_8\n",
    "import pprint\n",
    "from a301.utils.data_read import download\n",
    "from pathlib import Path\n",
    "from affine import Affine\n",
    "from IPython.display import Image\n"
   ]
  },
  {
   "cell_type": "markdown",
   "metadata": {},
   "source": [
    "# Get bands 3, 4  (green, red)"
   ]
  },
  {
   "cell_type": "code",
   "execution_count": 4,
   "metadata": {},
   "outputs": [
    {
     "name": "stdout",
     "output_type": "stream",
     "text": [
      "trying https://clouds.eos.ubc.ca/~phil/courses/atsc301/downloads/landsat_scenes/l8_vancouver/LC08_L1TP_047026_20150614_20180131_01_T1_B4.TIF\n",
      "writing to: C:\\Users\\Pearl\\Desktop\\ATSC 301\\a301_code\\data\\landsat8\\vancouver\\LC08_L1TP_047026_20150614_20180131_01_T1_B4.TIF\n",
      "\n",
      "LC08_L1TP_047026_20150614_20180131_01_T1_B4.TIF already exists\n",
      "and is 75252265 bytes\n",
      "will not overwrite\n",
      "\n",
      "trying https://clouds.eos.ubc.ca/~phil/courses/atsc301/downloads/landsat_scenes/l8_vancouver/LC08_L1TP_047026_20150614_20180131_01_T1_B3.TIF\n",
      "writing to: C:\\Users\\Pearl\\Desktop\\ATSC 301\\a301_code\\data\\landsat8\\vancouver\\LC08_L1TP_047026_20150614_20180131_01_T1_B3.TIF\n",
      "\n",
      "LC08_L1TP_047026_20150614_20180131_01_T1_B3.TIF already exists\n",
      "and is 74130783 bytes\n",
      "will not overwrite\n",
      "\n",
      "trying https://clouds.eos.ubc.ca/~phil/courses/atsc301/downloads/landsat_scenes/l8_vancouver/LC08_L1TP_047026_20150614_20180131_01_T1_MTL.txt\n",
      "writing to: C:\\Users\\Pearl\\Desktop\\ATSC 301\\a301_code\\data\\landsat8\\vancouver\\LC08_L1TP_047026_20150614_20180131_01_T1_MTL.txt\n",
      "\n",
      "LC08_L1TP_047026_20150614_20180131_01_T1_MTL.txt already exists\n",
      "and is 8702 bytes\n",
      "will not overwrite\n",
      "\n"
     ]
    }
   ],
   "source": [
    "filenames=[\"LC08_L1TP_047026_20150614_20180131_01_T1_B4.TIF\",\n",
    "    \"LC08_L1TP_047026_20150614_20180131_01_T1_B3.TIF\",\n",
    "    \"LC08_L1TP_047026_20150614_20180131_01_T1_MTL.txt\"]\n",
    "dest_folder=a301.data_dir / Path(\"landsat8/vancouver\")\n",
    "dest_folder.mkdir(parents=True, exist_ok=True)\n",
    "for the_file in filenames:\n",
    "    landsat_tif = Path('landsat_scenes/l8_vancouver') / Path(the_file)\n",
    "    download(str(landsat_tif),dest_folder=dest_folder)\n",
    "    \n",
    "band4_bigfile=list(dest_folder.glob(\"*20180131*B4.TIF\"))[0]\n",
    "band3_bigfile=list(dest_folder.glob(\"*20180131*B3.TIF\"))[0]\n",
    "meta_bigfile=list(dest_folder.glob(\"*20180131*MTL.txt\"))[0]\n",
    "with rasterio.open(band4_bigfile) as raster:\n",
    "    big_transform=raster.transform\n",
    "    big_profile=raster.profile"
   ]
  },
  {
   "cell_type": "markdown",
   "metadata": {},
   "source": [
    "# Rename the band 5 tiff file created by the image_zoom notebook\n",
    "\n",
    "Change it from small_file.tiff to the more descriptive band5_reflect.tiff\n",
    "Note that this will fail the second time this cell is executed, so ignore that error"
   ]
  },
  {
   "cell_type": "code",
   "execution_count": 6,
   "metadata": {},
   "outputs": [],
   "source": [
    "try:\n",
    "    tiff_filename=a301.data_dir / Path('small_file.tiff')   \n",
    "    band5_smallfile=a301.data_dir / Path('band5_reflect.tiff') \n",
    "    os.rename(tiff_filename,band5_smallfile)\n",
    "except FileNotFoundError:\n",
    "    pass"
   ]
  },
  {
   "cell_type": "markdown",
   "metadata": {},
   "source": [
    "# Open the small file and get the transform"
   ]
  },
  {
   "cell_type": "code",
   "execution_count": 7,
   "metadata": {},
   "outputs": [
    {
     "ename": "RasterioIOError",
     "evalue": "C:\\Users\\Pearl\\Desktop\\ATSC 301\\a301_code\\data\\band5_reflect.tiff: No such file or directory",
     "output_type": "error",
     "traceback": [
      "\u001b[1;31m---------------------------------------------------------------------------\u001b[0m",
      "\u001b[1;31mCPLE_OpenFailedError\u001b[0m                      Traceback (most recent call last)",
      "\u001b[1;32mrasterio\\_base.pyx\u001b[0m in \u001b[0;36mrasterio._base.DatasetBase.__init__\u001b[1;34m()\u001b[0m\n",
      "\u001b[1;32mrasterio\\_shim.pyx\u001b[0m in \u001b[0;36mrasterio._shim.open_dataset\u001b[1;34m()\u001b[0m\n",
      "\u001b[1;32mrasterio\\_err.pyx\u001b[0m in \u001b[0;36mrasterio._err.exc_wrap_pointer\u001b[1;34m()\u001b[0m\n",
      "\u001b[1;31mCPLE_OpenFailedError\u001b[0m: C:\\Users\\Pearl\\Desktop\\ATSC 301\\a301_code\\data\\band5_reflect.tiff: No such file or directory",
      "\nDuring handling of the above exception, another exception occurred:\n",
      "\u001b[1;31mRasterioIOError\u001b[0m                           Traceback (most recent call last)",
      "\u001b[1;32m<ipython-input-7-6f2f2b9c78d5>\u001b[0m in \u001b[0;36m<module>\u001b[1;34m()\u001b[0m\n\u001b[1;32m----> 1\u001b[1;33m \u001b[1;32mwith\u001b[0m \u001b[0mrasterio\u001b[0m\u001b[1;33m.\u001b[0m\u001b[0mopen\u001b[0m\u001b[1;33m(\u001b[0m\u001b[0mband5_smallfile\u001b[0m\u001b[1;33m)\u001b[0m \u001b[1;32mas\u001b[0m \u001b[0mraster\u001b[0m\u001b[1;33m:\u001b[0m\u001b[1;33m\u001b[0m\u001b[0m\n\u001b[0m\u001b[0;32m      2\u001b[0m     \u001b[0msmall_transform\u001b[0m\u001b[1;33m=\u001b[0m\u001b[0mraster\u001b[0m\u001b[1;33m.\u001b[0m\u001b[0mtransform\u001b[0m\u001b[1;33m\u001b[0m\u001b[0m\n\u001b[0;32m      3\u001b[0m     \u001b[0mcrs\u001b[0m\u001b[1;33m=\u001b[0m\u001b[0mraster\u001b[0m\u001b[1;33m.\u001b[0m\u001b[0mcrs\u001b[0m\u001b[1;33m\u001b[0m\u001b[0m\n\u001b[0;32m      4\u001b[0m     \u001b[0msmall_profile\u001b[0m\u001b[1;33m=\u001b[0m\u001b[0mraster\u001b[0m\u001b[1;33m.\u001b[0m\u001b[0mprofile\u001b[0m\u001b[1;33m\u001b[0m\u001b[0m\n\u001b[0;32m      5\u001b[0m     \u001b[0mb5_refl\u001b[0m\u001b[1;33m=\u001b[0m\u001b[0mraster\u001b[0m\u001b[1;33m.\u001b[0m\u001b[0mread\u001b[0m\u001b[1;33m(\u001b[0m\u001b[1;36m1\u001b[0m\u001b[1;33m)\u001b[0m\u001b[1;33m\u001b[0m\u001b[0m\n",
      "\u001b[1;32m~\\Anaconda3\\lib\\site-packages\\rasterio\\env.py\u001b[0m in \u001b[0;36mwrapper\u001b[1;34m(*args, **kwds)\u001b[0m\n\u001b[0;32m    419\u001b[0m \u001b[1;33m\u001b[0m\u001b[0m\n\u001b[0;32m    420\u001b[0m         \u001b[1;32mwith\u001b[0m \u001b[0menv_ctor\u001b[0m\u001b[1;33m(\u001b[0m\u001b[0msession\u001b[0m\u001b[1;33m=\u001b[0m\u001b[0msession\u001b[0m\u001b[1;33m)\u001b[0m\u001b[1;33m:\u001b[0m\u001b[1;33m\u001b[0m\u001b[0m\n\u001b[1;32m--> 421\u001b[1;33m             \u001b[1;32mreturn\u001b[0m \u001b[0mf\u001b[0m\u001b[1;33m(\u001b[0m\u001b[1;33m*\u001b[0m\u001b[0margs\u001b[0m\u001b[1;33m,\u001b[0m \u001b[1;33m**\u001b[0m\u001b[0mkwds\u001b[0m\u001b[1;33m)\u001b[0m\u001b[1;33m\u001b[0m\u001b[0m\n\u001b[0m\u001b[0;32m    422\u001b[0m \u001b[1;33m\u001b[0m\u001b[0m\n\u001b[0;32m    423\u001b[0m     \u001b[1;32mreturn\u001b[0m \u001b[0mwrapper\u001b[0m\u001b[1;33m\u001b[0m\u001b[0m\n",
      "\u001b[1;32m~\\Anaconda3\\lib\\site-packages\\rasterio\\__init__.py\u001b[0m in \u001b[0;36mopen\u001b[1;34m(fp, mode, driver, width, height, count, crs, transform, dtype, nodata, sharing, **kwargs)\u001b[0m\n\u001b[0;32m    215\u001b[0m         \u001b[1;31m# None.\u001b[0m\u001b[1;33m\u001b[0m\u001b[1;33m\u001b[0m\u001b[0m\n\u001b[0;32m    216\u001b[0m         \u001b[1;32mif\u001b[0m \u001b[0mmode\u001b[0m \u001b[1;33m==\u001b[0m \u001b[1;34m'r'\u001b[0m\u001b[1;33m:\u001b[0m\u001b[1;33m\u001b[0m\u001b[0m\n\u001b[1;32m--> 217\u001b[1;33m             \u001b[0ms\u001b[0m \u001b[1;33m=\u001b[0m \u001b[0mDatasetReader\u001b[0m\u001b[1;33m(\u001b[0m\u001b[0mpath\u001b[0m\u001b[1;33m,\u001b[0m \u001b[0mdriver\u001b[0m\u001b[1;33m=\u001b[0m\u001b[0mdriver\u001b[0m\u001b[1;33m,\u001b[0m \u001b[1;33m**\u001b[0m\u001b[0mkwargs\u001b[0m\u001b[1;33m)\u001b[0m\u001b[1;33m\u001b[0m\u001b[0m\n\u001b[0m\u001b[0;32m    218\u001b[0m         \u001b[1;32melif\u001b[0m \u001b[0mmode\u001b[0m \u001b[1;33m==\u001b[0m \u001b[1;34m'r+'\u001b[0m\u001b[1;33m:\u001b[0m\u001b[1;33m\u001b[0m\u001b[0m\n\u001b[0;32m    219\u001b[0m             \u001b[0ms\u001b[0m \u001b[1;33m=\u001b[0m \u001b[0mget_writer_for_path\u001b[0m\u001b[1;33m(\u001b[0m\u001b[0mpath\u001b[0m\u001b[1;33m)\u001b[0m\u001b[1;33m(\u001b[0m\u001b[0mpath\u001b[0m\u001b[1;33m,\u001b[0m \u001b[0mmode\u001b[0m\u001b[1;33m,\u001b[0m \u001b[0mdriver\u001b[0m\u001b[1;33m=\u001b[0m\u001b[0mdriver\u001b[0m\u001b[1;33m,\u001b[0m \u001b[1;33m**\u001b[0m\u001b[0mkwargs\u001b[0m\u001b[1;33m)\u001b[0m\u001b[1;33m\u001b[0m\u001b[0m\n",
      "\u001b[1;32mrasterio\\_base.pyx\u001b[0m in \u001b[0;36mrasterio._base.DatasetBase.__init__\u001b[1;34m()\u001b[0m\n",
      "\u001b[1;31mRasterioIOError\u001b[0m: C:\\Users\\Pearl\\Desktop\\ATSC 301\\a301_code\\data\\band5_reflect.tiff: No such file or directory"
     ]
    }
   ],
   "source": [
    "with rasterio.open(band5_smallfile) as raster:\n",
    "    small_transform=raster.transform\n",
    "    crs=raster.crs\n",
    "    small_profile=raster.profile\n",
    "    b5_refl=raster.read(1)\n",
    "    "
   ]
  },
  {
   "cell_type": "markdown",
   "metadata": {},
   "source": [
    "# Use the transform to make a Window with the correct ul corner"
   ]
  },
  {
   "cell_type": "code",
   "execution_count": null,
   "metadata": {},
   "outputs": [],
   "source": [
    "metadata=landsat_metadata(meta_bigfile)    \n",
    "small_ul_xy = small_transform*(0,0)\n",
    "big_ul_col_row = ~big_transform*(small_ul_xy[:])\n",
    "big_col, big_row = int(big_ul_col_row[0]),int(big_ul_col_row[1])\n",
    "small_height,small_width = b5_refl.shape\n",
    "small_window=Window(big_col, big_row, small_width, small_height)"
   ]
  },
  {
   "cell_type": "markdown",
   "metadata": {},
   "source": [
    "# Read only the window pixels from the band 3, 4 files"
   ]
  },
  {
   "cell_type": "code",
   "execution_count": null,
   "metadata": {},
   "outputs": [],
   "source": [
    "refl_dict=dict()\n",
    "refl_dict[5]=b5_refl\n",
    "for bandnum,filepath in zip([3,4],[band3_bigfile,band4_bigfile]):\n",
    "    with rasterio.open(filepath) as src:\n",
    "        counts = src.read(1, window=small_window)\n",
    "        refl = calc_reflc_8(counts,bandnum,metadata)\n",
    "        refl_dict[bandnum]=refl"
   ]
  },
  {
   "cell_type": "markdown",
   "metadata": {},
   "source": [
    "# check to make sure the read worked"
   ]
  },
  {
   "cell_type": "code",
   "execution_count": null,
   "metadata": {},
   "outputs": [],
   "source": [
    "vmin=0.\n",
    "vmax=0.1\n",
    "cmap_ref=plt.get_cmap('viridis')\n",
    "cmap_ref.set_over('c')\n",
    "cmap_ref.set_under('b',alpha=0.2)\n",
    "cmap_ref.set_bad('0.75') #75% grey\n",
    "the_norm=Normalize(vmin=vmin,vmax=vmax,clip=False)\n",
    "fig, ax1 = plt.subplots(1,1,figsize=(15,10))\n",
    "cax=ax1.imshow(refl_dict[3],norm=the_norm,cmap=cmap_ref)\n",
    "fig.colorbar(cax,ax=ax1)\n",
    "ax1.set_title('band 3 green reflectance');"
   ]
  },
  {
   "cell_type": "markdown",
   "metadata": {},
   "source": [
    "# Compare the green and red bands"
   ]
  },
  {
   "cell_type": "code",
   "execution_count": null,
   "metadata": {},
   "outputs": [],
   "source": [
    "fig, (ax1,ax2,ax3) = plt.subplots(1,3,figsize=(15,4))\n",
    "diff = refl_dict[5] - refl_dict[4]\n",
    "ax1.hist(refl_dict[3][~np.isnan(refl_dict[3])].flat)\n",
    "ax2.hist(refl_dict[4][~np.isnan(refl_dict[4])].flat)\n",
    "ax3.hist(diff[~np.isnan(diff)].flat)\n",
    "ax1.set(title='band 3 green refl',xlim=[0,0.3])\n",
    "ax2.set(title='band 4 red refl',xlim=[0,0.3])\n",
    "ax3.set(title='red - green',xlim=[-0.2,0.2]);"
   ]
  },
  {
   "cell_type": "markdown",
   "metadata": {},
   "source": [
    "# Write out a new composite\n",
    "\n",
    "ESRI suggests that vegetation looks good if RGB is mapped to [bands 5,4,3](https://www.esri.com/arcgis-blog/products/product/imagery/band-combinations-for-landsat-8).  Reuse the code from the rasterio_demo notebook"
   ]
  },
  {
   "cell_type": "code",
   "execution_count": null,
   "metadata": {},
   "outputs": [],
   "source": [
    "from skimage import  img_as_ubyte\n",
    "from skimage import exposure\n",
    "\n",
    "height,width = refl_dict[5].shape\n",
    "num_chans=3\n",
    "channels=np.empty([num_chans,height,width],dtype=refl_dict[5].dtype)\n",
    "for index,the_chan in enumerate([5,4,3]):\n",
    "    channels[index,:,:] = refl_dict[the_chan]\n",
    "\n",
    "tif_filename= a301.data_dir / Path('vancouver_543.tiff')\n",
    "with rasterio.open(tif_filename,'w',driver='GTiff',\n",
    "                   height=height,width=width,\n",
    "                   count=num_chans,dtype=channels.dtype,\n",
    "                   crs=crs,transform=small_transform, nodata=0.0) as dst:\n",
    "    dst.write(channels)\n",
    "    keys=['5','4','3']\n",
    "    for index,chan_name in enumerate(keys):\n",
    "        dst.update_tags(index+1,name=chan_name)\n",
    "\n",
    "        \n",
    "with rasterio.open(tif_filename) as infile:\n",
    "    print(f\"\\nnew profile: {pprint.pformat(infile.profile)}\\n\")\n",
    "    profile=infile.profile\n",
    "\n",
    "int_channels=np.empty([num_chans,height,width],dtype=np.uint8)    \n",
    "profile['driver']='PNG'  \n",
    "profile['dtype'] = 'uint8'\n",
    "png_filename=tif_filename.with_suffix('.png')\n",
    "with rasterio.open(png_filename, 'w', **profile) as dst:\n",
    "    for index,chan in enumerate([5,4,3]):\n",
    "        image = refl_dict[chan]\n",
    "        stretched=exposure.equalize_hist(image)   \n",
    "        int_channels[index,:,:]=img_as_ubyte(stretched)[:,:]\n",
    "    dst.write(int_channels)"
   ]
  },
  {
   "cell_type": "code",
   "execution_count": null,
   "metadata": {},
   "outputs": [],
   "source": [
    "Image(str(png_filename))"
   ]
  }
 ],
 "metadata": {
  "kernelspec": {
   "display_name": "Python 3",
   "language": "python",
   "name": "python3"
  },
  "language_info": {
   "codemirror_mode": {
    "name": "ipython",
    "version": 3
   },
   "file_extension": ".py",
   "mimetype": "text/x-python",
   "name": "python",
   "nbconvert_exporter": "python",
   "pygments_lexer": "ipython3",
   "version": "3.6.5"
  },
  "toc": {
   "base_numbering": 1,
   "nav_menu": {},
   "number_sections": true,
   "sideBar": false,
   "skip_h1_title": false,
   "title_cell": "Table of Contents",
   "title_sidebar": "Contents",
   "toc_cell": true,
   "toc_position": {},
   "toc_section_display": true,
   "toc_window_display": false
  }
 },
 "nbformat": 4,
 "nbformat_minor": 2
}
