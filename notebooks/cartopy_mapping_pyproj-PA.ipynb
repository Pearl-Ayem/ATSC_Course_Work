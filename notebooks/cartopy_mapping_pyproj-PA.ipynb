{
 "cells": [
  {
   "cell_type": "markdown",
   "metadata": {
    "toc": true
   },
   "source": [
    "<h1>Table of Contents<span class=\"tocSkip\"></span></h1>\n",
    "<div class=\"toc\"><ul class=\"toc-item\"><li><span><a href=\"#Using-pyproj-with-cartopy\" data-toc-modified-id=\"Using-pyproj-with-cartopy-1\"><span class=\"toc-item-num\">1&nbsp;&nbsp;</span>Using pyproj with cartopy</a></span><ul class=\"toc-item\"><li><span><a href=\"#Put-the-corners-of-a-modis-granule-on-the-map.--Use-this-2013.220.2105-granule\" data-toc-modified-id=\"Put-the-corners-of-a-modis-granule-on-the-map.--Use-this-2013.220.2105-granule-1.1\"><span class=\"toc-item-num\">1.1&nbsp;&nbsp;</span>Put the corners of a modis granule on the map.  Use this 2013.220.2105 granule</a></span><ul class=\"toc-item\"><li><span><a href=\"#Find-the-image-corners-using-parseMeta\" data-toc-modified-id=\"Find-the-image-corners-using-parseMeta-1.1.1\"><span class=\"toc-item-num\">1.1.1&nbsp;&nbsp;</span>Find the image corners using parseMeta</a></span></li><li><span><a href=\"#Make-an-LAEA-projection-using-the-spherical-globe\" data-toc-modified-id=\"Make-an-LAEA-projection-using-the-spherical-globe-1.1.2\"><span class=\"toc-item-num\">1.1.2&nbsp;&nbsp;</span>Make an LAEA projection using the spherical globe</a></span></li><li><span><a href=\"#Here-are-the-parameters-cartopy-is-using-to-call-pyproj\" data-toc-modified-id=\"Here-are-the-parameters-cartopy-is-using-to-call-pyproj-1.1.3\"><span class=\"toc-item-num\">1.1.3&nbsp;&nbsp;</span>Here are the parameters cartopy is using to call pyproj</a></span></li><li><span><a href=\"#Make-a-pyproj-projection-using-the-cartopy-parameters\" data-toc-modified-id=\"Make-a-pyproj-projection-using-the-cartopy-parameters-1.1.4\"><span class=\"toc-item-num\">1.1.4&nbsp;&nbsp;</span>Make a pyproj projection using the cartopy parameters</a></span></li><li><span><a href=\"#Now-repeat-this-using-the-modern-WGS84-non-spherical-earth-datum\" data-toc-modified-id=\"Now-repeat-this-using-the-modern-WGS84-non-spherical-earth-datum-1.1.5\"><span class=\"toc-item-num\">1.1.5&nbsp;&nbsp;</span>Now repeat this using the modern WGS84 non-spherical earth datum</a></span></li><li><span><a href=\"#now-get-the-Vancouver-location-in-transformed-coords\" data-toc-modified-id=\"now-get-the-Vancouver-location-in-transformed-coords-1.1.6\"><span class=\"toc-item-num\">1.1.6&nbsp;&nbsp;</span>now get the Vancouver location in transformed coords</a></span></li><li><span><a href=\"#Note-that-the-scene-center-is-0,0-in-the-transformed-coordinates\" data-toc-modified-id=\"Note-that-the-scene-center-is-0,0-in-the-transformed-coordinates-1.1.7\"><span class=\"toc-item-num\">1.1.7&nbsp;&nbsp;</span>Note that the scene center is 0,0 in the transformed coordinates</a></span></li><li><span><a href=\"#To-set-the-extent-for-the-plot,-find-the-x,y-mins-and-maxes\" data-toc-modified-id=\"To-set-the-extent-for-the-plot,-find-the-x,y-mins-and-maxes-1.1.8\"><span class=\"toc-item-num\">1.1.8&nbsp;&nbsp;</span>To set the extent for the plot, find the x,y mins and maxes</a></span></li><li><span><a href=\"#show-that-we-get-a-&quot;perfect-fit&quot;--with-this-extent\" data-toc-modified-id=\"show-that-we-get-a-&quot;perfect-fit&quot;--with-this-extent-1.1.9\"><span class=\"toc-item-num\">1.1.9&nbsp;&nbsp;</span>show that we get a \"perfect fit\"  with this extent</a></span></li><li><span><a href=\"#Write-the-corner-points-out-as-a-json-file-for-future-use\" data-toc-modified-id=\"Write-the-corner-points-out-as-a-json-file-for-future-use-1.1.10\"><span class=\"toc-item-num\">1.1.10&nbsp;&nbsp;</span>Write the corner points out as a json file for future use</a></span></li><li><span><a href=\"#Use-pyproj.geoid-to-get-distance-between-points\" data-toc-modified-id=\"Use-pyproj.geoid-to-get-distance-between-points-1.1.11\"><span class=\"toc-item-num\">1.1.11&nbsp;&nbsp;</span>Use <a href=\"https://jswhit.github.io/pyproj/pyproj.Geod-class.html\" target=\"_blank\">pyproj.geoid</a> to get distance between points</a></span></li></ul></li></ul></li></ul></div>"
   ]
  },
  {
   "cell_type": "markdown",
   "metadata": {},
   "source": [
    "# Using pyproj with cartopy\n",
    "\n",
    "The cells below show how to do coordinate transformations with either pyproj or cartopy. \n",
    "Since cartopy uses pyproj under the hood, we expect the same results."
   ]
  },
  {
   "cell_type": "code",
   "execution_count": 29,
   "metadata": {},
   "outputs": [
    {
     "name": "stdout",
     "output_type": "stream",
     "text": [
      "C:\\Users\\Pearl\\Desktop\\ATSC 301\\a301_code\\data\n"
     ]
    }
   ],
   "source": [
    "import a301\n",
    "print(a301.data_dir)"
   ]
  },
  {
   "cell_type": "code",
   "execution_count": 30,
   "metadata": {},
   "outputs": [],
   "source": [
    "from context import data_dir\n",
    "import json\n",
    "from a301.utils.data_read import download\n",
    "import a301\n",
    "import pprint\n",
    "read_data=False\n",
    "if read_data:\n",
    "    filename='MYD021KM.A2014267.1150.061.2018055001042.hdf'\n",
    "    download(filename)\n",
    "    local_file = Path.cwd() / Path(filename)\n",
    "    to_file = data_dir / Path(filename)\n",
    "    local_file.rename(to_file)  "
   ]
  },
  {
   "cell_type": "code",
   "execution_count": 31,
   "metadata": {},
   "outputs": [],
   "source": [
    "import cartopy.crs as ccrs\n",
    "import matplotlib.pyplot as plt\n",
    "import cartopy\n",
    "from pathlib import Path\n",
    "import pprint\n",
    "import numpy as np\n",
    "#"
   ]
  },
  {
   "cell_type": "code",
   "execution_count": 32,
   "metadata": {},
   "outputs": [],
   "source": [
    "# Datum: radius of the earth in meters\n",
    "#\n",
    "radius=6371228\n",
    "#\n",
    "# vancouver longitude, latitude indegrees\n",
    "#\n",
    "van_lon,van_lat = [-123.1207,49.2827]\n",
    "#\n",
    "# use a simple sphere as the datum\n",
    "#\n",
    "globe = ccrs.Globe(ellipse=None, semimajor_axis=radius, \n",
    "                   semiminor_axis=radius)"
   ]
  },
  {
   "cell_type": "markdown",
   "metadata": {},
   "source": [
    "## Put the corners of a modis granule on the map.  Use this 2013.220.2105 granule\n",
    "\n",
    "<img src=\"images/myd2105.jpg\" width=400>\n",
    "\n"
   ]
  },
  {
   "cell_type": "markdown",
   "metadata": {},
   "source": [
    "### Find the image corners using parseMeta"
   ]
  },
  {
   "cell_type": "code",
   "execution_count": 33,
   "metadata": {},
   "outputs": [],
   "source": [
    "%matplotlib inline\n",
    "from a301.scripts.modismeta_read import parseMeta\n",
    "import context\n",
    "\n",
    "\n",
    "\n",
    "\n",
    "\n",
    "\n",
    "from a301.cloudsat import get_geo\n",
    "\n",
    "\n",
    "data_dir=Path(context.data_dir)\n",
    "modis_file=list(data_dir.glob(\"MYD02*1150*hdf\"))[0]\n",
    "modis_dict=parseMeta(modis_file)"
   ]
  },
  {
   "cell_type": "markdown",
   "metadata": {},
   "source": [
    "### Make an LAEA projection using the spherical globe"
   ]
  },
  {
   "cell_type": "code",
   "execution_count": 34,
   "metadata": {},
   "outputs": [
    {
     "name": "stdout",
     "output_type": "stream",
     "text": [
      "{'daynight': 'Day',\n",
      " 'equatordate': '2014-09-24',\n",
      " 'equatortime': '12:29:32.108341',\n",
      " 'filename': 'MYD021KM.A2014267.1150.061.2018055001042.hdf',\n",
      " 'lat_0': 44.06927955017845,\n",
      " 'lat_list': [36.7342066532722,\n",
      "              33.1061263320745,\n",
      "              49.7864806105002,\n",
      "              55.0324327682824],\n",
      " 'lon_0': 15.790092241360691,\n",
      " 'lon_list': [33.773003241067,\n",
      "              8.2070984590893,\n",
      "              -2.19281875834562,\n",
      "              31.8220442091322],\n",
      " 'max_lat': 55.0324327682824,\n",
      " 'max_lon': 33.773003241067,\n",
      " 'min_lat': 33.1061263320745,\n",
      " 'min_lon': -2.19281875834562,\n",
      " 'nasaProductionDate': '2018-02-24T00:10:42.000Z',\n",
      " 'orbit': 65914,\n",
      " 'sensor': {'ASSOCIATEDINSTRUMENTSHORTNAME': {'VALUE': 'MODIS'},\n",
      "            'ASSOCIATEDPLATFORMSHORTNAME': {'VALUE': 'Aqua'},\n",
      "            'ASSOCIATEDSENSORSHORTNAME': {'VALUE': 'MODIS'}},\n",
      " 'startdate': '2014-09-24',\n",
      " 'starttime': '11:50:00.000000',\n",
      " 'stopdate': '2014-09-24',\n",
      " 'stoptime': '11:55:00.000000',\n",
      " 'type': {'SHORTNAME': {'VALUE': 'MYD021KM'}, 'VERSIONID': {'VALUE': 61}}}\n",
      "44.06927955017845\n"
     ]
    }
   ],
   "source": [
    "pprint.pprint(modis_dict)\n",
    "projection=ccrs.LambertAzimuthalEqualArea(central_latitude=modis_dict['lat_0'],\n",
    "                                          central_longitude= modis_dict['lon_0'],globe=globe)\n",
    "print(modis_dict['lat_0'])"
   ]
  },
  {
   "cell_type": "markdown",
   "metadata": {},
   "source": [
    "### Here are the parameters cartopy is using to call pyproj"
   ]
  },
  {
   "cell_type": "code",
   "execution_count": 35,
   "metadata": {},
   "outputs": [
    {
     "data": {
      "text/plain": [
       "{'a': 6371228,\n",
       " 'b': 6371228,\n",
       " 'proj': 'laea',\n",
       " 'lon_0': 15.790092241360691,\n",
       " 'lat_0': 44.06927955017845,\n",
       " 'x_0': 0.0,\n",
       " 'y_0': 0.0}"
      ]
     },
     "execution_count": 35,
     "metadata": {},
     "output_type": "execute_result"
    }
   ],
   "source": [
    "projection.proj4_params"
   ]
  },
  {
   "cell_type": "code",
   "execution_count": 36,
   "metadata": {},
   "outputs": [
    {
     "data": {
      "text/plain": [
       "'+a=6371228 +b=6371228 +proj=laea +lon_0=15.79009224136069 +lat_0=44.06927955017845 +x_0=0.0 +y_0=0.0 +no_defs'"
      ]
     },
     "execution_count": 36,
     "metadata": {},
     "output_type": "execute_result"
    }
   ],
   "source": [
    "projection.proj4_init"
   ]
  },
  {
   "cell_type": "markdown",
   "metadata": {},
   "source": [
    "### Make a pyproj projection using the cartopy parameters\n",
    "\n",
    "Show that we can \"roundtrip\" the coordinates -- i.e. go from lon,lat to x,y to lon, lat\n",
    "and get the starting values back"
   ]
  },
  {
   "cell_type": "code",
   "execution_count": 37,
   "metadata": {},
   "outputs": [
    {
     "name": "stdout",
     "output_type": "stream",
     "text": [
      "here are the lon,lat corners\n",
      "[(33.773003241067, 36.7342066532722),\n",
      " (8.2070984590893, 33.1061263320745),\n",
      " (-2.19281875834562, 49.7864806105002),\n",
      " (31.8220442091322, 55.0324327682824)]\n",
      "here are the x,y corner coords\n",
      "[(1590907.746730684, -645826.0404594915),\n",
      " (-708449.1079873458, -1186196.7337697875),\n",
      " (-1278842.678907908, 779865.3891730666),\n",
      " (1017179.2917064908, 1321810.651495859)]\n",
      "here are the lon,lat corners after roundtrip\n",
      "[(33.773003241067, 36.73420665327221),\n",
      " (8.2070984590893, 33.106126332074496),\n",
      " (-2.1928187583456147, 49.78648061050019),\n",
      " (31.822044209132198, 55.0324327682824)]\n"
     ]
    }
   ],
   "source": [
    "import pyproj\n",
    "prj=pyproj.Proj(projection.proj4_init)\n",
    "print('here are the lon,lat corners')\n",
    "pprint.pprint(list(zip(modis_dict['lon_list'],modis_dict['lat_list'])))\n",
    "x, y = prj(modis_dict['lon_list'], modis_dict['lat_list'])\n",
    "print('here are the x,y corner coords')\n",
    "pprint.pprint(list(zip(x,y)))\n",
    "llcrnrlon,llcrnrlat=prj(x,y,inverse=True)\n",
    "print('here are the lon,lat corners after roundtrip')\n",
    "pprint.pprint(list(zip(llcrnrlon,llcrnrlat)))"
   ]
  },
  {
   "cell_type": "markdown",
   "metadata": {},
   "source": [
    "### Now repeat this using the modern WGS84 non-spherical earth datum\n",
    "\n",
    "**Note that changing to this datum makes a difference of about 3 km, (i.e. 1558 km becomes 1561 km below)**"
   ]
  },
  {
   "cell_type": "code",
   "execution_count": 38,
   "metadata": {},
   "outputs": [],
   "source": [
    "globe_w = ccrs.Globe(datum=\"WGS84\",ellipse=\"WGS84\")"
   ]
  },
  {
   "cell_type": "code",
   "execution_count": 39,
   "metadata": {},
   "outputs": [
    {
     "name": "stdout",
     "output_type": "stream",
     "text": [
      "+datum=WGS84 +ellps=WGS84 +proj=laea +lon_0=15.79009224136069 +lat_0=44.06927955017845 +x_0=0.0 +y_0=0.0 +no_defs\n",
      "here are the lon,lat corners\n",
      "[(33.773003241067, 36.7342066532722),\n",
      " (8.2070984590893, 33.1061263320745),\n",
      " (-2.19281875834562, 49.7864806105002),\n",
      " (31.8220442091322, 55.0324327682824)]\n",
      "here are the x_w84,y_84 corner coords\n",
      "[(1594357.0124977762, -644982.3138043442),\n",
      " (-709776.3533443203, -1184298.2173532906),\n",
      " (-1282914.5362594824, 779635.8607747039),\n",
      " (1020821.6038552185, 1321944.6218576564)]\n",
      "here are the old x,y corner coords\n",
      "[(1590907.746730684, -645826.0404594915),\n",
      " (-708449.1079873458, -1186196.7337697875),\n",
      " (-1278842.678907908, 779865.3891730666),\n",
      " (1017179.2917064908, 1321810.651495859)]\n",
      "here are the new lon,lat corners after roundtrip\n",
      "[(33.773003241067, 36.7342066448015),\n",
      " (8.2070984590893, 33.10612632173573),\n",
      " (-2.192818758345621, 49.786480607344856),\n",
      " (31.822044209132205, 55.03243276619757)]\n"
     ]
    }
   ],
   "source": [
    "projection_w=ccrs.LambertAzimuthalEqualArea(central_latitude=modis_dict['lat_0'],\n",
    "                                          central_longitude= modis_dict['lon_0'],globe=globe_w)\n",
    "print(projection_w.proj4_init)\n",
    "prj_w=pyproj.Proj(projection_w.proj4_init)\n",
    "print('here are the lon,lat corners')\n",
    "pprint.pprint(list(zip(modis_dict['lon_list'],modis_dict['lat_list'])))\n",
    "x_w84, y_w84 = prj_w(modis_dict['lon_list'], modis_dict['lat_list'])\n",
    "print('here are the x_w84,y_84 corner coords')\n",
    "pprint.pprint(list(zip(x_w84,y_w84)))\n",
    "print('here are the old x,y corner coords')\n",
    "pprint.pprint(list(zip(x,y)))\n",
    "llcrnrlon,llcrnrlat=prj_w(x_w84,y_w84,inverse=True)\n",
    "print('here are the new lon,lat corners after roundtrip')\n",
    "pprint.pprint(list(zip(llcrnrlon,llcrnrlat)))"
   ]
  },
  {
   "cell_type": "markdown",
   "metadata": {},
   "source": [
    "### now get the Vancouver location in transformed coords\n",
    "\n",
    "**First do it with cartopy:**"
   ]
  },
  {
   "cell_type": "code",
   "execution_count": 44,
   "metadata": {},
   "outputs": [
    {
     "name": "stdout",
     "output_type": "stream",
     "text": [
      "-3582437.1179613946\n"
     ]
    }
   ],
   "source": [
    "geodetic = ccrs.Geodetic()\n",
    "van_point = projection_w.transform_point(van_lon,van_lat,geodetic)\n",
    "print(van_point[0])"
   ]
  },
  {
   "cell_type": "markdown",
   "metadata": {},
   "source": [
    "**now do it with pyproj to show result doesn't change:**"
   ]
  },
  {
   "cell_type": "code",
   "execution_count": 43,
   "metadata": {},
   "outputs": [
    {
     "name": "stdout",
     "output_type": "stream",
     "text": [
      "-3582437.1179613946\n"
     ]
    }
   ],
   "source": [
    "geodetic_prj = pyproj.Proj(geodetic.proj4_init)\n",
    "van_point_prj = pyproj.transform(geodetic_prj,prj_w,van_lon,van_lat)\n",
    "van_x, van_y = van_point_prj\n",
    "print(van_x)\n"
   ]
  },
  {
   "cell_type": "markdown",
   "metadata": {},
   "source": [
    "### Note that the scene center is 0,0 in the transformed coordinates"
   ]
  },
  {
   "cell_type": "code",
   "execution_count": null,
   "metadata": {},
   "outputs": [],
   "source": [
    "center_point = projection_w.transform_point(modis_dict['lon_0'],modis_dict['lat_0'],geodetic)\n",
    "print(center_point)"
   ]
  },
  {
   "cell_type": "markdown",
   "metadata": {},
   "source": [
    "### To set the extent for the plot, find the x,y mins and maxes"
   ]
  },
  {
   "cell_type": "code",
   "execution_count": null,
   "metadata": {},
   "outputs": [],
   "source": [
    "minx,maxx=np.min(x_w84),np.max(x_w84)\n",
    "miny,maxy=np.min(y_w84),np.max(y_w84)\n",
    "#left x, right x, left y, right y\n",
    "extent=[minx, maxx, miny, maxy]\n",
    "print(extent)"
   ]
  },
  {
   "cell_type": "markdown",
   "metadata": {},
   "source": [
    "### show that we get a \"perfect fit\"  with this extent\n",
    "\n",
    "First, plot vancover, then add to the plot by calling:\n",
    "\n",
    "    display(fig)\n",
    "    \n",
    "to redisplay the figure."
   ]
  },
  {
   "cell_type": "code",
   "execution_count": null,
   "metadata": {},
   "outputs": [],
   "source": [
    "fig, ax = plt.subplots(1, 1, figsize=(10,10),\n",
    "                       subplot_kw={'projection': projection_w})\n",
    "ax.set_extent(extent,projection_w)\n",
    "ax.plot(van_x,van_y,'ro',markersize=10);"
   ]
  },
  {
   "cell_type": "markdown",
   "metadata": {},
   "source": [
    "**Next add coastlines**"
   ]
  },
  {
   "cell_type": "code",
   "execution_count": null,
   "metadata": {},
   "outputs": [],
   "source": [
    "ax.gridlines(linewidth=2)\n",
    "ax.add_feature(cartopy.feature.GSHHSFeature(scale='coarse', levels=[1,2,3]));\n",
    "display(fig)"
   ]
  },
  {
   "cell_type": "markdown",
   "metadata": {},
   "source": [
    "**now get the corner points of the image and plot the box with center point**"
   ]
  },
  {
   "cell_type": "code",
   "execution_count": null,
   "metadata": {},
   "outputs": [],
   "source": [
    "out=projection_w.transform_points(geodetic,np.array(modis_dict['lon_list']),\n",
    "                                  np.array(modis_dict['lat_list']))\n",
    "xcoords = np.append(out[:,0],out[0,0])\n",
    "ycoords = np.append(out[:,1],out[0,1])\n",
    "ax.plot(xcoords, ycoords);\n",
    "ax.plot(0,0,'go',markersize=10)\n",
    "display(fig)"
   ]
  },
  {
   "cell_type": "markdown",
   "metadata": {},
   "source": [
    "### Write the corner points out as a json file for future use\n",
    "\n",
    "[What is json?](https://www.w3schools.com/Js/js_json_intro.asp)\n",
    "\n",
    "(note that json doesn't understand numpy arrays, so need to convert them to python lists)"
   ]
  },
  {
   "cell_type": "code",
   "execution_count": null,
   "metadata": {},
   "outputs": [],
   "source": [
    "xcoords=list(xcoords)\n",
    "ycoords=list(ycoords)\n",
    "corner_dict = dict(xcoords=xcoords, ycoords=ycoords)\n",
    "llcrnrlon,llcrnrlat=prj_w(xcoords,ycoords,inverse=True)\n",
    "lons=list(llcrnrlon)\n",
    "lats=list(llcrnrlat)\n",
    "corner_dict['lons']=lons\n",
    "corner_dict['lats']=lats\n",
    "corner_dict['proj4_string']=projection_w.proj4_init\n",
    "corner_dict['proj4_params']=projection_w.proj4_params\n",
    "corner_dict['extent']=extent\n",
    "pprint.pprint(corner_dict)"
   ]
  },
  {
   "cell_type": "code",
   "execution_count": null,
   "metadata": {},
   "outputs": [],
   "source": [
    "corner_output = a301.data_dir / Path('corners.json')\n",
    "with open(corner_output,'w') as f:\n",
    "    json.dump(corner_dict,f,indent=4)"
   ]
  },
  {
   "cell_type": "markdown",
   "metadata": {},
   "source": [
    "```python\n",
    "# %load ../data/corners.json\n",
    "{\n",
    "    \"xcoords\": [\n",
    "        1561347.9917805532,\n",
    "        -744961.1366254934,\n",
    "        -1285873.5967137816,\n",
    "        1019738.9399581843,\n",
    "        1561347.9917805532\n",
    "    ],\n",
    "    \"ycoords\": [\n",
    "        -688348.6658615287,\n",
    "        -1179100.5032042824,\n",
    "        804312.7470663546,\n",
    "        1297248.5261361937,\n",
    "        -688348.6658615287\n",
    "    ],\n",
    "    \"lons\": [\n",
    "        -104.77089390290801,\n",
    "        -129.005397891393,\n",
    "        -138.038848796623,\n",
    "        -107.001718605882,\n",
    "        -104.77089390290801\n",
    "    ],\n",
    "    \"lats\": [\n",
    "        32.13645206898284,\n",
    "        28.687374622563773,\n",
    "        45.73346985640787,\n",
    "        50.510827489422674,\n",
    "        32.13645206898284\n",
    "    ],\n",
    "    \"proj4_string\": \"+datum=WGS84 +ellps=WGS84 +proj=laea +lon_0=-121.4048713497655 +lat_0=39.59910106367865 +x_0=0.0 +y_0=0.0 +no_defs\",\n",
    "    \"proj4_params\": {\n",
    "        \"datum\": \"WGS84\",\n",
    "        \"ellps\": \"WGS84\",\n",
    "        \"proj\": \"laea\",\n",
    "        \"lon_0\": -121.4048713497655,\n",
    "        \"lat_0\": 39.59910106367865,\n",
    "        \"x_0\": 0.0,\n",
    "        \"y_0\": 0.0\n",
    "    },\n",
    "    \"extent\": [\n",
    "        -1285873.5967137816,\n",
    "        1561347.9917805532,\n",
    "        -1179100.5032042824,\n",
    "        1297248.5261361937\n",
    "    ]\n",
    "}\n",
    "```"
   ]
  },
  {
   "cell_type": "markdown",
   "metadata": {},
   "source": [
    "### Use [pyproj.geoid](https://jswhit.github.io/pyproj/pyproj.Geod-class.html) to get distance between points"
   ]
  },
  {
   "cell_type": "code",
   "execution_count": null,
   "metadata": {},
   "outputs": [],
   "source": [
    "from pyproj import Geod\n",
    "g = Geod(ellps='WGS84')\n",
    "bottom_right=[lons[0],lats[0]]\n",
    "bottom_left=[lons[1],lats[1]]\n",
    "top_left=[lons[2],lats[2]]\n",
    "top_right=[lons[3],lats[3]]\n",
    "az1,az2,ew_dist=g.inv(bottom_left[0],bottom_left[1],bottom_right[0],bottom_right[1])\n",
    "az3,az4,ns_dist=g.inv(bottom_left[0],bottom_left[1],top_left[0],top_left[1])"
   ]
  },
  {
   "cell_type": "code",
   "execution_count": null,
   "metadata": {},
   "outputs": [],
   "source": [
    "print((f'east-west distance is {ew_dist*1.e-3:8.3f} km,'\n",
    "       f'\\nnorth-south distance is {ns_dist*1.e-3:8.3f} km'))"
   ]
  },
  {
   "cell_type": "code",
   "execution_count": null,
   "metadata": {},
   "outputs": [],
   "source": [
    "points_xy=list(zip(xcoords,ycoords))\n",
    "bottom_right_x,bottom_right_y = points_xy[0]\n",
    "bottom_left_x, bottom_left_y = points_xy[1]\n",
    "top_left_x, top_left_y = points_xy[2]"
   ]
  },
  {
   "cell_type": "code",
   "execution_count": null,
   "metadata": {},
   "outputs": [],
   "source": [
    "ew_dist=(bottom_right_x-bottom_left_x)\n",
    "ns_dist=(top_left_y-bottom_left_y)\n",
    "print((f'east-west distance is {ew_dist*1.e-3:8.3f} km,'\n",
    "       f'\\nnorth-south distance is {ns_dist*1.e-3:8.3f} km'))"
   ]
  },
  {
   "cell_type": "code",
   "execution_count": null,
   "metadata": {},
   "outputs": [],
   "source": []
  },
  {
   "cell_type": "code",
   "execution_count": null,
   "metadata": {},
   "outputs": [],
   "source": []
  }
 ],
 "metadata": {
  "hide_input": false,
  "kernelspec": {
   "display_name": "Python 3",
   "language": "python",
   "name": "python3"
  },
  "language_info": {
   "codemirror_mode": {
    "name": "ipython",
    "version": 3
   },
   "file_extension": ".py",
   "mimetype": "text/x-python",
   "name": "python",
   "nbconvert_exporter": "python",
   "pygments_lexer": "ipython3",
   "version": "3.6.5"
  },
  "toc": {
   "base_numbering": 1,
   "nav_menu": {},
   "number_sections": true,
   "sideBar": false,
   "skip_h1_title": false,
   "title_cell": "Table of Contents",
   "title_sidebar": "Contents",
   "toc_cell": true,
   "toc_position": {},
   "toc_section_display": true,
   "toc_window_display": false
  }
 },
 "nbformat": 4,
 "nbformat_minor": 2
}
