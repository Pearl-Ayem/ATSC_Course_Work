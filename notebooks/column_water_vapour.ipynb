{
 "cells": [
  {
   "cell_type": "markdown",
   "metadata": {
    "toc": true
   },
   "source": [
    "<h1>Table of Contents<span class=\"tocSkip\"></span></h1>\n",
    "<div class=\"toc\"><ul class=\"toc-item\"><li><span><a href=\"#Assignment-7,-integrating-the-standard-atmospheres\" data-toc-modified-id=\"Assignment-7,-integrating-the-standard-atmospheres-1\"><span class=\"toc-item-num\">1&nbsp;&nbsp;</span>Assignment 7, integrating the standard atmospheres</a></span><ul class=\"toc-item\"><li><span><a href=\"#Read-soundings-into-pandas\" data-toc-modified-id=\"Read-soundings-into-pandas-1.1\"><span class=\"toc-item-num\">1.1&nbsp;&nbsp;</span>Read soundings into pandas</a></span></li><li><span><a href=\"#Reuse-code-from-hydstatic_balance-notebook\" data-toc-modified-id=\"Reuse-code-from-hydstatic_balance-notebook-1.2\"><span class=\"toc-item-num\">1.2&nbsp;&nbsp;</span>Reuse code from hydstatic_balance notebook</a></span><ul class=\"toc-item\"><li><span><a href=\"#use-the-stem-of-the-filename-for-the-sound_dict-dictionary-keys\" data-toc-modified-id=\"use-the-stem-of-the-filename-for-the-sound_dict-dictionary-keys-1.2.1\"><span class=\"toc-item-num\">1.2.1&nbsp;&nbsp;</span>use the stem of the filename for the sound_dict dictionary keys</a></span></li><li><span><a href=\"#Plot--temp-and-vapor-mixing-ratio-rmix-($\\rho_{H2O}/\\rho_{air}$)\" data-toc-modified-id=\"Plot--temp-and-vapor-mixing-ratio-rmix-($\\rho_{H2O}/\\rho_{air}$)-1.2.2\"><span class=\"toc-item-num\">1.2.2&nbsp;&nbsp;</span>Plot  temp and vapor mixing ratio rmix ($\\rho_{H2O}/\\rho_{air}$)</a></span></li></ul></li><li><span><a href=\"#Calculate-the-pressure-scale-height\" data-toc-modified-id=\"Calculate-the-pressure-scale-height-1.3\"><span class=\"toc-item-num\">1.3&nbsp;&nbsp;</span>Calculate the pressure scale height</a></span></li><li><span><a href=\"#calculate-the-density-scale-height\" data-toc-modified-id=\"calculate-the-density-scale-height-1.4\"><span class=\"toc-item-num\">1.4&nbsp;&nbsp;</span>calculate the density scale height</a></span></li></ul></li><li><span><a href=\"#Assignment-7-questions-7a-and-7b\" data-toc-modified-id=\"Assignment-7-questions-7a-and-7b-2\"><span class=\"toc-item-num\">2&nbsp;&nbsp;</span>Assignment 7 questions 7a and 7b</a></span><ul class=\"toc-item\"><li><span><a href=\"#Question-7a----scale-height\" data-toc-modified-id=\"Question-7a----scale-height-2.1\"><span class=\"toc-item-num\">2.1&nbsp;&nbsp;</span>Question 7a -- scale height</a></span></li><li><span><a href=\"#Question-7b,-water-vapor\" data-toc-modified-id=\"Question-7b,-water-vapor-2.2\"><span class=\"toc-item-num\">2.2&nbsp;&nbsp;</span>Question 7b, water vapor</a></span></li></ul></li></ul></div>"
   ]
  },
  {
   "cell_type": "markdown",
   "metadata": {},
   "source": [
    "# Assignment 7, integrating the standard atmospheres\n",
    "\n",
    "This is an autograded notebook -- below I ask you to put your answers in two dictionaries\n",
    "called solution_7a_dict and solution_7b_dict, and I'll compare your answers with\n",
    "mine."
   ]
  },
  {
   "cell_type": "markdown",
   "metadata": {},
   "source": [
    "## Read soundings into pandas\n",
    "\n",
    "There are five different average profiles for the tropics, subarctic summer, subarctic winter, midlatitude summer, midlatitude winter.  These are called the US Standard Atmospheres.  This notebook shows how to read and plot the soundings, and calculate the pressure and density scale heights."
   ]
  },
  {
   "cell_type": "code",
   "execution_count": 1,
   "metadata": {},
   "outputs": [],
   "source": [
    "from matplotlib import pyplot as plt\n",
    "import matplotlib.ticker as ticks\n",
    "import pdb\n",
    "import numpy as np\n",
    "import a301\n",
    "from pprint import pprint,pformat\n",
    "import pandas as pd\n",
    "import json"
   ]
  },
  {
   "cell_type": "markdown",
   "metadata": {},
   "source": [
    "## Reuse code from hydstatic_balance notebook\n",
    "\n",
    "Read the csv files and make a dictionary called sound_dict to \n",
    "hold the dataframes"
   ]
  },
  {
   "cell_type": "code",
   "execution_count": 2,
   "metadata": {},
   "outputs": [],
   "source": [
    "soundings_folder= a301.test_dir / Path('soundings')\n",
    "sounding_files = list(soundings_folder.glob(\"*csv\"))"
   ]
  },
  {
   "cell_type": "markdown",
   "metadata": {},
   "source": [
    "### use the stem of the filename for the sound_dict dictionary keys"
   ]
  },
  {
   "cell_type": "code",
   "execution_count": 3,
   "metadata": {},
   "outputs": [
    {
     "name": "stdout",
     "output_type": "stream",
     "text": [
      "tropics\n",
      "   Unnamed: 0       z     press   temp     rmix     den         o3den\n",
      "0           0     0.0  101300.0  300.0  0.01900  1.1670  5.600000e-08\n",
      "1           1  1000.0   90400.0  294.0  0.01300  1.0640  5.600000e-08\n",
      "2           2  2000.0   80500.0  288.0  0.00929  0.9689  5.400000e-08\n",
      "3           3  3000.0   71500.0  284.0  0.00470  0.8756  5.100000e-08\n",
      "4           4  4000.0   63300.0  277.0  0.00266  0.7951  4.700000e-08\n",
      "subsummer\n",
      "   Unnamed: 0       z     press   temp     rmix     den         o3den\n",
      "0           0     0.0  101000.0  287.0  0.00910  1.2200  4.900000e-08\n",
      "1           1  1000.0   89600.0  282.0  0.00600  1.1100  5.400000e-08\n",
      "2           2  2000.0   79290.0  276.0  0.00420  0.9971  5.600000e-08\n",
      "3           3  3000.0   70000.0  271.0  0.00269  0.8985  5.800001e-08\n",
      "4           4  4000.0   61600.0  266.0  0.00165  0.8077  6.000000e-08\n",
      "subwinter\n",
      "   Unnamed: 0       z     press   temp      rmix     den         o3den\n",
      "0           0     0.0  101300.0  257.1  0.001200  1.3720  4.100000e-08\n",
      "1           1  1000.0   88780.0  259.1  0.001200  1.1930  4.100000e-08\n",
      "2           2  2000.0   77750.0  255.9  0.001030  1.0580  4.100000e-08\n",
      "3           3  3000.0   67980.0  252.7  0.000747  0.9366  4.300000e-08\n",
      "4           4  4000.0   59320.0  247.7  0.000459  0.8339  4.500000e-08\n",
      "midwinter\n",
      "   Unnamed: 0       z       press   temp     rmix     den         o3den\n",
      "0           0     0.0  101800.000  272.2  0.00350  1.3010  6.000000e-08\n",
      "1           1  1000.0   89730.000  268.7  0.00250  1.1620  5.400000e-08\n",
      "2           2  2000.0   78970.000  265.2  0.00180  1.0370  4.900000e-08\n",
      "3           3  3000.0   69380.000  261.7  0.00116  0.9230  4.900000e-08\n",
      "4           4  4000.0   60809.996  255.7  0.00069  0.8282  4.900000e-08\n",
      "midsummer\n",
      "   Unnamed: 0       z     press   temp     rmix     den         o3den\n",
      "0           0     0.0  101300.0  294.0  0.01400  1.1910  6.000000e-08\n",
      "1           1  1000.0   90200.0  290.0  0.00930  1.0800  6.000000e-08\n",
      "2           2  2000.0   80200.0  285.0  0.00585  0.9757  6.000000e-08\n",
      "3           3  3000.0   71000.0  279.0  0.00343  0.8846  6.200001e-08\n",
      "4           4  4000.0   62800.0  273.0  0.00189  0.7998  6.400000e-08\n"
     ]
    }
   ],
   "source": [
    "sound_dict={}\n",
    "for item in sounding_files:\n",
    "    sound_dict[item.stem]=pd.read_csv(item)\n",
    "    print(f\"{item.stem}\\n\"\n",
    "          f\"{sound_dict[item.stem].head()}\")"
   ]
  },
  {
   "cell_type": "markdown",
   "metadata": {},
   "source": [
    "We use these keys to get a dataframe with 6 columns, and 33 levels.  Here's an example for the midsummer sounding"
   ]
  },
  {
   "cell_type": "code",
   "execution_count": 4,
   "metadata": {
    "scrolled": true
   },
   "outputs": [
    {
     "name": "stdout",
     "output_type": "stream",
     "text": [
      "   Unnamed: 0       z     press   temp     rmix     den         o3den\n",
      "0           0     0.0  101300.0  294.0  0.01400  1.1910  6.000000e-08\n",
      "1           1  1000.0   90200.0  290.0  0.00930  1.0800  6.000000e-08\n",
      "2           2  2000.0   80200.0  285.0  0.00585  0.9757  6.000000e-08\n",
      "3           3  3000.0   71000.0  279.0  0.00343  0.8846  6.200001e-08\n",
      "4           4  4000.0   62800.0  273.0  0.00189  0.7998  6.400000e-08\n"
     ]
    },
    {
     "data": {
      "text/plain": [
       "['Unnamed: 0', 'z', 'press', 'temp', 'rmix', 'den', 'o3den']"
      ]
     },
     "execution_count": 4,
     "metadata": {},
     "output_type": "execute_result"
    }
   ],
   "source": [
    "midsummer=sound_dict['midsummer']\n",
    "print(midsummer.head())\n",
    "list(midsummer.columns)"
   ]
  },
  {
   "cell_type": "markdown",
   "metadata": {},
   "source": [
    "### Plot  temp and vapor mixing ratio rmix ($\\rho_{H2O}/\\rho_{air}$)"
   ]
  },
  {
   "cell_type": "code",
   "execution_count": 5,
   "metadata": {},
   "outputs": [
    {
     "data": {
      "image/png": "[encoded data removed]",
      "text/plain": [
       "<Figure size 792x576 with 2 Axes>"
      ]
     },
     "metadata": {},
     "output_type": "display_data"
    }
   ],
   "source": [
    "%matplotlib inline\n",
    "plt.style.use('ggplot')\n",
    "meters2km=1.e-3\n",
    "plt.close('all')\n",
    "fig,(ax1,ax2)=plt.subplots(1,2,figsize=(11,8))\n",
    "for a_name,df in sound_dict.items():\n",
    "    ax1.plot(df['temp'],df['z']*meters2km,label=a_name)\n",
    "    ax1.set(ylim=(0,40),title='Temp soundings',ylabel='Height (km)',\n",
    "       xlabel='Temperature (K)')\n",
    "\n",
    "    ax2.plot(df['rmix']*1.e3,df['z']*meters2km,label=a_name)\n",
    "    ax2.set(ylim=(0,8),title='Vapor soundings',ylabel='Height (km)',\n",
    "       xlabel='vapor mixing ratio (g/kg)')\n",
    "ax1.legend()\n",
    "_=ax2.legend()"
   ]
  },
  {
   "cell_type": "markdown",
   "metadata": {},
   "source": [
    "## Calculate the pressure scale height"
   ]
  },
  {
   "cell_type": "code",
   "execution_count": 6,
   "metadata": {},
   "outputs": [],
   "source": [
    "g=9.8  #don't worry about g(z) for this exercise\n",
    "Rd=287.  #kg/m^3\n",
    "\n",
    "def calcScaleHeight(df):\n",
    "    \"\"\"\n",
    "    Calculate the pressure scale height H_p\n",
    "    \n",
    "    Parameters\n",
    "    ----------\n",
    "    \n",
    "    df: dataframe with the following columns\n",
    "    \n",
    "    df['temp']: vector (float)\n",
    "      temperature (K)\n",
    "      \n",
    "    df['z']: vector (float) of len(df)\n",
    "      with the height in m\n",
    "      \n",
    "    Returns\n",
    "    -------\n",
    "     \n",
    "    Hbar: vector (float) of len(df)\n",
    "      pressure scale height (m)\n",
    "    \n",
    "    \"\"\"\n",
    "    z=df['z'].values\n",
    "    Temp=df['temp'].values\n",
    "    dz=np.diff(z)\n",
    "    TLayer=(Temp[1:] + Temp[0:-1])/2.\n",
    "    oneOverH=g/(Rd*TLayer)\n",
    "    Zthick=z[-1] - z[0]\n",
    "    oneOverHbar=np.sum(oneOverH*dz)/Zthick\n",
    "    Hbar = 1/oneOverHbar\n",
    "    return Hbar\n",
    "\n"
   ]
  },
  {
   "cell_type": "markdown",
   "metadata": {},
   "source": [
    "## calculate the density scale height"
   ]
  },
  {
   "cell_type": "code",
   "execution_count": 7,
   "metadata": {},
   "outputs": [],
   "source": [
    "def calcDensHeight(df):\n",
    "    \"\"\"\n",
    "    Calculate the density scale height H_rho\n",
    "    \n",
    "    Parameters\n",
    "    ----------\n",
    "    \n",
    "    df: dataframe with the following columns\n",
    "    \n",
    "    df['temp']: vector (float)\n",
    "      temperature (K)\n",
    "      \n",
    "    df['z']: vector (float) of len(df)\n",
    "      with the height in m\n",
    "      \n",
    "    Returns\n",
    "    -------\n",
    "    \n",
    "    Hbar: vector (float) of len(T)\n",
    "      density scale height (m)\n",
    "    \"\"\"\n",
    "    z=df['z'].values\n",
    "    Temp=df['temp'].values\n",
    "    dz=np.diff(z)\n",
    "    TLayer=(Temp[1:] + Temp[0:-1])/2.\n",
    "    dTdz=np.diff(Temp)/np.diff(z)\n",
    "    oneOverH=g/(Rd*TLayer) + (1/TLayer*dTdz)\n",
    "    Zthick=z[-1] - z[0]\n",
    "    oneOverHbar=np.sum(oneOverH*dz)/Zthick\n",
    "    Hbar = 1/oneOverHbar\n",
    "    return Hbar\n"
   ]
  },
  {
   "cell_type": "markdown",
   "metadata": {},
   "source": [
    "<a name=\"oct7assign\"></a>\n",
    "\n",
    "# Assignment 7 questions 7a and 7b\n",
    "\n",
    "## Question 7a -- scale height\n",
    "\n",
    "a) Calculate the pressure scale height for each of the five atmospheres using calcScaleHeightFill the dictionary below (soution_7a_dict) with the five values you calculate using\n",
    "calcScaleHeight.  (The answer you need is a trivial one liner -- this is mainly to demonstrate how\n",
    "autograding works)."
   ]
  },
  {
   "cell_type": "code",
   "execution_count": 8,
   "metadata": {},
   "outputs": [
    {
     "name": "stdout",
     "output_type": "stream",
     "text": [
      "here is the dictionary that will hold  your answers:\n",
      " {'midsummer': nan,\n",
      " 'midwinter': nan,\n",
      " 'subsummer': nan,\n",
      " 'subwinter': nan,\n",
      " 'tropics': nan}\n"
     ]
    }
   ],
   "source": [
    "sound_names=list(sound_dict.keys())\n",
    "dummy_answers=np.ones([len(sound_names)])*np.nan\n",
    "solution_7a_dict=dict(zip(sound_names,dummy_answers))\n",
    "print(f\"here is the dictionary that will hold  your answers:\\n \" \n",
    "       f\"{pformat(solution_7a_dict)}\")"
   ]
  },
  {
   "cell_type": "code",
   "execution_count": 9,
   "metadata": {
    "nbgrader": {
     "grade": false,
     "grade_id": "cell-2eece71ffb3332fb",
     "locked": false,
     "schema_version": 2,
     "solution": true
    }
   },
   "outputs": [
    {
     "name": "stdout",
     "output_type": "stream",
     "text": [
      "tropics: 7963.18\n",
      "subsummer: 7626.75\n",
      "subwinter: 7055.06\n",
      "midwinter: 7341.12\n",
      "midsummer: 7868.38\n"
     ]
    }
   ],
   "source": [
    "#\n",
    "# set the top height at 10 km\n",
    "# \n",
    "ztop = 10.e3  #meters\n",
    "#\n",
    "# loop through the dataframes,\n",
    "# calling calcScaleHeight on each\n",
    "# and saving the result in\n",
    "# as an entry solution_7a_dict[name]\n",
    "# i.e. if you pressure height is saved\n",
    "# in the variable press_height, the last line in your loop should look\n",
    "# like:\n",
    "#\n",
    "#  solution_7a_dict[name]=press_height\n",
    "#\n",
    "#\n",
    "for name,df in sound_dict.items():\n",
    "    #\n",
    "    # limit the data frame to the heights below ztop\n",
    "    #\n",
    "    df = df.loc[df['z']<ztop]\n",
    "    ### BEGIN SOLUTION\n",
    "    press_height = calcScaleHeight(df)\n",
    "    solution_7a_dict[name]=press_height\n",
    "    print(f'{name}: {press_height:5.2f}')\n",
    "    ### END SOLUTION   "
   ]
  },
  {
   "cell_type": "code",
   "execution_count": 10,
   "metadata": {
    "nbgrader": {
     "grade": true,
     "grade_id": "cell-5e152b61722c5763",
     "locked": true,
     "points": 2,
     "schema_version": 2,
     "solution": false
    }
   },
   "outputs": [
    {
     "name": "stdout",
     "output_type": "stream",
     "text": [
      "{'midsummer': 7868.0,\n",
      " 'midwinter': 7341.0,\n",
      " 'subsummer': 7627.0,\n",
      " 'subwinter': 7055.0,\n",
      " 'tropics': 7963.0}\n",
      "{'midsummer': 7868.383190898437,\n",
      " 'midwinter': 7341.118088700389,\n",
      " 'subsummer': 7626.7532408505285,\n",
      " 'subwinter': 7055.061834157714,\n",
      " 'tropics': 7963.184095997957}\n"
     ]
    }
   ],
   "source": [
    "### BEGIN HIDDEN TESTS\n",
    "from numpy.testing import assert_allclose, assert_approx_equal\n",
    "with open(a301.data_dir / 'assign7a_answers.json','r') as f:\n",
    "    truth_dict=json.load(f)\n",
    "    pprint(truth_dict)\n",
    "    pprint(solution_7a_dict)\n",
    "    for name,value in truth_dict.items():\n",
    "        assert_approx_equal(solution_7a_dict[name],value,significant=4)\n",
    "### END HIDDEN TESTS\n"
   ]
  },
  {
   "cell_type": "markdown",
   "metadata": {
    "collapsed": true
   },
   "source": [
    "## Question 7b, water vapor\n",
    "\n",
    "2\\.  Define a function calc_wv that takes a sounding dataframe and returns the \"total precipitable water\", which is defined as:\n",
    "\n",
    "$$W = \\int_0^{z_{top}} \\rho_v dz $$\n",
    "\n",
    "Do a change of units to convert $kg\\,m^{-2}$ to $mm\\,m^{-2}$ using the density of liquid water (1000 $kg\\,m^{-3}$) -- that is, turn the kg of water in the 1 square meter column into cubic meters and turn that into $mm/m^{-2}$\n",
    "\n",
    "To get a feel for the expected values, take a look at [this map](https://www.jpl.nasa.gov/spaceimages/details.php?id=PIA12096)\n",
    "\n",
    "Store you answer for each sounding in the following dictionary called solution_7b_dict.  Limit your heights to z below 10 km as in question 7a.\n"
   ]
  },
  {
   "cell_type": "code",
   "execution_count": 11,
   "metadata": {},
   "outputs": [
    {
     "name": "stdout",
     "output_type": "stream",
     "text": [
      "here is the dictionary that will hold  your answers:\n",
      " {'midsummer': nan,\n",
      " 'midwinter': nan,\n",
      " 'subsummer': nan,\n",
      " 'subwinter': nan,\n",
      " 'tropics': nan}\n"
     ]
    }
   ],
   "source": [
    "sound_names=list(sound_dict.keys())\n",
    "dummy_answers=np.ones([len(sound_names)])*np.nan\n",
    "solution_7b_dict=dict(zip(sound_names,dummy_answers))\n",
    "print(f\"here is the dictionary that will hold  your answers:\\n \" \n",
    "       f\"{pformat(solution_7b_dict)}\")"
   ]
  },
  {
   "cell_type": "code",
   "execution_count": 16,
   "metadata": {
    "nbgrader": {
     "grade": false,
     "grade_id": "cell-35e37d062054d36f",
     "locked": false,
     "schema_version": 2,
     "solution": true
    }
   },
   "outputs": [],
   "source": [
    "def calc_wv(df):\n",
    "    \n",
    "    \"\"\"\n",
    "    Calculate the integrated column water content in mm\n",
    "    \n",
    "    Parameters\n",
    "    ----------\n",
    "    \n",
    "    df: dataframe with the following columns\n",
    "    \n",
    "    df['rmix']: vector (float)\n",
    "      vapor mixing ratio in kg/kg\n",
    "      \n",
    "    df['den']: vector (float) of len(df)\n",
    "      the dry air density in kg/m^3\n",
    "      \n",
    "    df['z']: vector (float) of len(df)\n",
    "       the height in m\n",
    "      \n",
    "    Returns\n",
    "    -------\n",
    "     \n",
    "    col_wv: scalar (float)\n",
    "       the column integrated water vapor in meters\n",
    "    \"\"\"\n",
    "### BEGIN SOLUTION\n",
    "    rhov = df['rmix'].values*df['den'].values\n",
    "    mid_rhov = (rhov[1:] + rhov[:-1])/2.\n",
    "    col_wv = np.sum(mid_rhov*np.diff(df['z'].values))\n",
    "    #\n",
    "    # convert kg/m^3 to meters, and meters to mm\n",
    "    #\n",
    "    col_wv = col_wv/1000.*1000.\n",
    "    return col_wv\n",
    "\n",
    "for name,df in sound_dict.items():\n",
    "    top = 10.e3\n",
    "    df = df.loc[df['z']<top]\n",
    "    solution_7b_dict[name] = calc_wv(df)\n",
    "    \n",
    "with open(a301.test_dir / 'assign7b_answers.json','w') as f:\n",
    "    json.dump(solution_7b_dict,f)\n",
    "### END SOLUTION"
   ]
  },
  {
   "cell_type": "code",
   "execution_count": 15,
   "metadata": {
    "nbgrader": {
     "grade": true,
     "grade_id": "cell-13813eae0b99bfc6",
     "locked": true,
     "points": 5,
     "schema_version": 2,
     "solution": false
    }
   },
   "outputs": [
    {
     "name": "stdout",
     "output_type": "stream",
     "text": [
      "{'midsummer': 30.104371717938058,\n",
      " 'midwinter': 9.16804465939493,\n",
      " 'subsummer': 21.454682991540004,\n",
      " 'subwinter': 4.6946539649331,\n",
      " 'tropics': 42.246106013}\n",
      "{'midsummer': 30.104371717938058,\n",
      " 'midwinter': 9.16804465939493,\n",
      " 'subsummer': 21.454682991540004,\n",
      " 'subwinter': 4.6946539649331,\n",
      " 'tropics': 42.246106013}\n"
     ]
    }
   ],
   "source": [
    "### BEGIN HIDDEN TESTS\n",
    "from numpy.testing import assert_allclose, assert_approx_equal\n",
    "with open(a301.test_dir / 'assign7b_answers.json','r') as f:\n",
    "    truth_dict=json.load(f)\n",
    "    pprint(truth_dict)\n",
    "    pprint(solution_7b_dict)\n",
    "    for name,value in truth_dict.items():\n",
    "        assert_approx_equal(solution_7b_dict[name],value,significant=4)\n",
    "### END HIDDEN TESTS"
   ]
  },
  {
   "cell_type": "code",
   "execution_count": null,
   "metadata": {},
   "outputs": [],
   "source": []
  }
 ],
 "metadata": {
  "anaconda-cloud": {},
  "kernelspec": {
   "display_name": "Python 3",
   "language": "python",
   "name": "python3"
  },
  "language_info": {
   "codemirror_mode": {
    "name": "ipython",
    "version": 3
   },
   "file_extension": ".py",
   "mimetype": "text/x-python",
   "name": "python",
   "nbconvert_exporter": "python",
   "pygments_lexer": "ipython3",
   "version": "3.6.5"
  },
  "toc": {
   "base_numbering": 1,
   "nav_menu": {},
   "number_sections": true,
   "sideBar": false,
   "skip_h1_title": false,
   "title_cell": "Table of Contents",
   "title_sidebar": "Contents",
   "toc_cell": true,
   "toc_position": {},
   "toc_section_display": true,
   "toc_window_display": false
  }
 },
 "nbformat": 4,
 "nbformat_minor": 1
}
