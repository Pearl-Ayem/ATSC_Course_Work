{
 "cells": [
  {
   "cell_type": "markdown",
   "metadata": {
    "toc": true
   },
   "source": [
    "<h1>Table of Contents<span class=\"tocSkip\"></span></h1>\n",
    "<div class=\"toc\"><ul class=\"toc-item\"><li><span><a href=\"#Introduction\" data-toc-modified-id=\"Introduction-1\"><span class=\"toc-item-num\">1&nbsp;&nbsp;</span>Introduction</a></span></li><li><span><a href=\"#Read-in-the-height-and-reflectivity-fields\" data-toc-modified-id=\"Read-in-the-height-and-reflectivity-fields-2\"><span class=\"toc-item-num\">2&nbsp;&nbsp;</span>Read in the height and reflectivity fields</a></span></li><li><span><a href=\"#Now-go-get-the-rain-rate\" data-toc-modified-id=\"Now-go-get-the-rain-rate-3\"><span class=\"toc-item-num\">3&nbsp;&nbsp;</span>Now go get the rain rate</a></span></li><li><span><a href=\"#Make-a-masked-array-of-the-reflectivity-so-that-pcolormesh-will-plot-it\" data-toc-modified-id=\"Make-a-masked-array-of-the-reflectivity-so-that-pcolormesh-will-plot-it-4\"><span class=\"toc-item-num\">4&nbsp;&nbsp;</span>Make a masked array of the reflectivity so that pcolormesh will plot it</a></span></li><li><span><a href=\"#Find-the-part-of-the-orbiting-that-corresponds-to-the-3-minutes-containing-the-storm\" data-toc-modified-id=\"Find-the-part-of-the-orbiting-that-corresponds-to-the-3-minutes-containing-the-storm-5\"><span class=\"toc-item-num\">5&nbsp;&nbsp;</span>Find the part of the orbiting that corresponds to the 3 minutes containing the storm</a></span></li><li><span><a href=\"#convert-time-to-distance-by-using-pyproj-to-get-the-greatcircle-distance-between-shots\" data-toc-modified-id=\"convert-time-to-distance-by-using-pyproj-to-get-the-greatcircle-distance-between-shots-6\"><span class=\"toc-item-num\">6&nbsp;&nbsp;</span>convert time to distance by using pyproj to get the greatcircle distance between shots</a></span></li><li><span><a href=\"#Make-the-plot-assuming-that-height-is-the-same-for-every-shot\" data-toc-modified-id=\"Make-the-plot-assuming-that-height-is-the-same-for-every-shot-7\"><span class=\"toc-item-num\">7&nbsp;&nbsp;</span>Make the plot assuming that height is the same for every shot</a></span></li><li><span><a href=\"#Now-add-the-rain-rate\" data-toc-modified-id=\"Now-add-the-rain-rate-8\"><span class=\"toc-item-num\">8&nbsp;&nbsp;</span>Now add the rain rate</a></span></li><li><span><a href=\"#Repeat-for-precipitatable-liquid-water-and-retrieval-uncertainty\" data-toc-modified-id=\"Repeat-for-precipitatable-liquid-water-and-retrieval-uncertainty-9\"><span class=\"toc-item-num\">9&nbsp;&nbsp;</span>Repeat for precipitatable liquid water and retrieval uncertainty</a></span></li></ul></div>"
   ]
  },
  {
   "cell_type": "code",
   "execution_count": 1,
   "metadata": {},
   "outputs": [],
   "source": [
    "from IPython.core.debugger import set_trace"
   ]
  },
  {
   "cell_type": "markdown",
   "metadata": {},
   "source": [
    "# Introduction\n",
    "\n",
    "This notebook uses the 2C-RAIN-PROFILE data to compare rain rate and precipitable liquid water with\n",
    "the cloudsat reflectivity."
   ]
  },
  {
   "cell_type": "markdown",
   "metadata": {},
   "source": [
    "#  Read in the height and reflectivity fields"
   ]
  },
  {
   "cell_type": "code",
   "execution_count": 2,
   "metadata": {},
   "outputs": [],
   "source": [
    "from importlib import reload\n",
    "import numpy as np\n",
    "import datetime as dt\n",
    "from datetime import timezone as tz\n",
    "from matplotlib import pyplot as plt\n",
    "import pyproj\n",
    "from numpy import ma\n",
    "import a301\n",
    "from a301.cloudsat import get_geo\n",
    "from pathlib import Path\n",
    "#\n",
    "# new functions to read vdata and sds arrays\n",
    "#\n",
    "from a301.cloudsat import HDFvd_read, HDFsd_read\n",
    "plt.style.use('ggplot')"
   ]
  },
  {
   "cell_type": "code",
   "execution_count": 3,
   "metadata": {},
   "outputs": [],
   "source": [
    "z_file= list(a301.test_dir.glob('*GEOPROF_GRANULE*hdf'))[0]\n",
    "lats,lons,date_times,prof_times,dem_elevation=get_geo(z_file)\n",
    "radar_reflectivity, radar_attrs = HDFsd_read(z_file,'Radar_Reflectivity')\n",
    "radar_scale = radar_attrs['factor']\n",
    "radar_missing = radar_attrs['missing']\n",
    "radar_height, height_attrs = HDFsd_read(z_file,'Height')\n",
    "meters2km=1.e3"
   ]
  },
  {
   "cell_type": "markdown",
   "metadata": {},
   "source": [
    "# Now go get the rain rate\n",
    "\n",
    "mask all values "
   ]
  },
  {
   "cell_type": "code",
   "execution_count": 4,
   "metadata": {},
   "outputs": [
    {
     "name": "stderr",
     "output_type": "stream",
     "text": [
      "/Users/phil/mb36/lib/python3.6/site-packages/ipykernel_launcher.py:5: RuntimeWarning: invalid value encountered in less\n",
      "  \"\"\"\n"
     ]
    },
    {
     "data": {
      "image/png": "[encoded data removed]",
      "text/plain": [
       "<Figure size 432x288 with 1 Axes>"
      ]
     },
     "metadata": {
      "needs_background": "light"
     },
     "output_type": "display_data"
    }
   ],
   "source": [
    "r_file= list(a301.test_dir.glob('*2C-RAIN-PROFILE*hdf'))[0]\n",
    "rain_rate = HDFvd_read(r_file,'rain_rate',vgroup='Data Fields')\n",
    "invalid = (rain_rate == -9999.)\n",
    "rain_rate[invalid] = np.nan\n",
    "hit = rain_rate < 0.\n",
    "rain_rate[hit] = np.abs(rain_rate[hit])\n",
    "plt.plot(rain_rate);"
   ]
  },
  {
   "cell_type": "markdown",
   "metadata": {},
   "source": [
    "# Make a masked array of the reflectivity so that pcolormesh will plot it\n",
    "\n",
    "note that I need to find the missing data before I divide by factor=100 to\n",
    "convert from int16 to float"
   ]
  },
  {
   "cell_type": "code",
   "execution_count": 5,
   "metadata": {},
   "outputs": [],
   "source": [
    "hit=(radar_reflectivity == radar_missing)\n",
    "radar_reflectivity=radar_reflectivity.astype(np.float)\n",
    "radar_reflectivity[hit]=np.nan\n",
    "zvals = radar_reflectivity/radar_scale\n",
    "zvals=ma.masked_invalid(zvals)"
   ]
  },
  {
   "cell_type": "markdown",
   "metadata": {},
   "source": [
    "# Find the part of the orbiting that corresponds to the 3 minutes containing the storm\n",
    "\n",
    "You need to enter the start_hour and start_minute for the start time of your cyclone in the granule"
   ]
  },
  {
   "cell_type": "code",
   "execution_count": null,
   "metadata": {},
   "outputs": [
    {
     "name": "stdout",
     "output_type": "stream",
     "text": [
      "orbit start: 2008-03-22 06:00:33.115000+00:00\n",
      "storm start: 2008-03-22 06:45:00+00:00\n",
      "--Call--\n",
      "> \u001b[0;32m/Users/phil/mb36/lib/python3.6/site-packages/IPython/core/displayhook.py\u001b[0m(247)\u001b[0;36m__call__\u001b[0;34m()\u001b[0m\n",
      "\u001b[0;32m    245 \u001b[0;31m        \u001b[0msys\u001b[0m\u001b[0;34m.\u001b[0m\u001b[0mstdout\u001b[0m\u001b[0;34m.\u001b[0m\u001b[0mflush\u001b[0m\u001b[0;34m(\u001b[0m\u001b[0;34m)\u001b[0m\u001b[0;34m\u001b[0m\u001b[0m\n",
      "\u001b[0m\u001b[0;32m    246 \u001b[0;31m\u001b[0;34m\u001b[0m\u001b[0m\n",
      "\u001b[0m\u001b[0;32m--> 247 \u001b[0;31m    \u001b[0;32mdef\u001b[0m \u001b[0m__call__\u001b[0m\u001b[0;34m(\u001b[0m\u001b[0mself\u001b[0m\u001b[0;34m,\u001b[0m \u001b[0mresult\u001b[0m\u001b[0;34m=\u001b[0m\u001b[0;32mNone\u001b[0m\u001b[0;34m)\u001b[0m\u001b[0;34m:\u001b[0m\u001b[0;34m\u001b[0m\u001b[0m\n",
      "\u001b[0m\u001b[0;32m    248 \u001b[0;31m        \"\"\"Printing with history cache management.\n",
      "\u001b[0m\u001b[0;32m    249 \u001b[0;31m\u001b[0;34m\u001b[0m\u001b[0m\n",
      "\u001b[0m\n",
      "ipdb> h\n",
      "\n",
      "Documented commands (type help <topic>):\n",
      "========================================\n",
      "EOF    cl         disable  interact  next    psource  rv         unt   \n",
      "a      clear      display  j         p       q        s          until \n",
      "alias  commands   down     jump      pdef    quit     source     up    \n",
      "args   condition  enable   l         pdoc    r        step       w     \n",
      "b      cont       exit     list      pfile   restart  tbreak     whatis\n",
      "break  continue   h        ll        pinfo   return   u          where \n",
      "bt     d          help     longlist  pinfo2  retval   unalias  \n",
      "c      debug      ignore   n         pp      run      undisplay\n",
      "\n",
      "Miscellaneous help topics:\n",
      "==========================\n",
      "exec  pdb\n",
      "\n",
      "ipdb> h d\n",
      "d(own) [count]\n",
      "Move the current frame count (default one) levels down in the\n",
      "stack trace (to a newer frame).\n",
      "ipdb> len(time_hit)\n",
      "*** NameError: name 'time_hit' is not defined\n",
      "ipdb> d 1\n",
      "*** Newest frame\n",
      "ipdb> len(time_hit)\n",
      "*** NameError: name 'time_hit' is not defined\n",
      "ipdb> l\n",
      "\u001b[1;32m    242 \u001b[0m    \u001b[0;32mdef\u001b[0m \u001b[0mfinish_displayhook\u001b[0m\u001b[0;34m(\u001b[0m\u001b[0mself\u001b[0m\u001b[0;34m)\u001b[0m\u001b[0;34m:\u001b[0m\u001b[0;34m\u001b[0m\u001b[0m\n",
      "\u001b[1;32m    243 \u001b[0m        \u001b[0;34m\"\"\"Finish up all displayhook activities.\"\"\"\u001b[0m\u001b[0;34m\u001b[0m\u001b[0m\n",
      "\u001b[1;32m    244 \u001b[0m        \u001b[0msys\u001b[0m\u001b[0;34m.\u001b[0m\u001b[0mstdout\u001b[0m\u001b[0;34m.\u001b[0m\u001b[0mwrite\u001b[0m\u001b[0;34m(\u001b[0m\u001b[0mself\u001b[0m\u001b[0;34m.\u001b[0m\u001b[0mshell\u001b[0m\u001b[0;34m.\u001b[0m\u001b[0mseparate_out2\u001b[0m\u001b[0;34m)\u001b[0m\u001b[0;34m\u001b[0m\u001b[0m\n",
      "\u001b[1;32m    245 \u001b[0m        \u001b[0msys\u001b[0m\u001b[0;34m.\u001b[0m\u001b[0mstdout\u001b[0m\u001b[0;34m.\u001b[0m\u001b[0mflush\u001b[0m\u001b[0;34m(\u001b[0m\u001b[0;34m)\u001b[0m\u001b[0;34m\u001b[0m\u001b[0m\n",
      "\u001b[1;32m    246 \u001b[0m\u001b[0;34m\u001b[0m\u001b[0m\n",
      "\u001b[0;32m--> 247 \u001b[0;31m    \u001b[0;32mdef\u001b[0m \u001b[0m__call__\u001b[0m\u001b[0;34m(\u001b[0m\u001b[0mself\u001b[0m\u001b[0;34m,\u001b[0m \u001b[0mresult\u001b[0m\u001b[0;34m=\u001b[0m\u001b[0;32mNone\u001b[0m\u001b[0;34m)\u001b[0m\u001b[0;34m:\u001b[0m\u001b[0;34m\u001b[0m\u001b[0m\n",
      "\u001b[0m\u001b[1;32m    248 \u001b[0m        \"\"\"Printing with history cache management.\n",
      "\u001b[1;32m    249 \u001b[0m\u001b[0;34m\u001b[0m\u001b[0m\n",
      "\u001b[1;32m    250 \u001b[0m        \u001b[0mThis\u001b[0m \u001b[0;32mis\u001b[0m \u001b[0minvoked\u001b[0m \u001b[0meverytime\u001b[0m \u001b[0mthe\u001b[0m \u001b[0minterpreter\u001b[0m \u001b[0mneeds\u001b[0m \u001b[0mto\u001b[0m \u001b[0mprint\u001b[0m\u001b[0;34m,\u001b[0m \u001b[0;32mand\u001b[0m \u001b[0;32mis\u001b[0m\u001b[0;34m\u001b[0m\u001b[0m\n",
      "\u001b[1;32m    251 \u001b[0m        \u001b[0mactivated\u001b[0m \u001b[0mby\u001b[0m \u001b[0msetting\u001b[0m \u001b[0mthe\u001b[0m \u001b[0mvariable\u001b[0m \u001b[0msys\u001b[0m\u001b[0;34m.\u001b[0m\u001b[0mdisplayhook\u001b[0m \u001b[0mto\u001b[0m \u001b[0mit\u001b[0m\u001b[0;34m.\u001b[0m\u001b[0;34m\u001b[0m\u001b[0m\n",
      "\u001b[1;32m    252 \u001b[0m        \"\"\"\n",
      "\n",
      "ipdb> u\n",
      "> \u001b[0;32m<ipython-input-6-ae7467f6c42a>\u001b[0m(20)\u001b[0;36m<module>\u001b[0;34m()\u001b[0m\n",
      "\u001b[0;32m     16 \u001b[0;31m\u001b[0mstorm_zvals\u001b[0m\u001b[0;34m=\u001b[0m\u001b[0mzvals\u001b[0m\u001b[0;34m[\u001b[0m\u001b[0mtime_hit\u001b[0m\u001b[0;34m,\u001b[0m\u001b[0;34m:\u001b[0m\u001b[0;34m]\u001b[0m\u001b[0;34m\u001b[0m\u001b[0m\n",
      "\u001b[0m\u001b[0;32m     17 \u001b[0;31m\u001b[0mstorm_height\u001b[0m\u001b[0;34m=\u001b[0m\u001b[0mradar_height\u001b[0m\u001b[0;34m[\u001b[0m\u001b[0mtime_hit\u001b[0m\u001b[0;34m,\u001b[0m\u001b[0;34m:\u001b[0m\u001b[0;34m]\u001b[0m\u001b[0;34m\u001b[0m\u001b[0m\n",
      "\u001b[0m\u001b[0;32m     18 \u001b[0;31m\u001b[0mstorm_date_times\u001b[0m\u001b[0;34m=\u001b[0m\u001b[0mdate_times\u001b[0m\u001b[0;34m[\u001b[0m\u001b[0mtime_hit\u001b[0m\u001b[0;34m]\u001b[0m\u001b[0;34m\u001b[0m\u001b[0m\n",
      "\u001b[0m\u001b[0;32m     19 \u001b[0;31m\u001b[0mrain_rate\u001b[0m\u001b[0;34m=\u001b[0m\u001b[0mrain_rate\u001b[0m\u001b[0;34m[\u001b[0m\u001b[0mtime_hit\u001b[0m\u001b[0;34m]\u001b[0m\u001b[0;34m\u001b[0m\u001b[0m\n",
      "\u001b[0m\u001b[0;32m---> 20 \u001b[0;31m\u001b[0mset_trace\u001b[0m\u001b[0;34m(\u001b[0m\u001b[0;34m)\u001b[0m\u001b[0;34m\u001b[0m\u001b[0m\n",
      "\u001b[0m\n",
      "ipdb> time_hit\n",
      "array([False, False, False, ..., False, False, False])\n",
      "ipdb> rain_rate\n",
      "array([[0.],\n",
      "       [0.],\n",
      "       [0.],\n",
      "       ...,\n",
      "       [0.],\n",
      "       [0.],\n",
      "       [0.]])\n",
      "ipdb> len(time_hit)\n",
      "37082\n",
      "ipdb> np.max(rain_rate)\n"
     ]
    },
    {
     "name": "stderr",
     "output_type": "stream",
     "text": [
      "/Users/phil/mb36/lib/python3.6/site-packages/numpy/core/fromnumeric.py:83: RuntimeWarning: invalid value encountered in reduce\n",
      "  return ufunc.reduce(obj, axis, dtype, out, **passkwargs)\n"
     ]
    },
    {
     "name": "stdout",
     "output_type": "stream",
     "text": [
      "nan\n",
      "ipdb> type(rain_rate)\n",
      "<class 'numpy.ndarray'>\n",
      "ipdb> rain_rate.max()\n"
     ]
    },
    {
     "name": "stderr",
     "output_type": "stream",
     "text": [
      "/Users/phil/mb36/lib/python3.6/site-packages/numpy/core/_methods.py:28: RuntimeWarning: invalid value encountered in reduce\n",
      "  return umr_maximum(a, axis, None, out, keepdims, initial)\n"
     ]
    },
    {
     "name": "stdout",
     "output_type": "stream",
     "text": [
      "nan\n",
      "ipdb> out=rain_rate[~np.isnan(rain_rate)]\n",
      "ipdb> out.max()\n",
      "8.677999496459961\n",
      "ipdb> h\n",
      "\n",
      "Documented commands (type help <topic>):\n",
      "========================================\n",
      "EOF    cl         disable  interact  next    psource  rv         unt   \n",
      "a      clear      display  j         p       q        s          until \n",
      "alias  commands   down     jump      pdef    quit     source     up    \n",
      "args   condition  enable   l         pdoc    r        step       w     \n",
      "b      cont       exit     list      pfile   restart  tbreak     whatis\n",
      "break  continue   h        ll        pinfo   return   u          where \n",
      "bt     d          help     longlist  pinfo2  retval   unalias  \n",
      "c      debug      ignore   n         pp      run      undisplay\n",
      "\n",
      "Miscellaneous help topics:\n",
      "==========================\n",
      "exec  pdb\n",
      "\n",
      "ipdb> h a\n",
      "a(rgs)\n",
      "        Print the argument list of the current function.\n",
      "ipdb> l\n",
      "\u001b[1;32m     15 \u001b[0m\u001b[0mstorm_prof_times\u001b[0m\u001b[0;34m=\u001b[0m\u001b[0mprof_times\u001b[0m\u001b[0;34m[\u001b[0m\u001b[0mtime_hit\u001b[0m\u001b[0;34m]\u001b[0m\u001b[0;34m\u001b[0m\u001b[0m\n",
      "\u001b[1;32m     16 \u001b[0m\u001b[0mstorm_zvals\u001b[0m\u001b[0;34m=\u001b[0m\u001b[0mzvals\u001b[0m\u001b[0;34m[\u001b[0m\u001b[0mtime_hit\u001b[0m\u001b[0;34m,\u001b[0m\u001b[0;34m:\u001b[0m\u001b[0;34m]\u001b[0m\u001b[0;34m\u001b[0m\u001b[0m\n",
      "\u001b[1;32m     17 \u001b[0m\u001b[0mstorm_height\u001b[0m\u001b[0;34m=\u001b[0m\u001b[0mradar_height\u001b[0m\u001b[0;34m[\u001b[0m\u001b[0mtime_hit\u001b[0m\u001b[0;34m,\u001b[0m\u001b[0;34m:\u001b[0m\u001b[0;34m]\u001b[0m\u001b[0;34m\u001b[0m\u001b[0m\n",
      "\u001b[1;32m     18 \u001b[0m\u001b[0mstorm_date_times\u001b[0m\u001b[0;34m=\u001b[0m\u001b[0mdate_times\u001b[0m\u001b[0;34m[\u001b[0m\u001b[0mtime_hit\u001b[0m\u001b[0;34m]\u001b[0m\u001b[0;34m\u001b[0m\u001b[0m\n",
      "\u001b[1;32m     19 \u001b[0m\u001b[0mrain_rate\u001b[0m\u001b[0;34m=\u001b[0m\u001b[0mrain_rate\u001b[0m\u001b[0;34m[\u001b[0m\u001b[0mtime_hit\u001b[0m\u001b[0;34m]\u001b[0m\u001b[0;34m\u001b[0m\u001b[0m\n",
      "\u001b[0;32m---> 20 \u001b[0;31m\u001b[0mset_trace\u001b[0m\u001b[0;34m(\u001b[0m\u001b[0;34m)\u001b[0m\u001b[0;34m\u001b[0m\u001b[0m\n",
      "\u001b[0m\n",
      "ipdb> l 10\n",
      "\u001b[1;32m      5 \u001b[0mstorm_start=starttime=dt.datetime(first_time.year,first_time.month,first_time.day,\n",
      "\u001b[1;32m      6 \u001b[0m                                        start_hour,start_minute,0,tzinfo=tz.utc)\n",
      "\u001b[1;32m      7 \u001b[0m\u001b[0;31m#\u001b[0m\u001b[0;34m\u001b[0m\u001b[0;34m\u001b[0m\u001b[0m\n",
      "\u001b[1;32m      8 \u001b[0m\u001b[0;31m# get 3 minutes of data from the storm_start\u001b[0m\u001b[0;34m\u001b[0m\u001b[0;34m\u001b[0m\u001b[0m\n",
      "\u001b[1;32m      9 \u001b[0m\u001b[0;31m#\u001b[0m\u001b[0;34m\u001b[0m\u001b[0;34m\u001b[0m\u001b[0m\n",
      "\u001b[1;32m     10 \u001b[0m\u001b[0mstorm_stop\u001b[0m\u001b[0;34m=\u001b[0m\u001b[0mstorm_start\u001b[0m \u001b[0;34m+\u001b[0m \u001b[0mdt\u001b[0m\u001b[0;34m.\u001b[0m\u001b[0mtimedelta\u001b[0m\u001b[0;34m(\u001b[0m\u001b[0mminutes\u001b[0m\u001b[0;34m=\u001b[0m\u001b[0;36m3\u001b[0m\u001b[0;34m)\u001b[0m\u001b[0;34m\u001b[0m\u001b[0m\n",
      "\u001b[1;32m     11 \u001b[0m\u001b[0mprint\u001b[0m\u001b[0;34m(\u001b[0m\u001b[0;34mf'storm start: {storm_start}'\u001b[0m\u001b[0;34m)\u001b[0m\u001b[0;34m\u001b[0m\u001b[0m\n",
      "\u001b[1;32m     12 \u001b[0m\u001b[0mtime_hit\u001b[0m \u001b[0;34m=\u001b[0m \u001b[0mnp\u001b[0m\u001b[0;34m.\u001b[0m\u001b[0mlogical_and\u001b[0m\u001b[0;34m(\u001b[0m\u001b[0mdate_times\u001b[0m \u001b[0;34m>\u001b[0m \u001b[0mstorm_start\u001b[0m\u001b[0;34m,\u001b[0m\u001b[0mdate_times\u001b[0m \u001b[0;34m<\u001b[0m \u001b[0mstorm_stop\u001b[0m\u001b[0;34m)\u001b[0m\u001b[0;34m\u001b[0m\u001b[0m\n",
      "\u001b[1;32m     13 \u001b[0m\u001b[0mstorm_lats\u001b[0m \u001b[0;34m=\u001b[0m \u001b[0mlats\u001b[0m\u001b[0;34m[\u001b[0m\u001b[0mtime_hit\u001b[0m\u001b[0;34m]\u001b[0m\u001b[0;34m\u001b[0m\u001b[0m\n",
      "\u001b[1;32m     14 \u001b[0m\u001b[0mstorm_lons\u001b[0m\u001b[0;34m=\u001b[0m\u001b[0mlons\u001b[0m\u001b[0;34m[\u001b[0m\u001b[0mtime_hit\u001b[0m\u001b[0;34m]\u001b[0m\u001b[0;34m\u001b[0m\u001b[0m\n",
      "\u001b[1;32m     15 \u001b[0m\u001b[0mstorm_prof_times\u001b[0m\u001b[0;34m=\u001b[0m\u001b[0mprof_times\u001b[0m\u001b[0;34m[\u001b[0m\u001b[0mtime_hit\u001b[0m\u001b[0;34m]\u001b[0m\u001b[0;34m\u001b[0m\u001b[0m\n",
      "\n"
     ]
    }
   ],
   "source": [
    "first_time=date_times[0]\n",
    "print(f'orbit start: {first_time}')\n",
    "start_hour=6\n",
    "start_minute=45\n",
    "storm_start=starttime=dt.datetime(first_time.year,first_time.month,first_time.day,\n",
    "                                        start_hour,start_minute,0,tzinfo=tz.utc)\n",
    "#\n",
    "# get 3 minutes of data from the storm_start\n",
    "#\n",
    "storm_stop=storm_start + dt.timedelta(minutes=3)\n",
    "print(f'storm start: {storm_start}')\n",
    "time_hit = np.logical_and(date_times > storm_start,date_times < storm_stop)\n",
    "storm_lats = lats[time_hit]\n",
    "storm_lons=lons[time_hit]\n",
    "storm_prof_times=prof_times[time_hit]\n",
    "storm_zvals=zvals[time_hit,:]\n",
    "storm_height=radar_height[time_hit,:]\n",
    "storm_date_times=date_times[time_hit]\n",
    "rain_rate=rain_rate[time_hit]\n",
    "set_trace()"
   ]
  },
  {
   "cell_type": "markdown",
   "metadata": {},
   "source": [
    "# convert time to distance by using pyproj to get the greatcircle distance between shots"
   ]
  },
  {
   "cell_type": "code",
   "execution_count": null,
   "metadata": {},
   "outputs": [],
   "source": [
    "great_circle=pyproj.Geod(ellps='WGS84')\n",
    "distance=[0]\n",
    "start=(storm_lons[0],storm_lats[0])\n",
    "for index in np.arange(1,len(storm_lons)):\n",
    "    azi12,azi21,step= great_circle.inv(storm_lons[index-1],storm_lats[index-1],\n",
    "                                       storm_lons[index],storm_lats[index])\n",
    "    distance.append(distance[index-1] + step)\n",
    "distance=np.array(distance)/meters2km"
   ]
  },
  {
   "cell_type": "markdown",
   "metadata": {},
   "source": [
    "# Make the plot assuming that height is the same for every shot\n",
    "\n",
    "We need to customize the subplots so we can share the x axis between the radar reflectivity\n",
    "and the rain_rate, and adjust the sizes to hold a colorbar"
   ]
  },
  {
   "cell_type": "code",
   "execution_count": null,
   "metadata": {
    "scrolled": false
   },
   "outputs": [],
   "source": [
    "%matplotlib inline\n",
    "\n",
    "from matplotlib import cm\n",
    "from matplotlib.colors import Normalize\n",
    "from mpl_toolkits.axes_grid1 import make_axes_locatable\n",
    "\n",
    "def plot_field2(distance,height,field,fig,cmap=None,norm=None):\n",
    "    \"\"\"\n",
    "    draw a 2 panel plot with different panel sizes.  Put the radar reflectivity\n",
    "    in the top panel with a colorbar along the bottom, and pass the second\n",
    "    axis back to be filled in later\n",
    "    \n",
    "    uses the sharex keyword to give both plots the same x axis (distance) \n",
    "    and the gridspec class to lay out the grid\n",
    "    \n",
    "    https://stackoverflow.com/questions/10388462/matplotlib-different-size-subplots\n",
    "    \"\"\"\n",
    "    from matplotlib import gridspec\n",
    "    gs = gridspec.GridSpec(2, 1, height_ratios=[2, 1]) \n",
    "    ax1 = fig.add_subplot(gs[0])\n",
    "    ax2 = fig.add_subplot(gs[1],sharex=ax1)\n",
    "    if cmap is None:\n",
    "        cmap=cm.inferno\n",
    "    col=ax1.pcolormesh(distance,height,field,cmap=cmap,\n",
    "                  norm=the_norm)\n",
    "    #https://stackoverflow.com/questions/18195758/set-matplotlib-colorbar-size-to-match-graph\n",
    "    # create an axes on the bottom side of ax1. The height of cax will be 5%\n",
    "    # of ax and the padding between cax and ax will be fixed at 0.55 inch.\n",
    "    divider = make_axes_locatable(ax1)\n",
    "    cax = divider.append_axes(\"bottom\", size=\"5%\", pad=0.55)\n",
    "    ax1.figure.colorbar(col,extend='both',cax=cax,orientation='horizontal')\n",
    "    return ax1, ax2\n",
    "\n",
    "vmin=-30\n",
    "vmax=20\n",
    "the_norm=Normalize(vmin=vmin,vmax=vmax,clip=False)\n",
    "cmap_ref=cm.plasma\n",
    "cmap_ref.set_over('c')\n",
    "cmap_ref.set_under('b',alpha=0.2)\n",
    "cmap_ref.set_bad('0.75') #75% grey\n",
    "\n",
    "cloud_height_km=radar_height[0,:]/meters2km\n",
    "fig = plt.figure(figsize=(15, 8)) \n",
    "ax1, ax2 = plot_field2(distance,cloud_height_km,storm_zvals.T,fig,cmap=cmap_ref,norm=the_norm)\n",
    "ax1.set(ylim=[0,17],xlim=(0,1200))\n",
    "ax1.set(xlabel='distance (km)',ylabel='height (km)',\n",
    "       title='equivalent radar reflectivity in dbZe');\n"
   ]
  },
  {
   "cell_type": "markdown",
   "metadata": {},
   "source": [
    "# Now add the rain rate\n",
    "\n",
    "Use the second axis to draw the rain rate and redraw the figure"
   ]
  },
  {
   "cell_type": "code",
   "execution_count": null,
   "metadata": {
    "scrolled": false
   },
   "outputs": [],
   "source": [
    "ax2.plot(distance,rain_rate)\n",
    "ax2.set(xlabel='distance (km)',ylabel='rain rate (mm/hour)')\n",
    "display(fig)"
   ]
  },
  {
   "cell_type": "markdown",
   "metadata": {},
   "source": [
    "# Repeat for precipitatable liquid water and retrieval uncertainty\n",
    "\n",
    "Make a new plot pair -- for variable information see the [dataset docs](http://www.cloudsat.cira.colostate.edu/data-products/level-2c/2c-rain-profile?term=56)"
   ]
  },
  {
   "cell_type": "code",
   "execution_count": null,
   "metadata": {},
   "outputs": [],
   "source": [
    "liquid_water, lw_attributes = HDFsd_read(r_file,'precip_liquid_water')\n",
    "lw_attributes"
   ]
  },
  {
   "cell_type": "code",
   "execution_count": null,
   "metadata": {},
   "outputs": [],
   "source": [
    "precip_uncertainty = HDFvd_read(r_file,'rain_rate_uncertainty',vgroup='Data Fields')\n",
    "storm_liquid=liquid_water[time_hit,:]/lw_attributes['factor']\n",
    "precip_uncert=precip_uncertainty[time_hit]\n",
    "\n",
    "vmin=0.01\n",
    "vmax=0.5\n",
    "the_norm=Normalize(vmin=vmin,vmax=vmax,clip=False)\n",
    "cmap_ref=cm.plasma\n",
    "cmap_ref.set_over('w')\n",
    "cmap_ref.set_under('b',alpha=0.02)\n",
    "cmap_ref.set_bad('0.75') #75% grey\n",
    "\n",
    "fig = plt.figure(figsize=(15, 8)) \n",
    "ax1, ax2 = plot_field2(distance,cloud_height_km,storm_liquid.T,fig,cmap=cmap_ref,norm=the_norm)\n",
    "ax1.set(ylim=[0,6],xlim=(0,1200))\n",
    "ax1.set(xlabel='distance (km)',ylabel='height (km)',\n",
    "       title='precipitable liquid water content (g/m^3)')\n",
    "ax2.plot(distance,precip_uncert)\n",
    "ax2.set(ylim=[0,15],xlabel='distance (km)',ylabel='rain rate uncertainty (%)');"
   ]
  },
  {
   "cell_type": "code",
   "execution_count": null,
   "metadata": {},
   "outputs": [],
   "source": [
    "lw_attributes"
   ]
  },
  {
   "cell_type": "code",
   "execution_count": null,
   "metadata": {},
   "outputs": [],
   "source": []
  }
 ],
 "metadata": {
  "anaconda-cloud": {},
  "kernelspec": {
   "display_name": "Python 3",
   "language": "python",
   "name": "python3"
  },
  "language_info": {
   "codemirror_mode": {
    "name": "ipython",
    "version": 3
   },
   "file_extension": ".py",
   "mimetype": "text/x-python",
   "name": "python",
   "nbconvert_exporter": "python",
   "pygments_lexer": "ipython3",
   "version": "3.6.6"
  },
  "toc": {
   "base_numbering": 1,
   "nav_menu": {},
   "number_sections": true,
   "sideBar": false,
   "skip_h1_title": false,
   "title_cell": "Table of Contents",
   "title_sidebar": "Contents",
   "toc_cell": true,
   "toc_position": {},
   "toc_section_display": true,
   "toc_window_display": false
  }
 },
 "nbformat": 4,
 "nbformat_minor": 1
}
