{
 "cells": [
  {
   "cell_type": "markdown",
   "metadata": {
    "toc": true
   },
   "source": [
    "<h1>Table of Contents<span class=\"tocSkip\"></span></h1>\n",
    "<div class=\"toc\"><ul class=\"toc-item\"><li><span><a href=\"#Introduction\" data-toc-modified-id=\"Introduction-1\"><span class=\"toc-item-num\">1&nbsp;&nbsp;</span>Introduction</a></span></li><li><span><a href=\"#Reading-the-geolocation-data\" data-toc-modified-id=\"Reading-the-geolocation-data-2\"><span class=\"toc-item-num\">2&nbsp;&nbsp;</span>Reading the geolocation data</a></span></li><li><span><a href=\"#Check-the-metadata-with-hdf4ls\" data-toc-modified-id=\"Check-the-metadata-with-hdf4ls-3\"><span class=\"toc-item-num\">3&nbsp;&nbsp;</span>Check the metadata with hdf4ls</a></span></li><li><span><a href=\"#Read-the-CoreMetadata.0-attribute-with-parseMeta\" data-toc-modified-id=\"Read-the-CoreMetadata.0-attribute-with-parseMeta-4\"><span class=\"toc-item-num\">4&nbsp;&nbsp;</span>Read the CoreMetadata.0 attribute with parseMeta</a></span></li><li><span><a href=\"#Plotting-the-lats-and-lons\" data-toc-modified-id=\"Plotting-the-lats-and-lons-5\"><span class=\"toc-item-num\">5&nbsp;&nbsp;</span>Plotting the lats and lons</a></span></li></ul></div>"
   ]
  },
  {
   "cell_type": "code",
   "execution_count": 1,
   "metadata": {},
   "outputs": [
    {
     "name": "stdout",
     "output_type": "stream",
     "text": [
      "******************************\n",
      "context imported. Front of path:\n",
      "/Users/phil/repos/a301_code\n",
      "\n",
      "******************************\n",
      "\n"
     ]
    }
   ],
   "source": [
    "from pathlib import Path\n",
    "from pyhdf.SD import SD, SDC\n",
    "from matplotlib import pyplot as plt\n",
    "import context"
   ]
  },
  {
   "cell_type": "markdown",
   "metadata": {},
   "source": [
    "# Introduction\n",
    "\n",
    "This notebook shows how to use:\n",
    "\n",
    "* [hdf4ls](https://github.com/phaustin/a301_code/blob/master/a301/scripts/hdf4ls.py) to\n",
    "  list the contents of an hdf4 Modis file\n",
    "  \n",
    "* [modismeta_read](https://github.com/phaustin/a301_code/blob/master/a301/scripts/modismeta_read.py) to print\n",
    "  some of the metadata of an hdf4 Modis file\n",
    "  \n",
    "You'll need to download the MYD03 lat/lon file from LAADSweb that corresponds to your\n",
    "MYD02 level1b granule"
   ]
  },
  {
   "cell_type": "markdown",
   "metadata": {},
   "source": [
    "# Reading the geolocation data\n",
    "\n",
    "I downloaded a lat/lon MYD03 file from LAADSweb.  This contains the center lat and longitude\n",
    "of every pixel at 1 km resolution."
   ]
  },
  {
   "cell_type": "code",
   "execution_count": 2,
   "metadata": {},
   "outputs": [
    {
     "name": "stdout",
     "output_type": "stream",
     "text": [
      "[PosixPath('/Users/phil/repos/a301_code/data/MYD03.A2013222.2110.006.2013223160438.hdf')]\n"
     ]
    }
   ],
   "source": [
    "#Path.cwd finds the \"current working directory\", i.e. the directory holding this notebook.\n",
    "this_dir=Path.cwd()\n",
    "#move up one one folder and down to data\n",
    "data_dir = this_dir.parent / Path('data')\n",
    "hdf_files=list(data_dir.glob(\"MYD03*2110*.hdf\"))\n",
    "print(hdf_files)"
   ]
  },
  {
   "cell_type": "code",
   "execution_count": 3,
   "metadata": {},
   "outputs": [
    {
     "name": "stdout",
     "output_type": "stream",
     "text": [
      "trying https://clouds.eos.ubc.ca/~phil/courses/atsc301/downloads/MYD03.A2013222.2105.006.2013223155808.hdf\n",
      "writing to: MYD03.A2013222.2105.006.2013223155808.hdf\n",
      "writing temporary file MYD03.A2013222.2105.006.2013223155808.hdf_tmp\n",
      "downloaded MYD03.A2013222.2105.006.2013223155808.hdf\n",
      "size = 38259686\n"
     ]
    }
   ],
   "source": [
    "read_data=True\n",
    "if read_data:\n",
    "    filename=\"MYD03.A2013222.2105.006.2013223155808.hdf\"\n",
    "    from a301.utils.data_read import download\n",
    "    download(filename)\n",
    "    local_file = Path.cwd() / Path(filename)\n",
    "    to_file = data_dir / Path(filename)\n",
    "    local_file.rename(to_file)"
   ]
  },
  {
   "cell_type": "markdown",
   "metadata": {},
   "source": [
    "# Check the metadata with hdf4ls"
   ]
  },
  {
   "cell_type": "code",
   "execution_count": 4,
   "metadata": {},
   "outputs": [
    {
     "name": "stdout",
     "output_type": "stream",
     "text": [
      "Help on function hdf4ls in module a301.scripts.hdf4ls:\n",
      "\n",
      "hdf4ls(filename)\n",
      "    Read the SDS datasets and global attributes of an hdf4 file\n",
      "    \n",
      "    Parameters\n",
      "    ----------\n",
      "    \n",
      "    filename: str or Path object\n",
      "        hdf4 file to read\n",
      "    \n",
      "    Returns\n",
      "    -------\n",
      "    \n",
      "    prints the metadata\n",
      "\n"
     ]
    }
   ],
   "source": [
    "from a301.scripts.hdf4ls import hdf4ls\n",
    "help(hdf4ls)"
   ]
  },
  {
   "cell_type": "code",
   "execution_count": 5,
   "metadata": {},
   "outputs": [
    {
     "name": "stdout",
     "output_type": "stream",
     "text": [
      "\n",
      "**************************************************\n",
      "Reading /Users/phil/repos/a301_code/data/MYD03.A2013222.2110.006.2013223160438.hdf\n",
      "\n",
      "nnumber of datasets, number of attributes\n",
      "=(46, 27)\n",
      "**************************************************\n",
      "\n",
      "\n",
      "**************************************************\n",
      "Here are the datasets\n",
      "**************************************************\n",
      "\n",
      "0 Latitude\n",
      "1 Longitude\n",
      "2 Scan Offset\n",
      "3 Track Offset\n",
      "4 Height Offset\n",
      "5 Height\n",
      "6 SensorZenith\n",
      "7 SensorAzimuth\n",
      "8 Range\n",
      "9 SolarZenith\n",
      "10 SolarAzimuth\n",
      "11 Land/SeaMask\n",
      "12 WaterPresent\n",
      "13 gflags\n",
      "14 Scan number\n",
      "15 EV frames\n",
      "16 SD frames\n",
      "17 SV frames\n",
      "18 EV start time\n",
      "19 SD start time\n",
      "20 SV start time\n",
      "21 EV center time\n",
      "22 Mirror side\n",
      "23 SD Sun zenith\n",
      "24 SD Sun azimuth\n",
      "25 Moon Vector\n",
      "26 L1 scan quality\n",
      "27 Geo scan quality\n",
      "28 orb_pos\n",
      "29 orb_vel\n",
      "30 T_inst2ECR\n",
      "31 attitude_angles\n",
      "32 sun_ref\n",
      "33 num_impulse\n",
      "34 impulse_enc\n",
      "35 impulse_time\n",
      "36 Scan Type\n",
      "37 thermal_correction\n",
      "38 attitude_quality\n",
      "39 ephemeris_quality\n",
      "40 Focal_length\n",
      "41 band_position\n",
      "42 detector_space\n",
      "43 detector_offsets\n",
      "44 T_offset\n",
      "45 num_samples\n",
      "\n",
      "**************************************************\n",
      "Here are the truncated global attributes\n",
      "**************************************************\n",
      "\n",
      "Key: HDFEOSVersion --- Value: HDFEOS_V2.16\n",
      "Key: StructMetadata.0 --- Value: GROUP=SwathStructure\n",
      "\tGROUP=SWATH_1\n",
      "\t\tSwathName=\"MODIS_Swath_Type_GEO\"\n",
      "\t\tGROUP=Dimension\n",
      "\t\t\tOBJECT=D\n",
      "Key: band_number --- Value: 0\n",
      "Key: Ephemeris Input Files.1 --- Value: GRANULE: ftp://tads1u.ecs.nasa.gov/data/s4pa/.entRUsfomwqHapKT/aqua_dprep/PM1EPHD/2013/222/PM_DEFORB\n",
      "Key: Attitude Input Files.1 --- Value: GRANULE: ftp://tads1u.ecs.nasa.gov/data/s4pa/.entRUsfomwqHapKT/aqua_dprep/PMCOGBAD.2/2013/222/DAAC_D\n",
      "Key: identifier_product_doi --- Value: 10.5067/MODIS/MYD03.006\n",
      "Key: identifier_product_doi_authority --- Value: http://dx.doi.org\n",
      "Key: CoreMetadata.0 --- Value: \n",
      "GROUP                  = INVENTORYMETADATA\n",
      "  GROUPTYPE            = MASTERGROUP\n",
      "\n",
      "  GROUP           \n",
      "Key: ArchiveMetadata.0 --- Value: \n",
      "GROUP                  = ARCHIVEDMETADATA\n",
      "  GROUPTYPE            = MASTERGROUP\n",
      "\n",
      "  OBJECT           \n",
      "Key: Number of Scans --- Value: 203\n",
      "Key: Max Earth Frames --- Value: 1354\n",
      "Key: Max SD Frames --- Value: 50\n",
      "Key: Max SV Frames --- Value: 50\n",
      "Key: Incomplete Scans --- Value: 0\n",
      "Key: Missing Packets --- Value: 0\n",
      "Key: Packets with bad CRC --- Value: 0\n",
      "Key: Discarded Packets --- Value: 0\n",
      "Key: Ephemeris/Attitude Source --- Value: SDP Toolkit\n",
      "Key: Terrain Correction Flag --- Value: TRUE\n",
      "Key: Parameter Version --- Value: 6.10\n",
      "Key: GEO_EST_RMS_ERROR --- Value: 75.0\n",
      "Key: Cumulated gflags --- Value: [0, 0, 0, 0, 0, 0, 0, 0]\n",
      "Key: utcpole File Header --- Value: File Updated: 2013-08-09T01:59:40Z, using USNO ser7 finals.data file of Aug  08\n",
      "Key: Polar Motion --- Value: [0.17456454183492393, 0.35070693285928844, 0.048795818428819436]\n",
      "Key: HDFEOS_FractionalOffset_nscans*20_MODIS_Swath_Type_GEO --- Value: 0.5\n",
      "Key: HDFEOS_FractionalOffset_mframes*2_MODIS_Swath_Type_GEO --- Value: 0.0\n",
      "Key: NOT EMPTY19622 --- Value: NOT EMPTY\n"
     ]
    }
   ],
   "source": [
    "hdf4ls(hdf_files[0])"
   ]
  },
  {
   "cell_type": "markdown",
   "metadata": {},
   "source": [
    "# Read the CoreMetadata.0 attribute with parseMeta"
   ]
  },
  {
   "cell_type": "code",
   "execution_count": 6,
   "metadata": {},
   "outputs": [
    {
     "name": "stdout",
     "output_type": "stream",
     "text": [
      "Help on function parseMeta in module a301.scripts.modismeta_read:\n",
      "\n",
      "parseMeta(filename)\n",
      "    Read useful information from a CoreMetata.0 attribute\n",
      "    \n",
      "    Parameters\n",
      "    ----------\n",
      "    \n",
      "    filename: str or Path object\n",
      "       name of an hdf4 modis level1b file\n",
      "    \n",
      "    Returns\n",
      "    -------\n",
      "    \n",
      "    outDict: dict\n",
      "        key, value:\n",
      "    \n",
      "    lat_list: np.array\n",
      "        4 corner latitudes\n",
      "    lon_list: np.array\n",
      "        4 corner longitudes\n",
      "    max_lat: float\n",
      "        largest corner latitude\n",
      "    min_lat: float\n",
      "        smallest corner latitude\n",
      "    max_lon: float\n",
      "        largest corner longitude\n",
      "    min_lon: float\n",
      "        smallest corner longitude\n",
      "    daynight: str\n",
      "        'Day' or 'Night'\n",
      "    starttime: str\n",
      "        swath start time in UCT\n",
      "    stoptime: str\n",
      "        swath stop time in UCT\n",
      "    startdate: str\n",
      "        swath start datein UCT\n",
      "    orbit: str\n",
      "        orbit number\n",
      "    equatordate: str\n",
      "        equator crossing date in UCT\n",
      "    equatortime: str\n",
      "        equator crossing time in UCT\n",
      "    nasaProductionDate: str\n",
      "        date file was produced, in UCT\n",
      "\n"
     ]
    }
   ],
   "source": [
    "from a301.scripts.modismeta_read import parseMeta\n",
    "help(parseMeta)"
   ]
  },
  {
   "cell_type": "code",
   "execution_count": 7,
   "metadata": {},
   "outputs": [
    {
     "data": {
      "text/plain": [
       "{'orbit': '59949',\n",
       " 'filename': 'MYD03.A2013222.2110.006.2013223160438.hdf',\n",
       " 'stopdate': '2013-08-10 UCT',\n",
       " 'startdate': '2013-08-10 UCT',\n",
       " 'starttime': '21:10:00 UCT',\n",
       " 'stoptime': '21:15:00 UCT',\n",
       " 'equatortime': '21:45:48 UCT',\n",
       " 'equatordate': '2013-08-10 UCT',\n",
       " 'nasaProductionDate': '2013-08-11 UCT',\n",
       " 'daynight': 'Day',\n",
       " 'lon_list': array([-106.39094614, -137.78983039, -155.18611146, -106.79916586]),\n",
       " 'lat_list': array([50.1393144 , 45.72054822, 60.99526212, 68.45102332]),\n",
       " 'min_lat': 45.7205482204105,\n",
       " 'max_lat': 68.4510233174609,\n",
       " 'min_lon': -155.186111461133,\n",
       " 'max_lon': -106.390946141148,\n",
       " 'lon_0': -130.7885288011405,\n",
       " 'lat_0': 57.08578576893569}"
      ]
     },
     "execution_count": 7,
     "metadata": {},
     "output_type": "execute_result"
    }
   ],
   "source": [
    "parseMeta(hdf_files[0])"
   ]
  },
  {
   "cell_type": "markdown",
   "metadata": {},
   "source": [
    "# Plotting the lats and lons"
   ]
  },
  {
   "cell_type": "code",
   "execution_count": 8,
   "metadata": {},
   "outputs": [],
   "source": [
    "the_file = SD(str(hdf_files[0]), SDC.READ)\n",
    "lat_data = the_file.select('Latitude')\n",
    "lon_data = the_file.select('Longitude')"
   ]
  },
  {
   "cell_type": "code",
   "execution_count": 9,
   "metadata": {},
   "outputs": [
    {
     "data": {
      "image/png": "[encoded data removed]",
      "text/plain": [
       "<Figure size 720x1008 with 1 Axes>"
      ]
     },
     "metadata": {
      "needs_background": "light"
     },
     "output_type": "display_data"
    }
   ],
   "source": [
    "fig,ax = plt.subplots(1,1,figsize = (10,14))\n",
    "ax.plot(lon_data[900:940,900:940],lat_data[900:940,900:940],'b+');\n",
    "ax.set(xlabel='longitude (deg W)',ylabel='latitude (deg N)');"
   ]
  },
  {
   "cell_type": "markdown",
   "metadata": {},
   "source": [
    "**Note two things:  1) the pixels overlap and 2) they don't line up on lines of constant longitude and latitude**\n",
    "\n",
    "**The pixels are also not all the same size -- this distortion is called the [bowtie effect](http://eoweb.dlr.de:8080/short_guide/D-MODIS.html)**"
   ]
  },
  {
   "cell_type": "code",
   "execution_count": null,
   "metadata": {},
   "outputs": [],
   "source": []
  }
 ],
 "metadata": {
  "kernelspec": {
   "display_name": "Python 3",
   "language": "python",
   "name": "python3"
  },
  "language_info": {
   "codemirror_mode": {
    "name": "ipython",
    "version": 3
   },
   "file_extension": ".py",
   "mimetype": "text/x-python",
   "name": "python",
   "nbconvert_exporter": "python",
   "pygments_lexer": "ipython3",
   "version": "3.6.6"
  },
  "toc": {
   "base_numbering": 1,
   "nav_menu": {},
   "number_sections": true,
   "sideBar": false,
   "skip_h1_title": false,
   "title_cell": "Table of Contents",
   "title_sidebar": "Contents",
   "toc_cell": true,
   "toc_position": {},
   "toc_section_display": true,
   "toc_window_display": false
  }
 },
 "nbformat": 4,
 "nbformat_minor": 2
}
