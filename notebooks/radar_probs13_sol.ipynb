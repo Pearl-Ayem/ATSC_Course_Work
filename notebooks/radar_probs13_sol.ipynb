{
 "cells": [
  {
   "cell_type": "markdown",
   "metadata": {
    "toc": true
   },
   "source": [
    "<h1>Table of Contents<span class=\"tocSkip\"></span></h1>\n",
    "<div class=\"toc\"><ul class=\"toc-item\"><li><span><a href=\"#Marshall-Palmer-Solution\" data-toc-modified-id=\"Marshall-Palmer-Solution-1\"><span class=\"toc-item-num\">1&nbsp;&nbsp;</span>Marshall Palmer Solution</a></span></li></ul></div>"
   ]
  },
  {
   "cell_type": "markdown",
   "metadata": {
    "nbgrader": {
     "grade": false,
     "grade_id": "cell-b2a76f5ac9595c65",
     "locked": true,
     "schema_version": 2,
     "solution": false
    }
   },
   "source": [
    "1. (hand in camera upload or on paper):  Integrate $Z=\\int D^6 n(D) dD$  assuming a Marshall Palmer size distribution and show that it integrates to:\n",
    "\n",
    "      $$Z \\approx 300 RR^{1.5}$$\n",
    "\n",
    "   with Z in $mm^6\\,m^{-3}$ and RR in mm/hr.  It's helpful to know that:\n",
    "\n",
    "      $$\\int^\\infty_0 x^n \\exp( -a x) dx = n! / a^{n+1}$$\n",
    "      \n",
    "\n",
    "# Marshall Palmer Solution\n",
    "\n",
    "\n",
    "The Marshall-Palmer distrution from the [the class notes](https://clouds.eos.ubc.ca/~phil/courses/atsc301/marshall_palmer.html#radar-problems)\n",
    "\n",
    "$$n(D) = n_0 \\exp(-4.1 RR^{-0.21} D )$$\n",
    "\n",
    "with $n_0$ in units of $m^{-3}\\,mm^{-1}$, D in mm,\n",
    "so that $\\Lambda=4.1 RR^{-0.21}$ has to have units\n",
    "of $mm^{-1}$.\n",
    "\n",
    "If we use this to integrate:\n",
    "\n",
    "$$Z=\\int D^6 n(D) dD$$\n",
    "\n",
    "and use the hint that\n",
    "\n",
    "\n",
    "$$\\int^\\infty_0 x^n \\exp( -a x) dx = n! / a^{n+1}$$\n",
    "\n",
    "\n",
    "with n=6 we get:\n",
    "\n",
    "$$Z=\\frac{n_0 6!}{\\Lambda^7}$$\n",
    "\n",
    "with units of  $m^{-3}\\,mm^{-1} \\times ((mm^{-1})^7)^{-1}=mm^6\\,m^{-3}$ as required.  Since $n_0=8000\\ m^{-3}\\,mm^{-1}$ and 6!=720, the\n",
    "numerical coeficient is 8000x720/(4.1**7)=295.75 and  the final form is:\n",
    "\n",
    "$$Z=296 RR^{1.47}$$\n",
    "\n",
    "         \n",
    "\n"
   ]
  },
  {
   "cell_type": "code",
   "execution_count": 1,
   "metadata": {
    "nbgrader": {
     "grade": false,
     "grade_id": "cell-581c3f7af4b08a31",
     "locked": false,
     "schema_version": 2,
     "solution": true
    }
   },
   "outputs": [],
   "source": [
    "def findPr(Z,K2,La,R,R1=None,Pt=None,b=None,Z1=None):\n",
    "   \"\"\"\n",
    "    solve stull eqn 8.23\n",
    "    \n",
    "    Parameters\n",
    "    ----------\n",
    "    \n",
    "    input: Z (mm^6/m^3), K2 (unitless), La (unitless),R (km)\n",
    "           plus radar coefficients appropriate to given radar (like Nexrad)\n",
    "           \n",
    "    Returns\n",
    "    -------\n",
    "    \n",
    "    Pr in W \n",
    "   \"\"\" \n",
    "   ### BEGIN SOLUTION\n",
    "   if Z1 is None:\n",
    "      Z1=1.\n",
    "   Pr=Pt*b*K2/La**2.*(R1/R)**2.*(Z/Z1)\n",
    "   return Pr\n",
    "\n",
    "   ### END SOLUTION\n"
   ]
  },
  {
   "cell_type": "code",
   "execution_count": 2,
   "metadata": {
    "nbgrader": {
     "grade": true,
     "grade_id": "cell-d7c71b7e8e7c1929",
     "locked": true,
     "points": 5,
     "schema_version": 2,
     "solution": false
    }
   },
   "outputs": [],
   "source": [
    "from numpy.testing import assert_almost_equal\n",
    "#stull p. 246 sample appliation\n",
    "# given\n",
    "\n",
    "#coefficents for nexrad\n",
    "R1=2.17e-10#range factor, km, Stull 8.25\n",
    "Pt=750.e3 #transmitted power, W, stull p. 246\n",
    "b=14255 #equipment factor, Stull 8.26\n",
    "\n",
    "nexrad=dict(R1=R1,Pt=Pt,b=b)\n",
    "\n",
    "Z=1.e4  #Z of 40 dbZ\n",
    "R=20    #range of 20 km\n",
    "K2=0.93  #liquid water\n",
    "La=1   #no attenuation\n",
    "\n",
    "power_watts=findPr(Z,K2,La,R,**nexrad)\n",
    "assert_almost_equal(1.17e-8,power_watts)\n",
    "\n"
   ]
  },
  {
   "cell_type": "code",
   "execution_count": null,
   "metadata": {},
   "outputs": [],
   "source": []
  }
 ],
 "metadata": {
  "kernelspec": {
   "display_name": "Python 3",
   "language": "python",
   "name": "python3"
  },
  "language_info": {
   "codemirror_mode": {
    "name": "ipython",
    "version": 3
   },
   "file_extension": ".py",
   "mimetype": "text/x-python",
   "name": "python",
   "nbconvert_exporter": "python",
   "pygments_lexer": "ipython3",
   "version": "3.6.6"
  },
  "toc": {
   "base_numbering": 1,
   "nav_menu": {},
   "number_sections": true,
   "sideBar": false,
   "skip_h1_title": false,
   "title_cell": "Table of Contents",
   "title_sidebar": "Contents",
   "toc_cell": true,
   "toc_position": {},
   "toc_section_display": true,
   "toc_window_display": false
  }
 },
 "nbformat": 4,
 "nbformat_minor": 2
}
