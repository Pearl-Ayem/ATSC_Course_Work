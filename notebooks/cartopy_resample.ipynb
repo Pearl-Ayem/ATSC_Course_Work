{
 "cells": [
  {
   "cell_type": "markdown",
   "metadata": {
    "toc": true
   },
   "source": [
    "<h1>Table of Contents<span class=\"tocSkip\"></span></h1>\n",
    "<div class=\"toc\"><ul class=\"toc-item\"><li><span><a href=\"#Use-pyresample-to-make-a-projected-image\" data-toc-modified-id=\"Use-pyresample-to-make-a-projected-image-1\"><span class=\"toc-item-num\">1&nbsp;&nbsp;</span>Use pyresample to make a projected image</a></span></li><li><span><a href=\"#Read-the-lons/lats-from-the-MYD03-file\" data-toc-modified-id=\"Read-the-lons/lats-from-the-MYD03-file-2\"><span class=\"toc-item-num\">2&nbsp;&nbsp;</span>Read the lons/lats from the MYD03 file</a></span></li><li><span><a href=\"#get-the-map-projection-from-corners.json\" data-toc-modified-id=\"get-the-map-projection-from-corners.json-3\"><span class=\"toc-item-num\">3&nbsp;&nbsp;</span>get the map projection from corners.json</a></span></li><li><span><a href=\"#Use-pyresample-to-define-a-new-grid-in-this-projection\" data-toc-modified-id=\"Use-pyresample-to-define-a-new-grid-in-this-projection-4\"><span class=\"toc-item-num\">4&nbsp;&nbsp;</span>Use pyresample to define a new grid in this projection</a></span></li><li><span><a href=\"#resample-the-longitudes-on-this-grid\" data-toc-modified-id=\"resample-the-longitudes-on-this-grid-5\"><span class=\"toc-item-num\">5&nbsp;&nbsp;</span>resample the longitudes on this grid</a></span></li><li><span><a href=\"#replace-missing-values-with-floating-point-nan\" data-toc-modified-id=\"replace-missing-values-with-floating-point-nan-6\"><span class=\"toc-item-num\">6&nbsp;&nbsp;</span>replace missing values with floating point nan</a></span></li><li><span><a href=\"#Plot-the-image-using-cartopy\" data-toc-modified-id=\"Plot-the-image-using-cartopy-7\"><span class=\"toc-item-num\">7&nbsp;&nbsp;</span>Plot the image using cartopy</a></span></li></ul></div>"
   ]
  },
  {
   "cell_type": "markdown",
   "metadata": {},
   "source": [
    "# Use pyresample to make a projected image\n",
    "\n",
    "In the cartopy_mapping_pyproj notebook we stored projection\n",
    "coords in a json file called corners.json.  This notebook\n",
    "reads that information back in to plot lats/lons on a map"
   ]
  },
  {
   "cell_type": "code",
   "execution_count": 1,
   "metadata": {},
   "outputs": [],
   "source": [
    "import a301\n",
    "import json\n",
    "from a301.utils.data_read import download\n",
    "import a301\n",
    "import pprint\n",
    "import shutil\n",
    "from pyhdf.SD import SD, SDC\n",
    "import json\n",
    "import pprint\n",
    "import cartopy\n",
    "from pyresample import kd_tree\n",
    "\n",
    "read_data=False\n",
    "if read_data:\n",
    "    filename_M3='MYD03.A2013222.2105.006.2013223155808.hdf'\n",
    "    download(filename_M3)\n",
    "    for filename in [filename_M3,filename_M2]:\n",
    "        local_file = Path.cwd() / Path(filename)\n",
    "        to_file = a301.data_dir / Path(filename)\n",
    "        print(f'copy {local_file} to {to_file}')\n",
    "        shutil.copy(local_file,to_file)"
   ]
  },
  {
   "cell_type": "code",
   "execution_count": 2,
   "metadata": {},
   "outputs": [],
   "source": [
    "import cartopy.crs as ccrs\n",
    "import matplotlib.pyplot as plt\n",
    "import cartopy\n",
    "from pathlib import Path\n",
    "import pprint\n",
    "import numpy as np\n",
    "import pdb\n",
    "#"
   ]
  },
  {
   "cell_type": "markdown",
   "metadata": {},
   "source": [
    "# Read the lons/lats from the MYD03 file\n",
    "\n",
    "**substitute your filename**"
   ]
  },
  {
   "cell_type": "code",
   "execution_count": 3,
   "metadata": {},
   "outputs": [
    {
     "name": "stdout",
     "output_type": "stream",
     "text": [
      "reading /Users/phil/repos/a301_code/data/MYD03.A2013222.2105.006.2013223155808.hdf\n"
     ]
    }
   ],
   "source": [
    "# Read the lats and lons from the MYD03 file\n",
    "filename_M3='MYD03.A2013222.2105.006.2013223155808.hdf'\n",
    "m3_path= a301.data_dir / Path(filename_M3)\n",
    "print(f'reading {m3_path}')\n",
    "m3_file = SD(str(m3_path), SDC.READ)\n",
    "lats = m3_file.select('Latitude').get()\n",
    "lons = m3_file.select('Longitude').get()"
   ]
  },
  {
   "cell_type": "markdown",
   "metadata": {},
   "source": [
    "# get the map projection from corners.json\n",
    "\n",
    "Get the map  projection and extent from corners.json"
   ]
  },
  {
   "cell_type": "code",
   "execution_count": 4,
   "metadata": {
    "scrolled": true
   },
   "outputs": [
    {
     "name": "stdout",
     "output_type": "stream",
     "text": [
      "{'extent': [-1285873.5967137816,\n",
      "            1561347.9917805532,\n",
      "            -1179100.5032042824,\n",
      "            1297248.5261361937],\n",
      " 'lats': [32.13645206898284,\n",
      "          28.687374622563773,\n",
      "          45.73346985640787,\n",
      "          50.510827489422674,\n",
      "          32.13645206898284],\n",
      " 'lons': [-104.77089390290801,\n",
      "          -129.005397891393,\n",
      "          -138.038848796623,\n",
      "          -107.001718605882,\n",
      "          -104.77089390290801],\n",
      " 'proj4_params': {'datum': 'WGS84',\n",
      "                  'ellps': 'WGS84',\n",
      "                  'lat_0': 39.59910106367865,\n",
      "                  'lon_0': -121.4048713497655,\n",
      "                  'proj': 'laea',\n",
      "                  'x_0': 0.0,\n",
      "                  'y_0': 0.0},\n",
      " 'proj4_string': '+datum=WGS84 +ellps=WGS84 +proj=laea '\n",
      "                 '+lon_0=-121.4048713497655 +lat_0=39.59910106367865 +x_0=0.0 '\n",
      "                 '+y_0=0.0 +no_defs',\n",
      " 'xcoords': [1561347.9917805532,\n",
      "             -744961.1366254934,\n",
      "             -1285873.5967137816,\n",
      "             1019738.9399581843,\n",
      "             1561347.9917805532],\n",
      " 'ycoords': [-688348.6658615287,\n",
      "             -1179100.5032042824,\n",
      "             804312.7470663546,\n",
      "             1297248.5261361937,\n",
      "             -688348.6658615287]}\n"
     ]
    }
   ],
   "source": [
    "json_file = a301.data_dir / Path('corners.json')\n",
    "with open(json_file,'r') as f:\n",
    "    map_dict=json.load(f)\n",
    "pprint.pprint(map_dict)"
   ]
  },
  {
   "cell_type": "markdown",
   "metadata": {},
   "source": [
    "# Use pyresample to define a new grid in this projection"
   ]
  },
  {
   "cell_type": "code",
   "execution_count": 5,
   "metadata": {},
   "outputs": [],
   "source": [
    "from pyresample import load_area, save_quicklook, SwathDefinition\n",
    "proj_params = map_dict['proj4_params']\n",
    "swath_def = SwathDefinition(lons, lats)\n",
    "area_def=swath_def.compute_optimal_bb_area(proj_dict=proj_params)"
   ]
  },
  {
   "cell_type": "code",
   "execution_count": 6,
   "metadata": {},
   "outputs": [
    {
     "data": {
      "text/plain": [
       "['__class__',\n",
       " '__contains__',\n",
       " '__delattr__',\n",
       " '__dict__',\n",
       " '__dir__',\n",
       " '__doc__',\n",
       " '__eq__',\n",
       " '__format__',\n",
       " '__ge__',\n",
       " '__getattribute__',\n",
       " '__getitem__',\n",
       " '__gt__',\n",
       " '__hash__',\n",
       " '__init__',\n",
       " '__init_subclass__',\n",
       " '__le__',\n",
       " '__lt__',\n",
       " '__module__',\n",
       " '__ne__',\n",
       " '__new__',\n",
       " '__reduce__',\n",
       " '__reduce_ex__',\n",
       " '__repr__',\n",
       " '__setattr__',\n",
       " '__sizeof__',\n",
       " '__str__',\n",
       " '__subclasshook__',\n",
       " '__weakref__',\n",
       " '_projection_x_coords',\n",
       " '_projection_y_coords',\n",
       " 'area_extent',\n",
       " 'area_extent_ll',\n",
       " 'area_id',\n",
       " 'cartesian_coords',\n",
       " 'colrow2lonlat',\n",
       " 'corners',\n",
       " 'create_areas_def',\n",
       " 'create_areas_def_legacy',\n",
       " 'crop_around',\n",
       " 'crop_offset',\n",
       " 'dtype',\n",
       " 'get_area',\n",
       " 'get_area_extent_for_subset',\n",
       " 'get_area_slices',\n",
       " 'get_bbox_lonlats',\n",
       " 'get_boundary_lonlats',\n",
       " 'get_cartesian_coords',\n",
       " 'get_lonlat',\n",
       " 'get_lonlats',\n",
       " 'get_lonlats_dask',\n",
       " 'get_proj_coords',\n",
       " 'get_proj_coords_dask',\n",
       " 'get_proj_vectors_dask',\n",
       " 'get_xy_from_lonlat',\n",
       " 'get_xy_from_proj_coords',\n",
       " 'hash',\n",
       " 'intersection',\n",
       " 'lats',\n",
       " 'lonlat2colrow',\n",
       " 'lons',\n",
       " 'name',\n",
       " 'ndim',\n",
       " 'nprocs',\n",
       " 'outer_boundary_corners',\n",
       " 'overlap_rate',\n",
       " 'overlaps',\n",
       " 'pixel_offset_x',\n",
       " 'pixel_offset_y',\n",
       " 'pixel_size_x',\n",
       " 'pixel_size_y',\n",
       " 'pixel_upper_left',\n",
       " 'proj4_string',\n",
       " 'proj_dict',\n",
       " 'proj_id',\n",
       " 'proj_str',\n",
       " 'proj_x_coords',\n",
       " 'proj_y_coords',\n",
       " 'projection_x_coords',\n",
       " 'projection_y_coords',\n",
       " 'rotation',\n",
       " 'shape',\n",
       " 'size',\n",
       " 'to_cartopy_crs',\n",
       " 'update_hash',\n",
       " 'x_size',\n",
       " 'y_size']"
      ]
     },
     "execution_count": 6,
     "metadata": {},
     "output_type": "execute_result"
    }
   ],
   "source": [
    "dir(area_def)"
   ]
  },
  {
   "cell_type": "markdown",
   "metadata": {},
   "source": [
    "# resample the longitudes on this grid"
   ]
  },
  {
   "cell_type": "code",
   "execution_count": 7,
   "metadata": {},
   "outputs": [
    {
     "name": "stdout",
     "output_type": "stream",
     "text": [
      "\n",
      "dump area definition:\n",
      "Area ID: laea_otf\n",
      "Description: On-the-fly laea area\n",
      "Projection: {'datum': 'WGS84', 'ellps': 'WGS84', 'lat_0': '39.59910106367865', 'lon_0': '-121.4048713497655', 'proj': 'laea', 'x_0': '0.0', 'y_0': '0.0'}\n",
      "Number of columns: 1489\n",
      "Number of rows: 2244\n",
      "Area extent: (-1269560.846045296, -1177850.7780355075, 1532203.80246403, 1265820.4615973115)\n",
      "\n",
      "\n",
      "x and y pixel dimensions in meters:\n",
      "1881.641805580474\n",
      "1088.980053312308\n",
      "\n"
     ]
    }
   ],
   "source": [
    "fill_value=-9999.\n",
    "area_name = 'modis swath 5min granule'\n",
    "image_lons = kd_tree.resample_nearest(swath_def, lons.ravel(),\n",
    "                                  area_def, radius_of_influence=5000, \n",
    "                                      nprocs=2,fill_value=fill_value)\n",
    "print(f'\\ndump area definition:\\n{area_def}\\n')\n",
    "print((f'\\nx and y pixel dimensions in meters:'\n",
    "       f'\\n{area_def.pixel_size_x}\\n{area_def.pixel_size_y}\\n'))"
   ]
  },
  {
   "cell_type": "markdown",
   "metadata": {},
   "source": [
    "# replace missing values with floating point nan"
   ]
  },
  {
   "cell_type": "code",
   "execution_count": 8,
   "metadata": {},
   "outputs": [],
   "source": [
    "nan_value = np.array([np.nan],dtype=np.float32)[0]\n",
    "image_lons[image_lons< -9000]=nan_value"
   ]
  },
  {
   "cell_type": "markdown",
   "metadata": {},
   "source": [
    "# Plot the image using cartopy"
   ]
  },
  {
   "cell_type": "code",
   "execution_count": 9,
   "metadata": {},
   "outputs": [
    {
     "name": "stderr",
     "output_type": "stream",
     "text": [
      "/Users/phil/mb36/lib/python3.6/site-packages/pyresample/_cartopy.py:36: UserWarning: 'cartopy' >= 0.17 required for better 'from_proj' functionality.\n",
      "  warnings.warn(\"'cartopy' >= 0.17 required for better 'from_proj' \"\n"
     ]
    },
    {
     "data": {
      "image/png": "[encoded data removed]",
      "text/plain": [
       "<Figure size 432x288 with 2 Axes>"
      ]
     },
     "metadata": {
      "needs_background": "light"
     },
     "output_type": "display_data"
    }
   ],
   "source": [
    "crs = area_def.to_cartopy_crs()\n",
    "ax = plt.axes(projection=crs)\n",
    "ax.coastlines()\n",
    "ax.set_global()\n",
    "plt.imshow(image_lons, transform=crs, extent=crs.bounds, origin='upper')\n",
    "plt.colorbar();"
   ]
  },
  {
   "cell_type": "code",
   "execution_count": 27,
   "metadata": {},
   "outputs": [
    {
     "data": {
      "text/plain": [
       "OrderedDict([('datum', 'WGS84'), ('ellps', 'WGS84')])"
      ]
     },
     "execution_count": 27,
     "metadata": {},
     "output_type": "execute_result"
    }
   ],
   "source": [
    "crs.globe.to_proj4_params()"
   ]
  },
  {
   "cell_type": "code",
   "execution_count": null,
   "metadata": {},
   "outputs": [],
   "source": []
  },
  {
   "cell_type": "code",
   "execution_count": null,
   "metadata": {},
   "outputs": [],
   "source": []
  }
 ],
 "metadata": {
  "hide_input": false,
  "kernelspec": {
   "display_name": "Python 3",
   "language": "python",
   "name": "python3"
  },
  "language_info": {
   "codemirror_mode": {
    "name": "ipython",
    "version": 3
   },
   "file_extension": ".py",
   "mimetype": "text/x-python",
   "name": "python",
   "nbconvert_exporter": "python",
   "pygments_lexer": "ipython3",
   "version": "3.6.6"
  },
  "toc": {
   "base_numbering": 1,
   "nav_menu": {},
   "number_sections": true,
   "sideBar": false,
   "skip_h1_title": false,
   "title_cell": "Table of Contents",
   "title_sidebar": "Contents",
   "toc_cell": true,
   "toc_position": {},
   "toc_section_display": true,
   "toc_window_display": false
  }
 },
 "nbformat": 4,
 "nbformat_minor": 2
}
