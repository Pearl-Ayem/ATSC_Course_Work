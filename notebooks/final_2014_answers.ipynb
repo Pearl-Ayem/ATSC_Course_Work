{
 "cells": [
  {
   "cell_type": "markdown",
   "metadata": {
    "toc": true
   },
   "source": [
    "<h1>Table of Contents<span class=\"tocSkip\"></span></h1>\n",
    "<div class=\"toc\"><ul class=\"toc-item\"><li><span><a href=\"#2014-final----solutions\" data-toc-modified-id=\"2014-final----solutions-1\"><span class=\"toc-item-num\">1&nbsp;&nbsp;</span>2014 final -- solutions</a></span></li></ul></div>"
   ]
  },
  {
   "cell_type": "markdown",
   "metadata": {},
   "source": [
    "### 2014 final -- solutions"
   ]
  },
  {
   "cell_type": "code",
   "execution_count": 19,
   "metadata": {},
   "outputs": [],
   "source": [
    "%matplotlib inline"
   ]
  },
  {
   "cell_type": "code",
   "execution_count": 20,
   "metadata": {},
   "outputs": [],
   "source": [
    "import numpy as np"
   ]
  },
  {
   "cell_type": "markdown",
   "metadata": {},
   "source": [
    "##Q1"
   ]
  },
  {
   "cell_type": "markdown",
   "metadata": {},
   "source": [
    "a) (3)  Explain as clearly as you can what numpy's searchsorted function does.  Include your best\n",
    "guess about what the variable vals contains after we execute statement [9]."
   ]
  },
  {
   "cell_type": "markdown",
   "metadata": {},
   "source": [
    "Give an example of  how searchsorted is used in python programs we've encountered\n",
    "in class -- you don't have to regurgitate the code, just describe why it is needed and what\n",
    "specifically it accomplishes in one or more of our programs."
   ]
  },
  {
   "cell_type": "code",
   "execution_count": 21,
   "metadata": {},
   "outputs": [
    {
     "data": {
      "text/plain": [
       "array([0, 0, 5, 0, 2, 4, 0, 2, 6])"
      ]
     },
     "execution_count": 21,
     "metadata": {},
     "output_type": "execute_result"
    }
   ],
   "source": [
    "np.searchsorted([2,4,5,6,10,12],[-2,-5,10,1,4,6,0,4,14], 'right')"
   ]
  },
  {
   "cell_type": "markdown",
   "metadata": {},
   "source": [
    "##Q2"
   ]
  },
  {
   "cell_type": "markdown",
   "metadata": {},
   "source": [
    "Derivation of Schwartzchild equation"
   ]
  },
  {
   "cell_type": "code",
   "execution_count": 22,
   "metadata": {},
   "outputs": [
    {
     "data": {
      "image/png": "[encoded data removed]",
      "text/plain": [
       "<matplotlib.figure.Figure at 0x10830fb70>"
      ]
     },
     "metadata": {},
     "output_type": "display_data"
    }
   ],
   "source": [
    "from numpy import pi,exp,cos\n",
    "import matplotlib.pyplot as plt\n",
    "\n",
    "\n",
    "plt.close('all')\n",
    "thetime=np.arange(0.,2.5*pi,0.05)\n",
    "thewave=thetime\n",
    "four5=45.*pi/180.\n",
    "thirty=30*pi/180.\n",
    "sixty=2.*thirty\n",
    "onefifty=5.*thirty\n",
    "\n",
    "\n",
    "fig1,axis1=plt.subplots(1,1)\n",
    "axis1.plot(thewave,np.cos(thetime + four5),'k-',lw=5,label='pulse 1')\n",
    "axis1.plot(thewave,np.cos(thetime + onefifty),'k+',lw=5,label='pulse 2')\n",
    "axis1.set_xlabel('horizontal position (one wavelength=2pi)')\n",
    "axis1.set_ylabel('amplitude')\n",
    "axis1.set_title(' ')\n",
    "pos=[0.,0.25*pi,0.5*pi,0.75*pi,1.*pi,1.25*pi,1.5*pi,1.75*pi,2*pi,2.25*pi]\n",
    "labels=['0','pi/4','pi/2','3pi/4','pi','5pi/4','6pi/4','7pi/4','2pi','9pi/4']\n",
    "axis1.grid()\n",
    "axis1.set_xticks(pos)\n",
    "axis1.set_xticklabels(labels)\n",
    "axis1.legend(loc='best')\n",
    "fig1.savefig('phase_shift_final.png')"
   ]
  },
  {
   "cell_type": "code",
   "execution_count": 23,
   "metadata": {},
   "outputs": [],
   "source": [
    "#pulse1\n",
    "I=0.707\n",
    "Q= -(-0.707) # = 0.707\n",
    "#pulse2\n",
    "I=-0.866\n",
    "Q=-(-0.5) #=0.5\n",
    "#first angle= +45\n",
    "#pulse2=150 degrees\n",
    "mrmax=0.1*600./4."
   ]
  },
  {
   "cell_type": "code",
   "execution_count": 24,
   "metadata": {},
   "outputs": [
    {
     "data": {
      "text/plain": [
       "15.0"
      ]
     },
     "execution_count": 24,
     "metadata": {},
     "output_type": "execute_result"
    }
   ],
   "source": [
    "mrmax"
   ]
  },
  {
   "cell_type": "code",
   "execution_count": 25,
   "metadata": {},
   "outputs": [
    {
     "data": {
      "text/plain": [
       "21.25"
      ]
     },
     "execution_count": 25,
     "metadata": {},
     "output_type": "execute_result"
    }
   ],
   "source": [
    "#smallest angle is 150 - 45.\n",
    "(150. - 45.)/180.*15  #8.75 m/s into the radar\n",
    "angle=150 - 45.\n",
    "#second guess\n",
    "angle2=360. - angle\n",
    "(angle2)/180.*15 #away from the radar"
   ]
  },
  {
   "cell_type": "code",
   "execution_count": 26,
   "metadata": {},
   "outputs": [
    {
     "name": "stdout",
     "output_type": "stream",
     "text": [
      "459.27\n",
      "37.699177318\n",
      "7.12045484242\n",
      "282.684924721\n",
      "237.836726254\n",
      "44.9215550482\n"
     ]
    }
   ],
   "source": [
    "sigma=5.67e-8\n",
    "tau1=0.001*1500\n",
    "tau2=0.001*1000.\n",
    "tr1=exp(-5/3.*tau1)\n",
    "temp1=260.\n",
    "temp2=280.\n",
    "tempsfc=300.\n",
    "tr2=exp(-5./3.*tau2)\n",
    "eps1=(1.-tr1)\n",
    "eps2=(1.-tr2)\n",
    "Fsfc=sigma*tempsfc**4.\n",
    "F1=eps1*sigma*temp1**4.\n",
    "F2=eps2*sigma*temp2**4.\n",
    "print(Fsfc)\n",
    "print(Fsfc*tr1)\n",
    "print(Fsfc*tr1*tr2)\n",
    "print(F2)\n",
    "print(F1)\n",
    "print(F1*tr2)"
   ]
  },
  {
   "cell_type": "code",
   "execution_count": 27,
   "metadata": {},
   "outputs": [
    {
     "data": {
      "text/plain": [
       "0.0820849986238988"
      ]
     },
     "execution_count": 27,
     "metadata": {},
     "output_type": "execute_result"
    }
   ],
   "source": [
    "tr1"
   ]
  },
  {
   "cell_type": "code",
   "execution_count": 28,
   "metadata": {},
   "outputs": [
    {
     "data": {
      "text/plain": [
       "-335"
      ]
     },
     "execution_count": 28,
     "metadata": {},
     "output_type": "execute_result"
    }
   ],
   "source": [
    "-(7 + 283 + 45)"
   ]
  },
  {
   "cell_type": "code",
   "execution_count": 29,
   "metadata": {},
   "outputs": [
    {
     "data": {
      "text/plain": [
       "9"
      ]
     },
     "execution_count": 29,
     "metadata": {},
     "output_type": "execute_result"
    }
   ],
   "source": [
    "-37 + 283 - 237"
   ]
  },
  {
   "cell_type": "code",
   "execution_count": 30,
   "metadata": {},
   "outputs": [
    {
     "data": {
      "text/plain": [
       "-344"
      ]
     },
     "execution_count": 30,
     "metadata": {},
     "output_type": "execute_result"
    }
   ],
   "source": [
    "-335 - 9"
   ]
  },
  {
   "cell_type": "code",
   "execution_count": 31,
   "metadata": {},
   "outputs": [
    {
     "data": {
      "text/plain": [
       "-19.16175298804781"
      ]
     },
     "execution_count": 31,
     "metadata": {},
     "output_type": "execute_result"
    }
   ],
   "source": [
    "(-334./1500.)/1004.*3600.*24."
   ]
  },
  {
   "cell_type": "code",
   "execution_count": 39,
   "metadata": {},
   "outputs": [],
   "source": [
    "B1=7\n",
    "B2=4.9\n",
    "angle=30.*pi/180.\n",
    "#angle=60.*pi/180.\n",
    "tau2=1.5/cos(angle)\n",
    "tau1=1./cos(angle)\n",
    "tr1=exp(-tau1)\n",
    "tr2=exp(-tau2)\n",
    "eps1=(1. - tr1)\n",
    "eps2=(1. - tr2)"
   ]
  },
  {
   "cell_type": "code",
   "execution_count": 40,
   "metadata": {},
   "outputs": [
    {
     "data": {
      "text/plain": [
       "6.0649714477649184"
      ]
     },
     "execution_count": 40,
     "metadata": {},
     "output_type": "execute_result"
    }
   ],
   "source": [
    "I=eps2*B2*tr1 + eps1*B1\n",
    "I"
   ]
  },
  {
   "cell_type": "code",
   "execution_count": 34,
   "metadata": {},
   "outputs": [],
   "source": [
    "flux=I*0.01*2."
   ]
  },
  {
   "cell_type": "code",
   "execution_count": 35,
   "metadata": {},
   "outputs": [
    {
     "data": {
      "text/plain": [
       "0.13365559929815188"
      ]
     },
     "execution_count": 35,
     "metadata": {},
     "output_type": "execute_result"
    }
   ],
   "source": [
    "flux"
   ]
  },
  {
   "cell_type": "code",
   "execution_count": null,
   "metadata": {},
   "outputs": [],
   "source": []
  }
 ],
 "metadata": {
  "anaconda-cloud": {},
  "kernelspec": {
   "display_name": "Python 3",
   "language": "python",
   "name": "python3"
  },
  "language_info": {
   "codemirror_mode": {
    "name": "ipython",
    "version": 3
   },
   "file_extension": ".py",
   "mimetype": "text/x-python",
   "name": "python",
   "nbconvert_exporter": "python",
   "pygments_lexer": "ipython3",
   "version": "3.7.0"
  },
  "toc": {
   "base_numbering": 1,
   "nav_menu": {},
   "number_sections": true,
   "sideBar": false,
   "skip_h1_title": false,
   "title_cell": "Table of Contents",
   "title_sidebar": "Contents",
   "toc_cell": true,
   "toc_position": {},
   "toc_section_display": true,
   "toc_window_display": false
  }
 },
 "nbformat": 4,
 "nbformat_minor": 1
}
