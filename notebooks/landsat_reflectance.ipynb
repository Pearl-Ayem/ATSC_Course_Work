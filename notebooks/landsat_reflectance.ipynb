{
 "cells": [
  {
   "cell_type": "markdown",
   "metadata": {
    "toc": true
   },
   "source": [
    "<h1>Table of Contents<span class=\"tocSkip\"></span></h1>\n",
    "<div class=\"toc\"><ul class=\"toc-item\"><li><span><a href=\"#Radiance-and-reflectance\" data-toc-modified-id=\"Radiance-and-reflectance-1\"><span class=\"toc-item-num\">1&nbsp;&nbsp;</span>Radiance and reflectance</a></span></li></ul></div>"
   ]
  },
  {
   "cell_type": "markdown",
   "metadata": {},
   "source": [
    "# Radiance and reflectance"
   ]
  },
  {
   "cell_type": "code",
   "execution_count": 1,
   "metadata": {},
   "outputs": [
    {
     "name": "stdout",
     "output_type": "stream",
     "text": [
      "Scene LC80470262015165LGN02 center time is 2015-06-14 19:00:43\n"
     ]
    }
   ],
   "source": [
    "import a301\n",
    "from pathlib import Path\n",
    "#import rasterio\n",
    "from IPython.display import Image\n",
    "from a301.landsat.landsat_metadata import landsat_metadata\n",
    "from a301.landsat.toa_radiance import toa_radiance_8, toa_radiance_457\n",
    "from a301.landsat.toa_reflectance import toa_reflectance_8, toa_reflectance_457\n",
    "from PIL import Image as pil_image\n",
    "from PIL.TiffTags import TAGS\n",
    "import numpy as np\n",
    "from matplotlib import pyplot as plt\n",
    "from skimage import data, img_as_float\n",
    "from skimage import exposure\n",
    "import pdb\n",
    "\n",
    "june_2015= a301.test_dir / Path('landsat8/LC80470262015165LGN02')\n",
    "may_2015=a301.test_dir / Path(\"landsat_2018_05_13\")\n",
    "data_dir=may_2015\n",
    "data_dir=june_2015\n",
    "tiff_file=list(data_dir.glob(\"*B1.TIF\"))[0]\n",
    "meta_file=list(data_dir.glob(\"*MTL.txt\"))[0]\n",
    "meta_data=landsat_metadata(meta_file)\n",
    "rad_dict={'LANDSAT_7':toa_radiance_457,'LANDSAT_8':toa_radiance_8}\n",
    "refl_dict={'LANDSAT_7':toa_reflectance_457,'LANDSAT_8':toa_reflectance_8}         \n",
    "satellite=meta_data.SPACECRAFT_ID\n",
    "rad_fun=rad_dict[satellite]\n",
    "refl_fun=refl_dict[satellite]"
   ]
  },
  {
   "cell_type": "code",
   "execution_count": 2,
   "metadata": {},
   "outputs": [
    {
     "name": "stdout",
     "output_type": "stream",
     "text": [
      "Scene LC80470262015165LGN02 center time is 2015-06-14 19:00:43\n",
      "[1]\n"
     ]
    },
    {
     "data": {
      "image/png": "[encoded data removed]",
      "text/plain": [
       "<Figure size 432x288 with 1 Axes>"
      ]
     },
     "metadata": {
      "needs_background": "light"
     },
     "output_type": "display_data"
    }
   ],
   "source": [
    "%matplotlib inline\n",
    "np.seterr(divide='ignore',invalid='ignore')\n",
    "refl=refl_fun([1],meta_file)\n",
    "print(list(refl.keys()))\n",
    "hit1 = ~np.isnan(refl[1])\n",
    "hit2 = refl[1] > 1.5e-1\n",
    "hit=np.logical_and(hit1,hit2)\n",
    "plt.hist(refl[1][hit].ravel());"
   ]
  },
  {
   "cell_type": "code",
   "execution_count": 3,
   "metadata": {},
   "outputs": [
    {
     "name": "stdout",
     "output_type": "stream",
     "text": [
      "Scene LC80470262015165LGN02 center time is 2015-06-14 19:00:43\n",
      "working on band 1\n"
     ]
    },
    {
     "data": {
      "image/png": "[encoded data removed]",
      "text/plain": [
       "<Figure size 432x288 with 1 Axes>"
      ]
     },
     "metadata": {
      "needs_background": "light"
     },
     "output_type": "display_data"
    }
   ],
   "source": [
    "rad=rad_fun([1],meta_file)\n",
    "hit1 = ~np.isnan(rad[1])\n",
    "hit2 = rad[1] > 1.5e-1\n",
    "hit=np.logical_and(hit1,hit2)\n",
    "plt.hist(rad[1][hit].ravel());"
   ]
  }
 ],
 "metadata": {
  "kernelspec": {
   "display_name": "Python 3",
   "language": "python",
   "name": "python3"
  },
  "language_info": {
   "codemirror_mode": {
    "name": "ipython",
    "version": 3
   },
   "file_extension": ".py",
   "mimetype": "text/x-python",
   "name": "python",
   "nbconvert_exporter": "python",
   "pygments_lexer": "ipython3",
   "version": "3.7.0"
  },
  "toc": {
   "base_numbering": 1,
   "nav_menu": {},
   "number_sections": true,
   "sideBar": false,
   "skip_h1_title": false,
   "title_cell": "Table of Contents",
   "title_sidebar": "Contents",
   "toc_cell": true,
   "toc_position": {},
   "toc_section_display": true,
   "toc_window_display": false
  }
 },
 "nbformat": 4,
 "nbformat_minor": 2
}
