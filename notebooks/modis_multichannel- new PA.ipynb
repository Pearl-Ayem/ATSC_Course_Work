{
 "cells": [
  {
   "cell_type": "markdown",
   "metadata": {
    "toc": true
   },
   "source": [
    "<h1>Table of Contents<span class=\"tocSkip\"></span></h1>\n",
    "<div class=\"toc\"><ul class=\"toc-item\"><li><span><a href=\"#Changes-to-modis_level1b_read\" data-toc-modified-id=\"Changes-to-modis_level1b_read-1\"><span class=\"toc-item-num\">1&nbsp;&nbsp;</span>Changes to modis_level1b_read</a></span></li><li><span><a href=\"#Introduction\" data-toc-modified-id=\"Introduction-2\"><span class=\"toc-item-num\">2&nbsp;&nbsp;</span>Introduction</a></span></li><li><span><a href=\"#Reading-modis-data\" data-toc-modified-id=\"Reading-modis-data-3\"><span class=\"toc-item-num\">3&nbsp;&nbsp;</span>Reading modis data</a></span><ul class=\"toc-item\"><li><span><a href=\"#Using-pydf-to-get-metadata\" data-toc-modified-id=\"Using-pydf-to-get-metadata-3.1\"><span class=\"toc-item-num\">3.1&nbsp;&nbsp;</span>Using pydf to get metadata</a></span></li><li><span><a href=\"#open-one-of-the-datasets-(number-4,-EV_1KM_Emissive)-and-get-its-shape-and-data-type\" data-toc-modified-id=\"open-one-of-the-datasets-(number-4,-EV_1KM_Emissive)-and-get-its-shape-and-data-type-3.2\"><span class=\"toc-item-num\">3.2&nbsp;&nbsp;</span>open one of the datasets (number 4, EV_1KM_Emissive) and get its shape and data type</a></span></li><li><span><a href=\"#Get-the-first-row-of-the-first-channel-and-find-its-numpy-dtype\" data-toc-modified-id=\"Get-the-first-row-of-the-first-channel-and-find-its-numpy-dtype-3.3\"><span class=\"toc-item-num\">3.3&nbsp;&nbsp;</span>Get the first row of the first channel and find its numpy dtype</a></span></li><li><span><a href=\"#get-all-the-rows-and-columns-for-the-first-channel\" data-toc-modified-id=\"get-all-the-rows-and-columns-for-the-first-channel-3.4\"><span class=\"toc-item-num\">3.4&nbsp;&nbsp;</span>get all the rows and columns for the first channel</a></span></li><li><span><a href=\"#Find-the-attributes-for-EV_1KM_Emissive\" data-toc-modified-id=\"Find-the-attributes-for-EV_1KM_Emissive-3.5\"><span class=\"toc-item-num\">3.5&nbsp;&nbsp;</span>Find the attributes for EV_1KM_Emissive</a></span></li><li><span><a href=\"#Print-the-first-100-characters-of-the-Metadata.0-string\" data-toc-modified-id=\"Print-the-first-100-characters-of-the-Metadata.0-string-3.6\"><span class=\"toc-item-num\">3.6&nbsp;&nbsp;</span>Print the first 100 characters of the Metadata.0 string</a></span></li></ul></li><li><span><a href=\"#Now-write-channels-out-into-a-new-hdf\" data-toc-modified-id=\"Now-write-channels-out-into-a-new-hdf-4\"><span class=\"toc-item-num\">4&nbsp;&nbsp;</span>Now write channels out into a new hdf</a></span><ul class=\"toc-item\"><li><span><a href=\"#find-the-index-for-channel-30\" data-toc-modified-id=\"find-the-index-for-channel-30-4.1\"><span class=\"toc-item-num\">4.1&nbsp;&nbsp;</span>find the index for channel 30</a></span></li><li><span><a href=\"#Let-python-figure-this-out\" data-toc-modified-id=\"Let-python-figure-this-out-4.2\"><span class=\"toc-item-num\">4.2&nbsp;&nbsp;</span>Let python figure this out</a></span></li><li><span><a href=\"#Read-channel-30-at-index-9-into-a-numpy-array-of-type-uint16\" data-toc-modified-id=\"Read-channel-30-at-index-9-into-a-numpy-array-of-type-uint16-4.3\"><span class=\"toc-item-num\">4.3&nbsp;&nbsp;</span>Read channel 30 at index 9 into a numpy array of type uint16</a></span></li></ul></li><li><span><a href=\"#Calibrate-the-raw-counts-for-both-channels\" data-toc-modified-id=\"Calibrate-the-raw-counts-for-both-channels-5\"><span class=\"toc-item-num\">5&nbsp;&nbsp;</span>Calibrate the raw counts for both channels</a></span></li><li><span><a href=\"#Write-the-calibrated-channel-out-for-safekeeping\" data-toc-modified-id=\"Write-the-calibrated-channel-out-for-safekeeping-6\"><span class=\"toc-item-num\">6&nbsp;&nbsp;</span>Write the calibrated channel out for safekeeping</a></span></li></ul></div>"
   ]
  },
  {
   "cell_type": "markdown",
   "metadata": {},
   "source": [
    "# Changes to modis_level1b_read\n",
    "\n",
    "This notebook shows how to write both channel 30 and channel 31 out to an hdf file\n",
    "called modis_chans.hdf.  It uses two new functions to avoid repetiion\n",
    "\n",
    "```python\n",
    "get_index \n",
    "```\n",
    "   \n",
    "defined in section 3.2 and \n",
    "\n",
    "```python\n",
    "write_chan \n",
    "```\n",
    "   \n",
    "defined in section 5"
   ]
  },
  {
   "cell_type": "code",
   "execution_count": 1,
   "metadata": {},
   "outputs": [],
   "source": [
    "from pathlib import Path\n",
    "from pyhdf.SD import SD, SDC\n",
    "import pprint\n",
    "import numpy as np\n",
    "from matplotlib import pyplot as plt\n",
    "from a301.utils.data_read import download\n",
    "import a301\n",
    "import shutil\n",
    "from a301.scripts.modismeta_read import parseMeta\n",
    "import pdb"
   ]
  },
  {
   "cell_type": "markdown",
   "metadata": {},
   "source": [
    "# Introduction\n",
    "\n",
    "This notebook assumes that you have gone to the LAADS DAAC archive and downloaded a Modis Level1b 5 minute granule from the Aqua satellite (a MYD021KM hdf file).  Below we use the pyhdf module to read a single channel (channel 30) centered at 9.7 microns according to [the Modis channel listing](https://modis.gsfc.nasa.gov/about/specifications.php).  We plot the raw counts from that channel using the \n",
    "[matplotlib imshow](https://matplotlib.org/examples/images_contours_and_fields/image_demo.html) function to display the raw image.\n",
    "\n",
    "\n",
    "     "
   ]
  },
  {
   "cell_type": "code",
   "execution_count": 2,
   "metadata": {},
   "outputs": [
    {
     "name": "stdout",
     "output_type": "stream",
     "text": [
      "opened and read MYD021KM.A2014267.1150.061.2018055001042.hdf\n"
     ]
    }
   ],
   "source": [
    "import pprint\n",
    "\n",
    "#\n",
    "# this is my MYD02 file, substitute your own here\n",
    "# It needs to be copyied to a301.data_dir\n",
    "#\n",
    "modis_file=\"MYD021KM.A2014267.1150.061.2018055001042.hdf\"\n",
    "generic_m2 = a301.data_dir / Path(modis_file)\n",
    "#\n",
    "# confirm that we can read this file\n",
    "#\n",
    "modis_meta = parseMeta(str(generic_m2))\n",
    "print(f\"opened and read {modis_meta['filename']}\")\n",
    "#\n",
    "# this is my modis multichannel output file\n",
    "#\n",
    "generic_rad= a301.data_dir / Path('rad_file_2018_10_1.hdf')\n"
   ]
  },
  {
   "cell_type": "markdown",
   "metadata": {},
   "source": [
    "# Reading modis data"
   ]
  },
  {
   "cell_type": "markdown",
   "metadata": {},
   "source": [
    "## Using pydf to get metadata\n",
    "\n",
    "I can convert the filename from a Path object to a string object and pass it to pyhdf.SD\n",
    "to find out how many datasets and attributes there are in the file\n",
    "\n",
    "In the cell below I use [f-strings](https://realpython.com/python-f-strings/) to simplify the print command,\n",
    "and split the string up across multiple lines by enclosing it in a tuple.  This works because\n",
    "when python sees that the individual lines aren't separated by a comma, it concatenates them together.\n",
    "The character \\n means \"newline\"\n",
    "\n",
    "Note that I need to construct the full path to the data file so pyhdf can find it. pyhdf was\n",
    "written before pathlib (which was introduced in python 3.5), \n",
    "so I need to convert the Path object to a simple string using str()"
   ]
  },
  {
   "cell_type": "code",
   "execution_count": 3,
   "metadata": {},
   "outputs": [
    {
     "name": "stdout",
     "output_type": "stream",
     "text": [
      "\n",
      "**************************************************\n",
      "number of datasets, number of attributes=(31, 58)\n",
      "**************************************************\n",
      "\n",
      "Here is the help file for the info funtion:\n",
      "\n",
      "Help on function info in module pyhdf.SD:\n",
      "\n",
      "info(self)\n",
      "    Retrieve information about the SD interface.\n",
      "    \n",
      "    Args::\n",
      "    \n",
      "      no argument\n",
      "    \n",
      "    Returns::\n",
      "    \n",
      "      2-element tuple holding:\n",
      "        number of datasets inside the file\n",
      "        number of file attributes\n",
      "    \n",
      "    C library equivalent : SDfileinfo\n",
      "\n"
     ]
    }
   ],
   "source": [
    "the_file = SD(str(generic_m2), SDC.READ)\n",
    "stars='*'*50\n",
    "print((f'\\n{stars}\\nnumber of datasets, number of attributes'\n",
    "       f'={the_file.info()}\\n{stars}\\n'\n",
    "       f'\\nHere is the help file for the info funtion:\\n'))\n",
    "help(SD.info)"
   ]
  },
  {
   "cell_type": "markdown",
   "metadata": {},
   "source": [
    "## open one of the datasets (number 4, EV_1KM_Emissive) and get its shape and data type"
   ]
  },
  {
   "cell_type": "code",
   "execution_count": 4,
   "metadata": {},
   "outputs": [
    {
     "name": "stdout",
     "output_type": "stream",
     "text": [
      "('EV_1KM_Emissive', 3, [16, 2030, 1354], 23, 8)\n"
     ]
    }
   ],
   "source": [
    "longwave_data = the_file.select('EV_1KM_Emissive') # select sds\n",
    "print(longwave_data.info())"
   ]
  },
  {
   "cell_type": "markdown",
   "metadata": {},
   "source": [
    "## Get the first row of the first channel and find its numpy dtype\n",
    "\n",
    "(unit16 is \"unsigned 16 bit integer\", which is how the modis raw counts are stored)"
   ]
  },
  {
   "cell_type": "code",
   "execution_count": 5,
   "metadata": {},
   "outputs": [
    {
     "name": "stdout",
     "output_type": "stream",
     "text": [
      "(1354,) uint16\n"
     ]
    }
   ],
   "source": [
    "data_row = longwave_data[0,0,:] # get sds data\n",
    "print(data_row.shape,data_row.dtype)"
   ]
  },
  {
   "cell_type": "markdown",
   "metadata": {},
   "source": [
    "## get all the rows and columns for the first channel"
   ]
  },
  {
   "cell_type": "code",
   "execution_count": 6,
   "metadata": {},
   "outputs": [
    {
     "data": {
      "text/plain": [
       "array([[12163, 11853, 10817, ...,  7776,  8486, 10598],\n",
       "       [12322, 12999, 11602, ..., 10830, 10988, 10086],\n",
       "       [12067, 12997, 12747, ..., 11284, 10838,  9666],\n",
       "       ...,\n",
       "       [ 3548,  3459,  3369, ...,  8258,  7507,  7379],\n",
       "       [ 3497,  3377,  3287, ...,  8562,  8955,  8419],\n",
       "       [ 3458,  3339,  3301, ...,  8556,  8900,  8048]], dtype=uint16)"
      ]
     },
     "execution_count": 6,
     "metadata": {},
     "output_type": "execute_result"
    }
   ],
   "source": [
    "longwave_data[0,:,:]"
   ]
  },
  {
   "cell_type": "markdown",
   "metadata": {},
   "source": [
    "## Find the attributes for EV_1KM_Emissive"
   ]
  },
  {
   "cell_type": "code",
   "execution_count": 7,
   "metadata": {},
   "outputs": [
    {
     "name": "stdout",
     "output_type": "stream",
     "text": [
      "{'_FillValue': 65535,\n",
      " 'band_names': '20,21,22,23,24,25,27,28,29,30,31,32,33,34,35,36',\n",
      " 'long_name': 'Earth View 1KM Emissive Bands Scaled Integers',\n",
      " 'radiance_offsets': [2467.264404296875,\n",
      "                      2480.6005859375,\n",
      "                      2478.176513671875,\n",
      "                      2402.468505859375,\n",
      "                      1077.44482421875,\n",
      "                      1560.3333740234375,\n",
      "                      2724.21826171875,\n",
      "                      2317.48828125,\n",
      "                      2610.015380859375,\n",
      "                      1560.333251953125,\n",
      "                      2035.9332275390625,\n",
      "                      2119.08447265625,\n",
      "                      2500.599365234375,\n",
      "                      2499.093505859375,\n",
      "                      2500.5205078125,\n",
      "                      2495.89111328125],\n",
      " 'radiance_scales': [6.9307534431573e-05,\n",
      "                     0.00346690253354609,\n",
      "                     7.626575097674504e-05,\n",
      "                     8.990753121906891e-05,\n",
      "                     3.155614103889093e-05,\n",
      "                     5.639820665237494e-05,\n",
      "                     0.00011783196532633156,\n",
      "                     0.0001924497337313369,\n",
      "                     0.0005570848588831723,\n",
      "                     0.0004063234373461455,\n",
      "                     0.0006508072256110609,\n",
      "                     0.0005710012628696859,\n",
      "                     0.0002623370965011418,\n",
      "                     0.00020087281882297248,\n",
      "                     0.00017676320567261428,\n",
      "                     0.00011859492224175483],\n",
      " 'radiance_units': 'Watts/m^2/micrometer/steradian',\n",
      " 'units': 'none',\n",
      " 'valid_range': [0, 32767]}\n"
     ]
    }
   ],
   "source": [
    "pprint.pprint(longwave_data.attributes() )"
   ]
  },
  {
   "cell_type": "markdown",
   "metadata": {},
   "source": [
    "## Print the first 100 characters of the Metadata.0 string\n",
    "\n",
    "Date, orbit number, etc. are stored in a long string attribute called 'StructMetadata.0'.  The \\t character is a tab stop."
   ]
  },
  {
   "cell_type": "code",
   "execution_count": 8,
   "metadata": {
    "scrolled": true
   },
   "outputs": [
    {
     "name": "stdout",
     "output_type": "stream",
     "text": [
      "('GROUP=SwathStructure\\n'\n",
      " '\\tGROUP=SWATH_1\\n'\n",
      " '\\t\\tSwathName=\"MODIS_SWATH_Type_L1B\"\\n'\n",
      " '\\t\\tGROUP=Dimension\\n'\n",
      " '\\t\\t\\tOBJECT=D')\n"
     ]
    }
   ],
   "source": [
    "pprint.pprint(the_file.attributes()['StructMetadata.0'][:100])"
   ]
  },
  {
   "cell_type": "markdown",
   "metadata": {},
   "source": [
    "# Now write channels out into a new hdf"
   ]
  },
  {
   "cell_type": "code",
   "execution_count": 9,
   "metadata": {},
   "outputs": [],
   "source": [
    "longwave_bands = the_file.select('Band_1KM_Emissive')"
   ]
  },
  {
   "cell_type": "code",
   "execution_count": 10,
   "metadata": {},
   "outputs": [
    {
     "data": {
      "text/plain": [
       "{'long_name': '1KM Emissive Band Numbers for Subsetting'}"
      ]
     },
     "execution_count": 10,
     "metadata": {},
     "output_type": "execute_result"
    }
   ],
   "source": [
    "longwave_bands.attributes()"
   ]
  },
  {
   "cell_type": "markdown",
   "metadata": {},
   "source": [
    "Note that only channels 20 to 36 are in the Emissive dataset (see [the Modis channel listing](https://modis.gsfc.nasa.gov/about/specifications.php))"
   ]
  },
  {
   "cell_type": "markdown",
   "metadata": {},
   "source": [
    "## find the index for channel 30\n",
    "\n",
    "Count the following and convince yourself that channel 30 is index 9, starting from 0"
   ]
  },
  {
   "cell_type": "code",
   "execution_count": 11,
   "metadata": {},
   "outputs": [
    {
     "name": "stdout",
     "output_type": "stream",
     "text": [
      "here are the modis channels in the emissive dataset \n",
      "[20. 21. 22. 23. 24. 25. 27. 28. 29. 30. 31. 32. 33. 34. 35. 36.]\n"
     ]
    }
   ],
   "source": [
    "band_nums=longwave_bands.get()\n",
    "print(f'here are the modis channels in the emissive dataset \\n{band_nums}')"
   ]
  },
  {
   "cell_type": "markdown",
   "metadata": {},
   "source": [
    "## Let python figure this out\n",
    "\n",
    "We don't want to have to count, so use numpy.searchsorted to find the the index with value closest to 30\n",
    "\n",
    "We need to turn that index (type int64) into a plain python int so it can be used to specify the channel\n",
    "(float doesn't work)"
   ]
  },
  {
   "cell_type": "code",
   "execution_count": 12,
   "metadata": {},
   "outputs": [
    {
     "name": "stdout",
     "output_type": "stream",
     "text": [
      "channel 30 is located at index 9 and channel 31 at 10\n"
     ]
    }
   ],
   "source": [
    "def get_index(band_nums,chan_num):\n",
    "    \"\"\"\n",
    "    given the longwave_bands vecto from the level1b file, \n",
    "    find the index of the channel chan_num in the dataset\n",
    "    \n",
    "    Parameters\n",
    "    ----------\n",
    "    \n",
    "    band_nums: numpy float vector\n",
    "       list of channel numbers\n",
    "       \n",
    "    chan_num: float or int\n",
    "       channel number to get index for\n",
    "       \n",
    "    Returns\n",
    "    -------\n",
    "    \n",
    "    the_index: int\n",
    "        index of channel in modis image\n",
    "\n",
    "    \"\"\"\n",
    "    ch_index=np.searchsorted(band_nums,chan_num)\n",
    "    return int(ch_index)\n",
    "\n",
    "\n",
    "ch30_index=get_index(band_nums,30.)\n",
    "ch31_index=get_index(band_nums,31.)\n",
    "print(f'channel 30 is located at index {ch30_index} and channel 31 at {ch31_index}')"
   ]
  },
  {
   "cell_type": "markdown",
   "metadata": {},
   "source": [
    "## Read channel 30 at index 9 into a numpy array of type uint16"
   ]
  },
  {
   "cell_type": "code",
   "execution_count": 13,
   "metadata": {},
   "outputs": [
    {
     "name": "stdout",
     "output_type": "stream",
     "text": [
      "(2030, 1354)\n",
      "uint16\n"
     ]
    }
   ],
   "source": [
    "ch30_data = longwave_data[ch30_index,:,:]\n",
    "ch31_data = longwave_data[ch31_index,:,:]\n",
    "print(ch30_data.shape)\n",
    "print(ch30_data.dtype)"
   ]
  },
  {
   "cell_type": "markdown",
   "metadata": {},
   "source": [
    "# Calibrate the raw counts for both channels\n",
    "\n",
    "To turn the raw counts into pixel radiances, you need to apply equation 5.8 on p. 36 of the \n",
    "[modis users guide](https://www.dropbox.com/s/ckd3dv4n7nxc9p0/modis_users_guide.pdf?dl=0):\n",
    "\n",
    "$Radiances = (RawData - offset) \\times scale$\n",
    "\n",
    "We have just read the RawData,  the offset and the scale are stored in two vectors that are attributes of the Emissive dataset.  Make a version of the figure above, but plot Channel 30 radiance (in W/m^2/micron/sr), rather than raw counts.\n",
    "\n"
   ]
  },
  {
   "cell_type": "code",
   "execution_count": 14,
   "metadata": {},
   "outputs": [
    {
     "name": "stdout",
     "output_type": "stream",
     "text": [
      "ch30 scale: 0.0004063234373461455, ch30 offset: 1560.333251953125\n",
      "ch31 scale: 0.0006508072256110609, ch31 offset: 2035.9332275390625\n"
     ]
    }
   ],
   "source": [
    "scales=longwave_data.attributes()['radiance_scales']\n",
    "offsets=longwave_data.attributes()['radiance_offsets']\n",
    "ch30_scale=scales[ch30_index]\n",
    "ch30_offset=offsets[ch30_index]\n",
    "ch31_scale=scales[ch31_index]\n",
    "ch31_offset=offsets[ch31_index]\n",
    "print(f'ch30 scale: {ch30_scale}, ch30 offset: {ch30_offset}')\n",
    "print(f'ch31 scale: {ch31_scale}, ch31 offset: {ch31_offset}')"
   ]
  },
  {
   "cell_type": "code",
   "execution_count": 15,
   "metadata": {},
   "outputs": [],
   "source": [
    "ch30_calibrated =(ch30_data - ch30_offset)*ch30_scale\n",
    "ch31_calibrated =(ch31_data - ch31_offset)*ch31_scale\n",
    "the_file.end()"
   ]
  },
  {
   "cell_type": "markdown",
   "metadata": {},
   "source": [
    "# Write the calibrated channel out for safekeeping\n",
    "\n",
    "Follow the example here: https://hdfeos.org/software/pyhdf.php"
   ]
  },
  {
   "cell_type": "code",
   "execution_count": 16,
   "metadata": {},
   "outputs": [],
   "source": [
    "def write_chan(sd,numpy_array,chan_name):\n",
    "    \"\"\"\n",
    "    given an open pyhdf SD object, a numpy_array and a \n",
    "    string channel name, write the channel out to the sd\n",
    "    \"\"\"\n",
    "    # Create a dataset\n",
    "    sds = sd.create(chan_name, SDC.FLOAT64, numpy_array.shape)\n",
    "\n",
    "    # Fill the dataset with a fill value\n",
    "    sds.setfillvalue(0)\n",
    "    \n",
    "    # Assign an attribute to the dataset\n",
    "    sds.units = \"W/m^2/micron/sr\"\n",
    "\n",
    "    # Write data\n",
    "    sds[:,:] = numpy_array[:,:]\n",
    "\n",
    "    # Close the dataset\n",
    "    sds.endaccess()\n",
    "\n",
    "# Create an HDF file\n",
    "sdout = SD(str(generic_rad), SDC.WRITE | SDC.CREATE)\n",
    "\n",
    "#\n",
    "# write out two channels\n",
    "#\n",
    "write_chan(sdout,ch30_calibrated,'ch30')\n",
    "write_chan(sdout,ch31_calibrated,'ch31')\n",
    "\n",
    "# Flush and close the HDF file\n",
    "sdout.filename=modis_meta['filename']\n",
    "sdout.comment=\"written by modis_multichannel.ipynb\"\n",
    "sdout.end()"
   ]
  },
  {
   "cell_type": "code",
   "execution_count": 17,
   "metadata": {},
   "outputs": [
    {
     "name": "stdout",
     "output_type": "stream",
     "text": [
      "\n",
      "**************************************************\n",
      "Reading C:\\Users\\Pearl\\Desktop\\ATSC 301\\a301_code\\data\\rad_file_2018_10_1.hdf\n",
      "\n",
      "nnumber of datasets, number of attributes\n",
      "=(6, 2)\n",
      "**************************************************\n",
      "\n",
      "\n",
      "**************************************************\n",
      "Here are the datasets\n",
      "**************************************************\n",
      "\n",
      "0 ch30\n",
      "1 ch31\n",
      "\n",
      "**************************************************\n",
      "Here are the truncated global attributes\n",
      "**************************************************\n",
      "\n",
      "Key: filename --- Value: MYD021KM.A2014267.1150.061.2018055001042.hdf\n",
      "Key: comment --- Value: written by modis_multichannel.ipynb\n"
     ]
    }
   ],
   "source": [
    "from a301.scripts import hdf4ls\n",
    "hdf4ls.hdf4ls(str(generic_rad))"
   ]
  }
 ],
 "metadata": {
  "kernelspec": {
   "display_name": "Python 3",
   "language": "python",
   "name": "python3"
  },
  "language_info": {
   "codemirror_mode": {
    "name": "ipython",
    "version": 3
   },
   "file_extension": ".py",
   "mimetype": "text/x-python",
   "name": "python",
   "nbconvert_exporter": "python",
   "pygments_lexer": "ipython3",
   "version": "3.6.5"
  },
  "toc": {
   "base_numbering": 1,
   "nav_menu": {},
   "number_sections": true,
   "sideBar": false,
   "skip_h1_title": false,
   "title_cell": "Table of Contents",
   "title_sidebar": "Contents",
   "toc_cell": true,
   "toc_position": {},
   "toc_section_display": true,
   "toc_window_display": false
  }
 },
 "nbformat": 4,
 "nbformat_minor": 2
}
