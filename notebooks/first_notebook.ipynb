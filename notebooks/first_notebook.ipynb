{
 "cells": [
  {
   "cell_type": "markdown",
   "metadata": {
    "toc": true
   },
   "source": [
    "<h1>Table of Contents<span class=\"tocSkip\"></span></h1>\n",
    "<div class=\"toc\"><ul class=\"toc-item\"><li><span><a href=\"#problem\" data-toc-modified-id=\"problem-1\"><span class=\"toc-item-num\">1&nbsp;&nbsp;</span>problem</a></span></li><li><span><a href=\"#Python-solution-1:-simple-script\" data-toc-modified-id=\"Python-solution-1:-simple-script-2\"><span class=\"toc-item-num\">2&nbsp;&nbsp;</span>Python solution 1: simple script</a></span></li><li><span><a href=\"#Python-solution-2:-function-with-for-loop\" data-toc-modified-id=\"Python-solution-2:-function-with-for-loop-3\"><span class=\"toc-item-num\">3&nbsp;&nbsp;</span>Python solution 2: function with for loop</a></span></li><li><span><a href=\"#Python-solution-3:-using-a-numpy-array\" data-toc-modified-id=\"Python-solution-3:-using-a-numpy-array-4\"><span class=\"toc-item-num\">4&nbsp;&nbsp;</span>Python solution 3: using a numpy array</a></span></li></ul></div>"
   ]
  },
  {
   "cell_type": "markdown",
   "metadata": {},
   "source": [
    "# problem\n",
    "\n",
    "-  Read [Stull Chapter 2 pages 27-29](https://www.eoas.ubc.ca/books/Practical_Meteorology/prmet102/Ch02-radiation-v102b.pdf) and write a program that computes the true anomaly $\\nu$ using (2.3b) for given a date of April 12 (day 102).  "
   ]
  },
  {
   "cell_type": "markdown",
   "metadata": {},
   "source": [
    "<img src=\"screenshots/stull_eq_2_3.png\">"
   ]
  },
  {
   "cell_type": "markdown",
   "metadata": {},
   "source": [
    "# Python solution 1: simple script\n",
    "\n",
    "* import functions from the numpy module following [the Whirlwind module section](https://github.com/jakevdp/WhirlwindTourOfPython/blob/master/14-Strings-and-Regular-Expressions.ipynb)\n",
    "\n",
    "* print out a formatted string following [the Whirlwind \"Format strings\" section](http://clouds.eos.ubc.ca/~phil/courses/atsc301/whirlwind/14-Strings-and-Regular-Expressions.html)\n",
    "\n"
   ]
  },
  {
   "cell_type": "code",
   "execution_count": 17,
   "metadata": {},
   "outputs": [
    {
     "name": "stdout",
     "output_type": "stream",
     "text": [
      "For day 102:\n",
      "Day number = 102, M=1.686 rads, nu = 1.719 rads\n"
     ]
    }
   ],
   "source": [
    "from numpy import sin, pi\n",
    "\n",
    "d=102\n",
    "C=2*pi\n",
    "P= 365.256363 #sidereal orbital period (Stull p. 29)\n",
    "dp = 4 #day of perihelion\n",
    "M = C*(d - dp)/P  #Stull eq. 2.2\n",
    "nu = M + 0.0333988*sin(M) +  0.0003486*sin(2*M) + 0.0000050*sin(3*M)  #Stull eq. 2.3b\n",
    "print(\"For day 102:\\nDay number = {}, M={:5.3f} rads, nu = {:5.3f} rads\".format(d, M, nu))\n"
   ]
  },
  {
   "cell_type": "markdown",
   "metadata": {},
   "source": [
    "# Python solution 2: function with for loop\n",
    "\n",
    "Write a function in a loop following the [Whirlwind Functions section](http://clouds.eos.ubc.ca/~phil/courses/atsc301/whirlwind/08-Defining-Functions.html)"
   ]
  },
  {
   "cell_type": "code",
   "execution_count": 18,
   "metadata": {},
   "outputs": [
    {
     "name": "stdout",
     "output_type": "stream",
     "text": [
      "Day number = 4, M=0.000 rads, nu = 0.000 rads\n",
      "Day number = 18, M=0.241 rads, nu = 0.249 rads\n",
      "Day number = 32, M=0.482 rads, nu = 0.497 rads\n",
      "Day number = 46, M=0.722 rads, nu = 0.745 rads\n",
      "Day number = 60, M=0.963 rads, nu = 0.991 rads\n",
      "Day number = 74, M=1.204 rads, nu = 1.236 rads\n",
      "Day number = 88, M=1.445 rads, nu = 1.478 rads\n",
      "Day number = 102, M=1.686 rads, nu = 1.719 rads\n",
      "Day number = 116, M=1.927 rads, nu = 1.958 rads\n",
      "Day number = 172, M=2.890 rads, nu = 2.898 rads\n",
      "Day number = 266, M=4.507 rads, nu = 4.474 rads\n",
      "Day number = 356, M=6.055 rads, nu = 6.047 rads\n"
     ]
    }
   ],
   "source": [
    "def find_nu(day_num):\n",
    "    \"\"\"\n",
    "    find the true anomoly nu using stull equation 2.3b\n",
    "    \n",
    "    Parameters\n",
    "    ----------\n",
    "    \n",
    "    day_num: float or array\n",
    "        number of day in year\n",
    "        \n",
    "    Returns\n",
    "    -------\n",
    "    \n",
    "    M, nu : float or array\n",
    "       M (radians) is the mean anomaly\n",
    "       nu (radians) is the true anomaly\n",
    "    \"\"\"\n",
    "    C=2*pi\n",
    "    P= 365.256363 #sidereal orbital period (Stull p. 29)\n",
    "    dp = 4 #day of perihelion\n",
    "    M = C*(day_num - dp)/P  #Stull eq. 2.2\n",
    "    nu = M + 0.0333988*sin(M) +  0.0003486*sin(2*M) + 0.0000050*sin(3*M)  #Stull eq. 2.3b\n",
    "    return M,nu\n",
    "\n",
    "days = [4,18,32,46,60,74,88,102,116,172,266,356]  #put the days in alist\n",
    "#iterate over each value in the list\n",
    "for day_num in days:\n",
    "    M,nu = find_nu(day_num)\n",
    "    print(\"Day number = {}, M={:5.3f} rads, nu = {:5.3f} rads\".format(day_num, M, nu))\n",
    "    "
   ]
  },
  {
   "cell_type": "markdown",
   "metadata": {},
   "source": [
    "# Python solution 3: using a numpy array\n",
    "\n",
    "Like Matlab or R, python can do vector and matrix operations that run much faster than for loops\n",
    "\n",
    "See [Pine section 3.3](http://clouds.eos.ubc.ca/~phil/djpine_python/chap3/chap3_arrays.html#numpy-arrays) for the array syntax or the [handbook numpy notebook](https://github.com/jakevdp/PythonDataScienceHandbook/blob/master/notebooks/02.02-The-Basics-Of-NumPy-Arrays.ipynb)"
   ]
  },
  {
   "cell_type": "code",
   "execution_count": 19,
   "metadata": {},
   "outputs": [
    {
     "data": {
      "text/plain": [
       "array([  4,  18,  32,  46,  60,  74,  88, 102, 116, 172, 266, 356])"
      ]
     },
     "execution_count": 19,
     "metadata": {},
     "output_type": "execute_result"
    }
   ],
   "source": [
    "days_array = np.array(days)\n",
    "days_array"
   ]
  },
  {
   "cell_type": "code",
   "execution_count": 20,
   "metadata": {},
   "outputs": [
    {
     "name": "stdout",
     "output_type": "stream",
     "text": [
      "<class 'numpy.ndarray'> <class 'numpy.ndarray'>\n"
     ]
    }
   ],
   "source": [
    "M, nu = find_nu(days_array)\n",
    "print(type(M),type(nu))"
   ]
  },
  {
   "cell_type": "code",
   "execution_count": 21,
   "metadata": {},
   "outputs": [
    {
     "data": {
      "text/plain": [
       "array([ 0.        ,  0.24082974,  0.48165948,  0.72248921,  0.96331895,\n",
       "        1.20414869,  1.44497843,  1.68580817,  1.92663791,  2.88995686,\n",
       "        4.50695653,  6.0551477 ])"
      ]
     },
     "execution_count": 21,
     "metadata": {},
     "output_type": "execute_result"
    }
   ],
   "source": [
    "M"
   ]
  },
  {
   "cell_type": "code",
   "execution_count": 22,
   "metadata": {},
   "outputs": [
    {
     "data": {
      "text/plain": [
       "array([ 0.        ,  0.24896043,  0.49742268,  0.74492429,  0.9910704 ,\n",
       "        1.23555868,  1.47819537,  1.71890213,  1.95771431,  2.89810808,\n",
       "        4.47440332,  6.04744067])"
      ]
     },
     "execution_count": 22,
     "metadata": {},
     "output_type": "execute_result"
    }
   ],
   "source": [
    "nu"
   ]
  },
  {
   "cell_type": "markdown",
   "metadata": {},
   "source": [
    "See [the Whirlwind iterators section](http://clouds.eos.ubc.ca/~phil/courses/atsc301/whirlwind/10-Iterators.html) for an introduction to the zip function used below.  How would you do the following in Matlab?"
   ]
  },
  {
   "cell_type": "code",
   "execution_count": 23,
   "metadata": {},
   "outputs": [
    {
     "name": "stdout",
     "output_type": "stream",
     "text": [
      "Day number = 4, M=0.000 rads, nu = 0.000 rads\n",
      "Day number = 18, M=0.241 rads, nu = 0.249 rads\n",
      "Day number = 32, M=0.482 rads, nu = 0.497 rads\n",
      "Day number = 46, M=0.722 rads, nu = 0.745 rads\n",
      "Day number = 60, M=0.963 rads, nu = 0.991 rads\n",
      "Day number = 74, M=1.204 rads, nu = 1.236 rads\n",
      "Day number = 88, M=1.445 rads, nu = 1.478 rads\n",
      "Day number = 102, M=1.686 rads, nu = 1.719 rads\n",
      "Day number = 116, M=1.927 rads, nu = 1.958 rads\n",
      "Day number = 172, M=2.890 rads, nu = 2.898 rads\n",
      "Day number = 266, M=4.507 rads, nu = 4.474 rads\n",
      "Day number = 356, M=6.055 rads, nu = 6.047 rads\n"
     ]
    }
   ],
   "source": [
    "for the_day, the_M, the_nu in zip(days_array,M,nu):\n",
    "    print(\"Day number = {}, M={:5.3f} rads, nu = {:5.3f} rads\".format(the_day, the_M, the_nu))"
   ]
  },
  {
   "cell_type": "code",
   "execution_count": null,
   "metadata": {},
   "outputs": [],
   "source": []
  }
 ],
 "metadata": {
  "kernelspec": {
   "display_name": "Python 3",
   "language": "python",
   "name": "python3"
  },
  "language_info": {
   "codemirror_mode": {
    "name": "ipython",
    "version": 3
   },
   "file_extension": ".py",
   "mimetype": "text/x-python",
   "name": "python",
   "nbconvert_exporter": "python",
   "pygments_lexer": "ipython3",
   "version": "3.6.6"
  },
  "toc": {
   "base_numbering": 1,
   "nav_menu": {},
   "number_sections": true,
   "sideBar": false,
   "skip_h1_title": false,
   "title_cell": "Table of Contents",
   "title_sidebar": "Contents",
   "toc_cell": true,
   "toc_position": {},
   "toc_section_display": true,
   "toc_window_display": false
  }
 },
 "nbformat": 4,
 "nbformat_minor": 1
}
