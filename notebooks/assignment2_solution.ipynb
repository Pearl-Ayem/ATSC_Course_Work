{
 "cells": [
  {
   "cell_type": "markdown",
   "metadata": {
    "toc": true
   },
   "source": [
    "<h1>Table of Contents<span class=\"tocSkip\"></span></h1>\n",
    "<div class=\"toc\"><ul class=\"toc-item\"><li><span><a href=\"#Day-3-Planck-problem\" data-toc-modified-id=\"Day-3-Planck-problem-1\"><span class=\"toc-item-num\">1&nbsp;&nbsp;</span>Day 3 Planck problem</a></span></li><li><span><a href=\"#Answer----check-for-Temp=300-K\" data-toc-modified-id=\"Answer----check-for-Temp=300-K-2\"><span class=\"toc-item-num\">2&nbsp;&nbsp;</span>Answer -- check for Temp=300 K</a></span></li><li><span><a href=\"#so-good-agreement-with-10000-points----make-a-plot-as-well\" data-toc-modified-id=\"so-good-agreement-with-10000-points----make-a-plot-as-well-3\"><span class=\"toc-item-num\">3&nbsp;&nbsp;</span>so good agreement with 10000 points -- make a plot as well</a></span></li></ul></div>"
   ]
  },
  {
   "cell_type": "markdown",
   "metadata": {},
   "source": [
    "### Day 3 Planck problem\n",
    "\n",
    "Verify using np.sum that:\n",
    "\n",
    " $$\\int_0^\\infty  E^*_\\lambda(T)d\\lambda   =\\int_0^\\infty \\frac{\\pi h c^2}{\\lambda^5 \\left [ \\exp (h c/(\\lambda k_B T )) -1 \\right ] } d\\lambda = \\int_0^\\infty \\frac{c_1}{\\lambda^5 \\left [ \\exp (c_2/(\\lambda T )) -1 \\right ] } d\\lambda  = \\sigma_{SB} T^4$$\n",
    " \n",
    "For a temperature of 300 K."
   ]
  },
  {
   "cell_type": "markdown",
   "metadata": {},
   "source": [
    "### Answer -- check for Temp=300 K"
   ]
  },
  {
   "cell_type": "code",
   "execution_count": 5,
   "metadata": {},
   "outputs": [
    {
     "name": "stdout",
     "output_type": "stream",
     "text": [
      "stefan-boltzman says flux is  239.427 W/m^2\n",
      "3.746953608947429e-16 0.014397712643092893\n",
      "numerically integrated flux is:  239.410 W/m^2\n"
     ]
    }
   ],
   "source": [
    "import numpy as np\n",
    "from matplotlib import pyplot as plt\n",
    "\n",
    "#\n",
    "# get Stull's c_1 and c_2 from fundamental constants\n",
    "#\n",
    "c=2.99792458e+08  #m/s -- speed of light in vacuum\n",
    "h=6.62606876e-34  #J s  -- Planck's constant\n",
    "kb=1.3806503e-23  # J/K  -- Boltzman's constant\n",
    "c=3.e8  #speed of light in vacuum (m/s)\n",
    "c1=2.*h*c**2.*np.pi\n",
    "c2=h*c/kb\n",
    "sigma=2.*np.pi**5.*kb**4./(15*h**3.*c**2.)\n",
    "\n",
    "def planckwavelen(wavel,Temp):\n",
    "    \"\"\"\n",
    "    Calculate the blackbody radiant exitence (Stull 2.13)\n",
    "    \n",
    "    Parameters\n",
    "    ----------\n",
    "    \n",
    "      wavel: float or array\n",
    "           wavelength (meters)\n",
    "           \n",
    "      Temp: float\n",
    "           temperature (K)\n",
    "           \n",
    "    Returns\n",
    "    -------\n",
    "    \n",
    "    Elambda:  float or arr\n",
    "           monochromatic radiant exitence (W/m^2/m)\n",
    "    \"\"\"\n",
    "    Elambda=c1/(wavel**5.*(np.exp(c2/(wavel*Temp)) -1))\n",
    "    print(c1,c2)\n",
    "    return Elambda\n",
    "\n",
    "Temp = 255.\n",
    "SBflux = sigma*Temp**4.\n",
    "print('stefan-boltzman says flux is {:8.3f} W/m^2'.format(SBflux))\n",
    "\n",
    "#\n",
    "# get wavelength in meters between 0.1 and 500 microns\n",
    "#\n",
    "npoints = 10000\n",
    "wavelengths=np.linspace(0.1,500.,npoints)*1.e-6\n",
    "\n",
    "flux = planckwavelen(wavelengths,Temp)\n",
    "avg_flux = (flux[1:] + flux[:-1])/2.\n",
    "integral = np.sum(avg_flux*np.diff(wavelengths))\n",
    "print('numerically integrated flux is: {:8.3f} W/m^2'.format(integral))"
   ]
  },
  {
   "cell_type": "markdown",
   "metadata": {},
   "source": [
    "### so good agreement with 10000 points -- make a plot as well"
   ]
  },
  {
   "cell_type": "code",
   "execution_count": 4,
   "metadata": {},
   "outputs": [
    {
     "data": {
      "image/png": "[encoded data removed]",
      "text/plain": [
       "<Figure size 432x288 with 1 Axes>"
      ]
     },
     "metadata": {
      "needs_background": "light"
     },
     "output_type": "display_data"
    }
   ],
   "source": [
    "%matplotlib inline\n",
    "fig,ax = plt.subplots(1,1)\n",
    "#\n",
    "# change units from meters to microns to get prettier numbers\n",
    "#\n",
    "ax.plot(wavelengths*1.e6,flux*1.e-6)\n",
    "ax.set(xlim=(1,100),xlabel=\"wavelength ($\\mu m$)\",ylabel=r\"$E^*_\\lambda\\ (W/m^2/\\mu m$)\",\n",
    "        title='Radiant exitence for Temp = 300 K');"
   ]
  },
  {
   "cell_type": "markdown",
   "metadata": {},
   "source": [
    "## "
   ]
  },
  {
   "cell_type": "code",
   "execution_count": null,
   "metadata": {},
   "outputs": [],
   "source": []
  }
 ],
 "metadata": {
  "anaconda-cloud": {},
  "kernelspec": {
   "display_name": "Python 3",
   "language": "python",
   "name": "python3"
  },
  "language_info": {
   "codemirror_mode": {
    "name": "ipython",
    "version": 3
   },
   "file_extension": ".py",
   "mimetype": "text/x-python",
   "name": "python",
   "nbconvert_exporter": "python",
   "pygments_lexer": "ipython3",
   "version": "3.6.6"
  },
  "toc": {
   "base_numbering": 1,
   "nav_menu": {},
   "number_sections": true,
   "sideBar": false,
   "skip_h1_title": false,
   "title_cell": "Table of Contents",
   "title_sidebar": "Contents",
   "toc_cell": true,
   "toc_position": {},
   "toc_section_display": true,
   "toc_window_display": false
  }
 },
 "nbformat": 4,
 "nbformat_minor": 1
}
