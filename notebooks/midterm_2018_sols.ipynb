{
 "cells": [
  {
   "cell_type": "markdown",
   "metadata": {
    "toc": true
   },
   "source": [
    "<h1>Table of Contents<span class=\"tocSkip\"></span></h1>\n",
    "<div class=\"toc\"><ul class=\"toc-item\"><li><span><a href=\"#Question-1\" data-toc-modified-id=\"Question-1-1\"><span class=\"toc-item-num\">1&nbsp;&nbsp;</span>Question 1</a></span><ul class=\"toc-item\"><li><span><a href=\"#Question-1a-solution\" data-toc-modified-id=\"Question-1a-solution-1.1\"><span class=\"toc-item-num\">1.1&nbsp;&nbsp;</span>Question 1a solution</a></span></li><li><span><a href=\"#Question-1b-solution\" data-toc-modified-id=\"Question-1b-solution-1.2\"><span class=\"toc-item-num\">1.2&nbsp;&nbsp;</span>Question 1b solution</a></span></li><li><span><a href=\"#Question-1c-solution:\" data-toc-modified-id=\"Question-1c-solution:-1.3\"><span class=\"toc-item-num\">1.3&nbsp;&nbsp;</span>Question 1c solution:</a></span></li></ul></li><li><span><a href=\"#Question-2\" data-toc-modified-id=\"Question-2-2\"><span class=\"toc-item-num\">2&nbsp;&nbsp;</span>Question 2</a></span><ul class=\"toc-item\"><li><span><a href=\"#Question-2a-solution\" data-toc-modified-id=\"Question-2a-solution-2.1\"><span class=\"toc-item-num\">2.1&nbsp;&nbsp;</span>Question 2a solution</a></span></li><li><span><a href=\"#Question-2b-solution\" data-toc-modified-id=\"Question-2b-solution-2.2\"><span class=\"toc-item-num\">2.2&nbsp;&nbsp;</span>Question 2b solution</a></span></li></ul></li><li><span><a href=\"#Question-3\" data-toc-modified-id=\"Question-3-3\"><span class=\"toc-item-num\">3&nbsp;&nbsp;</span>Question 3</a></span><ul class=\"toc-item\"><li><span><a href=\"#Question-3-solution\" data-toc-modified-id=\"Question-3-solution-3.1\"><span class=\"toc-item-num\">3.1&nbsp;&nbsp;</span>Question 3 solution</a></span></li></ul></li><li><span><a href=\"#Question-4\" data-toc-modified-id=\"Question-4-4\"><span class=\"toc-item-num\">4&nbsp;&nbsp;</span>Question 4</a></span><ul class=\"toc-item\"><li><span><a href=\"#Question-4-solution\" data-toc-modified-id=\"Question-4-solution-4.1\"><span class=\"toc-item-num\">4.1&nbsp;&nbsp;</span>Question 4 solution</a></span></li></ul></li></ul></div>"
   ]
  },
  {
   "cell_type": "code",
   "execution_count": 1,
   "metadata": {
    "scrolled": true
   },
   "outputs": [],
   "source": [
    "import numpy as np\n",
    "import a301.radiation"
   ]
  },
  {
   "cell_type": "markdown",
   "metadata": {},
   "source": [
    "# Question 1"
   ]
  },
  {
   "cell_type": "markdown",
   "metadata": {},
   "source": [
    " - (10) A satellite orbiting at an altitude of 36000 km observes the\n",
    "    surface in a thermal channel with a wavelength range of\n",
    "    $8\\ \\mu m < \\lambda < 10\\ \\mu m$.\n",
    "    \n",
    "      - Assuming that the atmosphere has density scale height of\n",
    "        $H_\\rho=10$ km and a surface air density of $\\rho_{air}=1$\n",
    "        and that the absorber has mass absorption coefficient of\n",
    "        $k_\\lambda = 3 \\times 10^{-2}\\ m^2/kg$ at $\\lambda=9\\ \\mu m$\n",
    "        and a mixing ratio $6 \\times 10^{-3}$ kg/kg, find the vertical\n",
    "        optical thickness $\\tau$ and transmittance of the atmosphere\n",
    "        directly beneath the satellite\n",
    "    \n",
    "      - If the surface is black with a temperature of 300 K, and the\n",
    "        atmosphere has an average temperature of 270 K, find the\n",
    "        \n",
    "          - radiance observed by the satellite in at 9 $\\mu m$\n",
    "        \n",
    "          - brightness temperature of the pixel in Kelvin for that\n",
    "            radiance\n",
    "    \n",
    "      - Given a pixel size 2 $km^2$, what is the flux, in , reaching\n",
    "        the satellite in this channel?\n",
    "\n"
   ]
  },
  {
   "cell_type": "markdown",
   "metadata": {},
   "source": [
    "## Question 1a solution\n",
    "\n",
    "Assuming that the atmosphere has density scale height of\n",
    "$H_\\rho=10$ km and a surface air density of $\\rho_{air}=1$\n",
    "and that the absorber has mass absorption coefficient of\n",
    "$k_\\lambda = 3 \\times 10^{-2}\\ m^2/kg$ at $\\lambda=9\\ \\mu m$\n",
    "and a mixing ratio $6 \\times 10^{-3}$ kg/kg, find the vertical\n",
    "optical thickness $\\tau$ and transmittance of the atmosphere\n",
    "directly beneath the satellite"
   ]
  },
  {
   "cell_type": "markdown",
   "metadata": {
    "collapsed": true
   },
   "source": [
    "$$\\rho_{atm} = \\rho_0 \\exp \\left ( -z/H \\right )$$\n",
    "\n",
    "$$H=10\\ km$$\n",
    "\n",
    "$$\\tau = \\int_0^{3.6e6}k \\rho_0 \\exp (-z/H ) r_{mix} dz$$\n",
    "\n",
    "$$\\tau = -H k \\exp(-z^\\prime/H ) \\rho_0 r_{mix}  \\big \\rvert_0^{3.6e6} =0 - (-Hk \\rho_0 r_{mix})=H k \\rho_0 r_{mix} $$\n",
    "\n",
    "$$t=\\exp(-\\tau)$$"
   ]
  },
  {
   "cell_type": "code",
   "execution_count": 2,
   "metadata": {},
   "outputs": [
    {
     "name": "stdout",
     "output_type": "stream",
     "text": [
      "optical thickness τ=1.8 and transmittance t= 0.17\n"
     ]
    }
   ],
   "source": [
    "H=10000.\n",
    "k=3.e-2\n",
    "rho0=1.\n",
    "rmix=6.e-3\n",
    "tau = H*k*rho0*rmix\n",
    "t=np.exp(-tau)\n",
    "print(f'optical thickness τ={tau} and transmittance t={t:5.2f}')"
   ]
  },
  {
   "cell_type": "markdown",
   "metadata": {},
   "source": [
    "## Question 1b solution\n",
    "- If the surface is black with a temperature of 300 K, and the\n",
    "        atmosphere has an average temperature of 270 K, find the\n",
    "        \n",
    "          - radiance observed by the satellite in at 9 $\\mu m$\n",
    "        \n",
    "          - brightness temperature of the pixel in Kelvin for that\n",
    "            radiance"
   ]
  },
  {
   "cell_type": "markdown",
   "metadata": {},
   "source": [
    "$$L_{atm}= B(300)*\\exp(-\\tau) + (1 - \\exp(-\\tau))*B(270)$$"
   ]
  },
  {
   "cell_type": "code",
   "execution_count": 3,
   "metadata": {
    "scrolled": true
   },
   "outputs": [
    {
     "name": "stdout",
     "output_type": "stream",
     "text": [
      "6153879.87160191\n",
      "radiance is  6.15 W/m^2/microns/sr\n",
      "brightness temperature is 275.85 K\n"
     ]
    }
   ],
   "source": [
    "t=np.exp(-tau)\n",
    "e=1 - t\n",
    "L270=a301.radiation.calc_radiance(9.e-6,270)\n",
    "L300=a301.radiation.calc_radiance(9.e-6,300)\n",
    "Lsat = t*L300 + e*L270\n",
    "print(Lsat)\n",
    "Tbright=a301.radiation.planck_invert(9.e-6,Lsat)\n",
    "print(f'radiance is {Lsat*1.e-6:5.2f} W/m^2/microns/sr')\n",
    "print(f'brightness temperature is {Tbright:5.2f} K')"
   ]
  },
  {
   "cell_type": "markdown",
   "metadata": {},
   "source": [
    "## Question 1c solution:\n",
    "- Given a pixel size 2 $km^2$, what is the flux, in , reaching\n",
    "    the satellite in this channel?\n",
    "\n"
   ]
  },
  {
   "cell_type": "markdown",
   "metadata": {},
   "source": [
    "$\\Delta \\omega = A/R^2 = 2/36000^2. = 1.54 \\times 10^{-9}$ sr\n",
    "\n",
    "$E = L \\Delta \\omega \\,\\Delta \\lambda  = 6.15\\ W\\,m^2\\,\\mu^{-1} m \\times 1.54 \\times 10^{-9} \\times 2$\n"
   ]
  },
  {
   "cell_type": "code",
   "execution_count": 4,
   "metadata": {},
   "outputs": [
    {
     "name": "stdout",
     "output_type": "stream",
     "text": [
      "flux in channel is 1.9e-08 W/m^2\n"
     ]
    }
   ],
   "source": [
    "Eout=6.15*1.54e-9*2\n",
    "print(f'flux in channel is {Eout:5.2g} W/m^2')"
   ]
  },
  {
   "cell_type": "markdown",
   "metadata": {},
   "source": [
    "# Question 2\n",
    "\n",
    "## Question 2a solution\n",
    "\n",
    "- (3) A cone has a spreading angle of 35 degrees between its\n",
    "      center and its side. What is its subtended solid angle?\n",
    "      \n",
    "$$\\omega = \\int_0^{2\\pi} \\int_0^{35} \\sin \\theta d\\theta d\\phi = 2\\pi (-\\cos \\theta \\big \\rvert_0^{35}) = 2 \\pi (1 - \\cos(35))$$"
   ]
  },
  {
   "cell_type": "code",
   "execution_count": 5,
   "metadata": {},
   "outputs": [
    {
     "name": "stdout",
     "output_type": "stream",
     "text": [
      "solid angle =  1.14 sr\n"
     ]
    }
   ],
   "source": [
    "omega = 2*np.pi*(1 - np.cos(35*np.pi/180.))\n",
    "print(f'solid angle = {omega:5.2f} sr')"
   ]
  },
  {
   "cell_type": "markdown",
   "metadata": {},
   "source": [
    "      \n",
    "## Question 2b solution      \n",
    "    \n",
    "- (3) Assuming that radiance is independent of the distance $d$\n",
    "      between an instrument and a surface, show that the flux from the\n",
    "      surface decreases as $1/d^2$\n",
    "      \n",
    "Given  a narrow field of view of a pixel the radiance is:\n",
    "\n",
    "$$E \\approx L \\Delta \\omega$$\n",
    "\n",
    "where $\\Delta \\omega = A/d^2$ with A the area of the pixel.  Since $L$ is constant, $E \\propto 1/d^2$"
   ]
  },
  {
   "cell_type": "markdown",
   "metadata": {},
   "source": [
    "# Question 3 \n",
    "\n",
    "Integrate the Schwartzchild equation for constant temperature\n",
    "\n",
    "## Question 3 solution\n",
    "           \n",
    "1. We know the emission from an infinitesimally thin layer:\n",
    "\n",
    "   $$ dL_{emission} = B_{\\lambda} (T_{layer}) de_\\lambda = B_{\\lambda} (T_{layer}) d\\tau_\\lambda$$\n",
    "\n",
    "\n",
    "2. Add the gain from $dL_{emission}$ to the loss from $dL_{absorption}$ to get\n",
    "   the **Schwartzchild equation** without scattering:\n",
    "\n",
    "   $$  dL_{\\lambda,absorption} + dL_{\\lambda,emission}  = -L_\\lambda\\, d\\tau_\\lambda + B_\\lambda (T_{layer})\\, d\\tau_\\lambda $$\n",
    "\n",
    "3.  We can rewrite :eq:$schwart1$ as:\n",
    "     \n",
    "    $$  \\frac{dL_\\lambda}{d\\tau_\\lambda} = -L_\\lambda + B_\\lambda (T_{layer})$$\n",
    "\n",
    "4. In class I used change of variables to derived the following: if the temperature $T_{layer}$  (and hence $B_\\lambda(T_{layer})$) is constant with height and the radiance arriving at the base of the layer is $L_{\\lambda 0} = B_{\\lambda} T_{skin}$ for a black surface with $e_\\lambda = 1$, then the total radiance exiting the top of the layer is $L_{\\lambda}$ where:\n",
    "\n",
    "   $$ \\int_{L_{\\lambda 0}}^{L_\\lambda} \\frac{dL^\\prime_\\lambda}{L^\\prime_\\lambda -\n",
    "           B_\\lambda} = - \\int_{0}^{\\tau_{T}} d\\tau^\\prime $$\n",
    "\n",
    "   Where the limits of integration run from just above the black surface (where the radiance from\n",
    "   the surface is $L_{\\lambda 0}$) and $\\tau=0$ to the top of the layer, (where the radiance is $L_\\lambda$) and the optical thickness is $\\tau_{\\lambda T}$.\n",
    "\n",
    "   To integrate this, make the change of variables:\n",
    "\n",
    "\n",
    "\n",
    "\n",
    "\\begin{align}\n",
    "  U^\\prime &= L^\\prime_\\lambda - B_\\lambda \\\\\n",
    "  dU^\\prime &= dL^\\prime_\\lambda\\\\\n",
    "  \\frac{dL^\\prime_\\lambda}{L^\\prime_\\lambda -\n",
    "   B_\\lambda} &= \\frac{dU^\\prime}{U^\\prime} = d\\ln U^\\prime\n",
    "\\end{align}\n",
    "\n",
    "       \n",
    "\n",
    "   where I have made use of the fact that $dB_\\lambda = 0$ since the temperature is constant.\n",
    "\n",
    "   This means that we can now solve this by integrating a perfect differential:\n",
    "      \n",
    "   $$\n",
    "     \\int_{U_0}^U d\\ln U^\\prime = \\ln \\left (\\frac{U}{U_0} \\right ) =  \\ln \\left (\\frac{L_\\lambda - B_\\lambda}{L_{\\lambda 0} - B_\\lambda} \\right ) = - \\tau_{\\lambda T} $$\n",
    "\n",
    "   Taking the $\\exp$ of both sides:\n",
    "\n",
    "   $$   L_\\lambda - B_\\lambda = (L_{\\lambda 0} - B_\\lambda) \\exp (-\\tau_{\\lambda T}) $$\n",
    "\n",
    "      \n",
    "   or rearranging and recognizing that the transmittance is $\\hat{t_\\lambda} = \\exp(-\\tau_{\\lambda T} )$:\n",
    "\n",
    "   $$  L_\\lambda = L_{\\lambda 0} \\exp( -\\tau_{\\lambda T}  ) + B_\\lambda (T_{layer})(1- \\exp( -\\tau_{\\lambda T} )) $$\n",
    "\n",
    "              \n",
    "   $$   L_\\lambda = L_{\\lambda 0} \\hat{t}_{\\lambda}  + B_\\lambda (T_{layer})(1- \\hat{t}_{\\lambda}) $$\n",
    "\n",
    "   $$ L_\\lambda = L_{\\lambda 0}  \\hat{t}_{\\lambda} + B_\\lambda (T_{layer})a_\\lambda $$\n",
    "\n",
    "5. so bringing in Kirchoff's law, the radiance exiting the top of the isothermal layer of thickness $\\Delta \\tau$ is:   \n",
    "\n",
    "   $$  L_\\lambda = L_{\\lambda 0}  \\hat{t}_{\\lambda} + e_\\lambda B_\\lambda $$\n",
    "\n"
   ]
  },
  {
   "cell_type": "markdown",
   "metadata": {},
   "source": [
    "# Question 4"
   ]
  },
  {
   "cell_type": "markdown",
   "metadata": {},
   "source": [
    "- Pyresample (10)\n",
    "\n",
    "Consider the following code:\n",
    "\n",
    "    from pyresample import  SwathDefinition, kd_tree, geometry\n",
    "    proj_params = get_proj_params(m5_file)\n",
    "    swath_def = SwathDefinition(lons_5km, lats_5km)\n",
    "    area_def_lr=swath_def.compute_optimal_bb_area(proj_dict=proj_params)\n",
    "    area_def_lr.name=\"ir wv retrieval modis 5 km resolution (lr=low resolution)\"\n",
    "    area_def_lr.area_id='modis_ir_wv'\n",
    "    area_def_lr.job_id = area_def_lr.area_id\n",
    "    fill_value=-9999.\n",
    "    image_wv_ir = kd_tree.resample_nearest(swath_def, wv_ir_scaled.ravel(),\n",
    "                                      area_def_lr, radius_of_influence=5000, \n",
    "                                          nprocs=2,fill_value=fill_value)\n",
    "    image_wv_ir[image_wv_ir < -9000]=np.nan\n",
    "    print(f'\\ndump area definition:\\n{area_def_lr}\\n')\n",
    "    print((f'\\nx and y pixel dimensions in meters:'\n",
    "           f'\\n{area_def_lr.pixel_size_x}\\n{area_def_lr.pixel_size_y}\\n'))\n",
    "\n",
    "In the context of this snippet, explain what the following objects\n",
    "(i.e. their type, what some of their attributes are, etc.) and how\n",
    "they are used to map a satellite image:"
   ]
  },
  {
   "cell_type": "markdown",
   "metadata": {},
   "source": [
    "## Question 4 solution\n",
    "\n",
    "- proj\\_params\n",
    "\n",
    "dictionary holding parameters for a map projection that\n",
    "can be used by pyproj to map lat/lon to x/y: datum, lat\\_0, lon\\_0\n",
    "name of projection etc.\n",
    "\n",
    "- swath\\_def\n",
    "\n",
    "object of type pyresample.geometry.SwathDefinition that holds data and\n",
    "functions needed to convert modis pixel lat/lon values to x,y -- pass as input\n",
    "to kd_tree_resample_nearest\n",
    "\n",
    "- area\\_def\\_lr\n",
    "\n",
    "object of type pyresample.geometry.AreaDefinition that holds x,y array information\n",
    "like number of rows, number of columns and image extent in x and y.\n",
    "\n",
    "- wv\\_ir\\_scaled.ravel()\n",
    "\n",
    "water vapor data scaled to units of cm in the column and converted to a 1-dimensional\n",
    "vector using the ravel method.\n",
    "\n",
    "- kd\\_tree.resample\\_nearest\n",
    "\n",
    "function that takes water vapor values and sorts them onto an x,y grid based on\n",
    "their lat/lon values from the swath\\_def object.  This is the mapped image."
   ]
  },
  {
   "cell_type": "code",
   "execution_count": 6,
   "metadata": {},
   "outputs": [
    {
     "name": "stdout",
     "output_type": "stream",
     "text": [
      "/Users/phil/repos/a301_web/notebooks\r\n"
     ]
    }
   ],
   "source": [
    "!pwd"
   ]
  },
  {
   "cell_type": "code",
   "execution_count": null,
   "metadata": {},
   "outputs": [],
   "source": []
  }
 ],
 "metadata": {
  "kernelspec": {
   "display_name": "Python 3",
   "language": "python",
   "name": "python3"
  },
  "language_info": {
   "codemirror_mode": {
    "name": "ipython",
    "version": 3
   },
   "file_extension": ".py",
   "mimetype": "text/x-python",
   "name": "python",
   "nbconvert_exporter": "python",
   "pygments_lexer": "ipython3",
   "version": "3.6.6"
  },
  "toc": {
   "base_numbering": 1,
   "nav_menu": {},
   "number_sections": true,
   "sideBar": false,
   "skip_h1_title": false,
   "title_cell": "Table of Contents",
   "title_sidebar": "Contents",
   "toc_cell": true,
   "toc_position": {},
   "toc_section_display": true,
   "toc_window_display": false
  }
 },
 "nbformat": 4,
 "nbformat_minor": 1
}
