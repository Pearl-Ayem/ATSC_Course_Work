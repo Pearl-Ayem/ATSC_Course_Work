{
 "cells": [
  {
   "cell_type": "markdown",
   "metadata": {
    "deletable": false,
    "editable": false,
    "nbgrader": {
     "cell_type": "markdown",
     "checksum": "73e2e64190257cc959369b905a389670",
     "grade": false,
     "grade_id": "cell-f3cd7e31ea5bb531",
     "locked": true,
     "schema_version": 2,
     "solution": false
    },
    "toc": true
   },
   "source": [
    "<h1>Table of Contents<span class=\"tocSkip\"></span></h1>\n",
    "<div class=\"toc\"><ul class=\"toc-item\"><li><span><a href=\"#Assignment-3----brightness-temperatures\" data-toc-modified-id=\"Assignment-3----brightness-temperatures-1\"><span class=\"toc-item-num\">1&nbsp;&nbsp;</span>Assignment 3 -- brightness temperatures</a></span></li><li><span><a href=\"#Problem-1\" data-toc-modified-id=\"Problem-1-2\"><span class=\"toc-item-num\">2&nbsp;&nbsp;</span>Problem 1</a></span></li><li><span><a href=\"#Problem-2\" data-toc-modified-id=\"Problem-2-3\"><span class=\"toc-item-num\">3&nbsp;&nbsp;</span>Problem 2</a></span></li></ul></div>"
   ]
  },
  {
   "cell_type": "markdown",
   "metadata": {},
   "source": [
    "# Assignment 3 -- brightness temperatures\n",
    "\n",
    "Upload this notebook to canvas by 10am Monday Sept. 24"
   ]
  },
  {
   "cell_type": "markdown",
   "metadata": {},
   "source": [
    "# Problem 1\n",
    "\n",
    "In the cell below define a function that inverts the radiance (in MKS units) for the\n",
    "brightness temperature in Kelvins.  Use the same format as the planck_function notebook,\n",
    "and use the %%file magic to output your function to a file called planck_invert.py\n",
    "\n",
    "i.e. the top of the cell should look like:\n",
    "\n",
    "```python\n",
    "%%file planck_invert.py\n",
    "def radiance_invert(wavelengths, Lstar):\n",
    "   etc.\n",
    "```"
   ]
  },
  {
   "cell_type": "code",
   "execution_count": null,
   "metadata": {
    "deletable": false,
    "nbgrader": {
     "cell_type": "code",
     "checksum": "303435baebb7fbf20a3cb612b5dbade4",
     "grade": true,
     "grade_id": "cell-206dc641e6c908a8",
     "locked": false,
     "points": 2,
     "schema_version": 2,
     "solution": true
    }
   },
   "outputs": [],
   "source": [
    "# YOUR CODE HERE\n",
    "raise NotImplementedError()"
   ]
  },
  {
   "cell_type": "markdown",
   "metadata": {},
   "source": [
    "# Problem 2\n",
    "\n",
    "In the next cell import your radiance_invert function and use it to turn the calibrated\n",
    "radiances you've written out in your modis_data_analysis notebook into brightness temperatures\n",
    "in Kelvins.  Plot the temperatures as an image, using a colorbar as in Modis level1b notebook"
   ]
  },
  {
   "cell_type": "code",
   "execution_count": null,
   "metadata": {
    "deletable": false,
    "nbgrader": {
     "cell_type": "code",
     "checksum": "8529c7266d2616765e89741bd03bb202",
     "grade": true,
     "grade_id": "cell-9ac0c71d83105f1c",
     "locked": false,
     "points": 2,
     "schema_version": 2,
     "solution": true
    }
   },
   "outputs": [],
   "source": [
    "# YOUR CODE HERE\n",
    "raise NotImplementedError()"
   ]
  }
 ],
 "metadata": {
  "kernelspec": {
   "display_name": "Python 3",
   "language": "python",
   "name": "python3"
  },
  "language_info": {
   "codemirror_mode": {
    "name": "ipython",
    "version": 3
   },
   "file_extension": ".py",
   "mimetype": "text/x-python",
   "name": "python",
   "nbconvert_exporter": "python",
   "pygments_lexer": "ipython3",
   "version": "3.6.6"
  },
  "toc": {
   "base_numbering": 1,
   "nav_menu": {},
   "number_sections": true,
   "sideBar": false,
   "skip_h1_title": false,
   "title_cell": "Table of Contents",
   "title_sidebar": "Contents",
   "toc_cell": true,
   "toc_position": {},
   "toc_section_display": true,
   "toc_window_display": false
  }
 },
 "nbformat": 4,
 "nbformat_minor": 2
}
